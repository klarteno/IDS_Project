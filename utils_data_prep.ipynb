{
  "cells": [
    {
      "cell_type": "markdown",
      "metadata": {
        "colab_type": "text",
        "id": "view-in-github"
      },
      "source": [
        "<a href=\"https://colab.research.google.com/gist/klarteno/0eee61b980f8feca34c731338f03b5b7/copy-of-aml-final-project.ipynb\" target=\"_parent\"><img src=\"https://colab.research.google.com/assets/colab-badge.svg\" alt=\"Open In Colab\"/></a>"
      ]
    },
    {
      "cell_type": "markdown",
      "metadata": {},
      "source": [
        "##### use the .py version of this for import in notebooks\n"
      ]
    },
    {
      "cell_type": "code",
      "execution_count": 1,
      "metadata": {
        "id": "r9YGgf9KND8p"
      },
      "outputs": [
        {
          "name": "stderr",
          "output_type": "stream",
          "text": [
            "c:\\Users\\androgo\\anaconda3\\envs\\pytorch_env\\lib\\site-packages\\tqdm\\auto.py:22: TqdmWarning: IProgress not found. Please update jupyter and ipywidgets. See https://ipywidgets.readthedocs.io/en/stable/user_install.html\n",
            "  from .autonotebook import tqdm as notebook_tqdm\n"
          ]
        }
      ],
      "source": [
        "import torch\n",
        "import numpy as np\n",
        "import pandas as pd\n",
        "import sys\n",
        "import os\n",
        "\n",
        "from torchvision.transforms import ToTensor\n",
        "\n",
        "import matplotlib.pyplot as plt\n",
        "\n",
        "import torch.nn as nn\n",
        "import torch.nn.functional as F\n",
        "import torch.optim as optim\n",
        "from torch.utils.data import Dataset,DataLoader\n",
        "\n",
        "from sklearn.model_selection import train_test_split\n",
        "from sklearn.preprocessing import StandardScaler, MinMaxScaler, LabelEncoder #, OneHotEncoder\n",
        "\n",
        "from pprint import pprint\n",
        "import time\n",
        "import import_ipynb\n"
      ]
    },
    {
      "cell_type": "code",
      "execution_count": 2,
      "metadata": {
        "colab": {
          "base_uri": "https://localhost:8080/"
        },
        "id": "-ehlkCF4yoTM",
        "outputId": "52a5b938-c1aa-4e2f-8bb6-94c2c2b772bf"
      },
      "outputs": [
        {
          "data": {
            "text/plain": [
              "\"\\nfrom google.colab import drive\\ndrive.mount('/content/drive', force_remount=True)\\n%cd '/content/drive/My Drive/1_MalmoUni/AdvML/Project'\\n\""
            ]
          },
          "execution_count": 2,
          "metadata": {},
          "output_type": "execute_result"
        }
      ],
      "source": [
        "'''\n",
        "from google.colab import drive\n",
        "drive.mount('/content/drive', force_remount=True)\n",
        "%cd '/content/drive/My Drive/1_MalmoUni/AdvML/Project'\n",
        "'''"
      ]
    },
    {
      "cell_type": "code",
      "execution_count": 3,
      "metadata": {
        "id": "Kxlm-4C3ysAs"
      },
      "outputs": [
        {
          "name": "stdout",
          "output_type": "stream",
          "text": [
            "DEVICE cuda\n"
          ]
        }
      ],
      "source": [
        "if torch.cuda.is_available():\n",
        "   torch.cuda.empty_cache() \n",
        "DEVICE = 'cuda' if torch.cuda.is_available() else 'cpu'\n",
        "print('DEVICE', DEVICE) \n",
        "\n",
        "import random, torch, os, numpy as np\n",
        "\n",
        "def seed_everything(seed=42):\n",
        "    os.environ['PYTHONHASHSEED'] = str(seed)\n",
        "    random.seed(seed)\n",
        "    np.random.seed(seed)\n",
        "    torch.manual_seed(seed)\n",
        "    torch.cuda.manual_seed(seed)\n",
        "    torch.cuda.manual_seed_all(seed)\n",
        "    torch.backends.cudnn.deterministic = True\n",
        "    torch.backends.cudnn.benchmark = False\n",
        "\n",
        "seed_everything()"
      ]
    },
    {
      "cell_type": "markdown",
      "metadata": {
        "id": "Ij4pui6AT-9m"
      },
      "source": [
        "## Store All CSV Filenames in the Dataset in an Array"
      ]
    },
    {
      "cell_type": "code",
      "execution_count": 6,
      "metadata": {
        "id": "VWOp0fkAyxRD"
      },
      "outputs": [
        {
          "name": "stdout",
          "output_type": "stream",
          "text": [
            "C:/Users/androgo/Documents/Python Scripts/IDS/CICIDS2017_notebooks/IDS_Project/datasets/MachineLearningCSV/MachineLearningCVE\\Friday-WorkingHours-Afternoon-DDos.pcap_ISCX.csv\n",
            "C:/Users/androgo/Documents/Python Scripts/IDS/CICIDS2017_notebooks/IDS_Project/datasets/MachineLearningCSV/MachineLearningCVE\\Friday-WorkingHours-Afternoon-PortScan.pcap_ISCX.csv\n",
            "C:/Users/androgo/Documents/Python Scripts/IDS/CICIDS2017_notebooks/IDS_Project/datasets/MachineLearningCSV/MachineLearningCVE\\Friday-WorkingHours-Morning.pcap_ISCX.csv\n",
            "C:/Users/androgo/Documents/Python Scripts/IDS/CICIDS2017_notebooks/IDS_Project/datasets/MachineLearningCSV/MachineLearningCVE\\Monday-WorkingHours.pcap_ISCX.csv\n",
            "C:/Users/androgo/Documents/Python Scripts/IDS/CICIDS2017_notebooks/IDS_Project/datasets/MachineLearningCSV/MachineLearningCVE\\Thursday-WorkingHours-Afternoon-Infilteration.pcap_ISCX.csv\n",
            "C:/Users/androgo/Documents/Python Scripts/IDS/CICIDS2017_notebooks/IDS_Project/datasets/MachineLearningCSV/MachineLearningCVE\\Thursday-WorkingHours-Morning-WebAttacks.pcap_ISCX.csv\n",
            "C:/Users/androgo/Documents/Python Scripts/IDS/CICIDS2017_notebooks/IDS_Project/datasets/MachineLearningCSV/MachineLearningCVE\\Tuesday-WorkingHours.pcap_ISCX.csv\n",
            "C:/Users/androgo/Documents/Python Scripts/IDS/CICIDS2017_notebooks/IDS_Project/datasets/MachineLearningCSV/MachineLearningCVE\\Wednesday-workingHours.pcap_ISCX.csv\n"
          ]
        }
      ],
      "source": [
        "# root_dir = 'CICIDS2017'\n",
        "csv_files = []\n",
        "for dirname, _, filenames in os.walk('C:/Users/androgo/Documents/Python Scripts/IDS/CICIDS2017_notebooks/IDS_Project/datasets/MachineLearningCSV/MachineLearningCVE'):\n",
        "  # yelds a 3-tuple (dirpath, (sub)dirnmes, filenames)\n",
        "    for filename in filenames:\n",
        "        csv_file = os.path.join(dirname, filename)\n",
        "        print(csv_file)\n",
        "        csv_files.append(csv_file)"
      ]
    },
    {
      "cell_type": "markdown",
      "metadata": {
        "id": "gSAack2AUjMe"
      },
      "source": [
        "## Concatenate the data from all CSV files into one Pandas DataFrame"
      ]
    },
    {
      "cell_type": "code",
      "execution_count": 7,
      "metadata": {
        "colab": {
          "base_uri": "https://localhost:8080/",
          "height": 363
        },
        "id": "-TS3JZ0ARbxR",
        "outputId": "1b19dc30-354a-4191-fd69-9ff96482aaf0"
      },
      "outputs": [
        {
          "name": "stdout",
          "output_type": "stream",
          "text": [
            "(2830743, 79)\n"
          ]
        }
      ],
      "source": [
        "week_data = pd.concat([pd.read_csv(file) for file in csv_files], ignore_index=True)\n",
        "#print(\"original length of week_data:\", len(week_data))\n",
        "print(week_data.shape)"
      ]
    },
    {
      "cell_type": "code",
      "execution_count": null,
      "metadata": {
        "colab": {
          "base_uri": "https://localhost:8080/"
        },
        "id": "K8m2bwdlU7Eu",
        "outputId": "c0bc30a7-6a64-494e-97e9-104a378f040a"
      },
      "outputs": [
        {
          "name": "stdout",
          "output_type": "stream",
          "text": [
            "<class 'pandas.core.frame.DataFrame'>\n",
            "Flow Bytes/s : 1358\n"
          ]
        }
      ],
      "source": [
        "def print_nans():\n",
        "    print(type(week_data))\n",
        "    result = week_data.isna().sum()\n",
        "    for idx in result.index:\n",
        "        if result[idx] > 0:\n",
        "            print(idx,':' ,result[idx])\n",
        "            \n",
        "print_nans()            "
      ]
    },
    {
      "cell_type": "markdown",
      "metadata": {
        "id": "V9hlBnPMAakD"
      },
      "source": [
        "## Data Preprocessing\n",
        "Dropping lines that contain invalid values"
      ]
    },
    {
      "cell_type": "code",
      "execution_count": null,
      "metadata": {
        "colab": {
          "base_uri": "https://localhost:8080/"
        },
        "id": "ys0TbmCtvUut",
        "outputId": "9ce597e6-a752-4fd9-a7e2-501be550702d"
      },
      "outputs": [
        {
          "name": "stdout",
          "output_type": "stream",
          "text": [
            "<class 'pandas.core.frame.DataFrame'>\n",
            "Flow Bytes/s : 2867\n",
            "Flow Packets/s : 2867\n"
          ]
        }
      ],
      "source": [
        "week_data.columns = week_data.columns.str.strip()\n",
        "week_data.replace([np.inf, -np.inf],  np.nan, inplace=True)  # replace -infinity and+infinity with NaN\n",
        "week_data.dropna(inplace=True)    #remove missing values\n",
        "# print(\"Length of week_data after droping null values:\", len(week_data))"
      ]
    },
    {
      "cell_type": "markdown",
      "metadata": {
        "id": "Oz596cTtr6h_"
      },
      "source": [
        "### Print Info - Classes in the Dataset\n",
        "\n",
        "###### - when assessing the distribution of labels, it turns out that the classes are inbalanced and this id expected for network data"
      ]
    },
    {
      "cell_type": "code",
      "execution_count": null,
      "metadata": {
        "colab": {
          "base_uri": "https://localhost:8080/"
        },
        "id": "46Bu__FcV1sf",
        "outputId": "2e91da04-ae13-4399-9007-c668c2db6629"
      },
      "outputs": [
        {
          "name": "stdout",
          "output_type": "stream",
          "text": [
            "BENIGN                        2271320\n",
            "DoS Hulk                       230124\n",
            "PortScan                       158804\n",
            "DDoS                           128025\n",
            "DoS GoldenEye                   10293\n",
            "FTP-Patator                      7935\n",
            "SSH-Patator                      5897\n",
            "DoS slowloris                    5796\n",
            "DoS Slowhttptest                 5499\n",
            "Bot                              1956\n",
            "Web Attack � Brute Force         1507\n",
            "Web Attack � XSS                  652\n",
            "Infiltration                       36\n",
            "Web Attack � Sql Injection         21\n",
            "Heartbleed                         11\n",
            "Name: Label, dtype: int64\n",
            "\n",
            " Number of Labels:  15\n"
          ]
        }
      ],
      "source": [
        "print(\"\\n Number of Labels: \",week_data.Label.nunique())\n",
        "print(\"Nuber or records/observations per label:\\n\", week_data.Label.value_counts())\n",
        "#week_data.head()"
      ]
    },
    {
      "cell_type": "code",
      "execution_count": null,
      "metadata": {
        "id": "5tEZWMmHkbHB"
      },
      "outputs": [
        {
          "name": "stdout",
          "output_type": "stream",
          "text": [
            "Destination Port\n",
            "Flow Duration\n",
            "Total Fwd Packets\n",
            "Total Backward Packets\n",
            "Total Length of Fwd Packets\n",
            "Total Length of Bwd Packets\n",
            "Fwd Packet Length Max\n",
            "Fwd Packet Length Min\n",
            "Fwd Packet Length Mean\n",
            "Fwd Packet Length Std\n",
            "Bwd Packet Length Max\n",
            "Bwd Packet Length Min\n",
            "Bwd Packet Length Mean\n",
            "Bwd Packet Length Std\n",
            "Flow Bytes/s\n",
            "Flow Packets/s\n",
            "Flow IAT Mean\n",
            "Flow IAT Std\n",
            "Flow IAT Max\n",
            "Flow IAT Min\n",
            "Fwd IAT Total\n",
            "Fwd IAT Mean\n",
            "Fwd IAT Std\n",
            "Fwd IAT Max\n",
            "Fwd IAT Min\n",
            "Bwd IAT Total\n",
            "Bwd IAT Mean\n",
            "Bwd IAT Std\n",
            "Bwd IAT Max\n",
            "Bwd IAT Min\n",
            "Fwd PSH Flags\n",
            "Bwd PSH Flags\n",
            "Fwd URG Flags\n",
            "Bwd URG Flags\n",
            "Fwd Header Length\n",
            "Bwd Header Length\n",
            "Fwd Packets/s\n",
            "Bwd Packets/s\n",
            "Min Packet Length\n",
            "Max Packet Length\n",
            "Packet Length Mean\n",
            "Packet Length Std\n",
            "Packet Length Variance\n",
            "FIN Flag Count\n",
            "SYN Flag Count\n",
            "RST Flag Count\n",
            "PSH Flag Count\n",
            "ACK Flag Count\n",
            "URG Flag Count\n",
            "CWE Flag Count\n",
            "ECE Flag Count\n",
            "Down/Up Ratio\n",
            "Average Packet Size\n",
            "Avg Fwd Segment Size\n",
            "Avg Bwd Segment Size\n",
            "Fwd Header Length.1\n",
            "Fwd Avg Bytes/Bulk\n",
            "Fwd Avg Packets/Bulk\n",
            "Fwd Avg Bulk Rate\n",
            "Bwd Avg Bytes/Bulk\n",
            "Bwd Avg Packets/Bulk\n",
            "Bwd Avg Bulk Rate\n",
            "Subflow Fwd Packets\n",
            "Subflow Fwd Bytes\n",
            "Subflow Bwd Packets\n",
            "Subflow Bwd Bytes\n",
            "Init_Win_bytes_forward\n",
            "Init_Win_bytes_backward\n",
            "act_data_pkt_fwd\n",
            "min_seg_size_forward\n",
            "Active Mean\n",
            "Active Std\n",
            "Active Max\n",
            "Active Min\n",
            "Idle Mean\n",
            "Idle Std\n",
            "Idle Max\n",
            "Idle Min\n",
            "Label\n"
          ]
        }
      ],
      "source": [
        "# iterating the columns\n",
        "for col in week_data.columns:\n",
        "    print(col)"
      ]
    },
    {
      "cell_type": "markdown",
      "metadata": {},
      "source": [
        "Check if there are features that are not numbers"
      ]
    },
    {
      "cell_type": "code",
      "execution_count": null,
      "metadata": {},
      "outputs": [
        {
          "data": {
            "text/plain": [
              "[]"
            ]
          },
          "execution_count": 9,
          "metadata": {},
          "output_type": "execute_result"
        }
      ],
      "source": [
        "string_features = list(week_data.select_dtypes(include=['object']).columns)\n",
        "string_features.remove('Label')\n",
        "string_features  "
      ]
    },
    {
      "cell_type": "markdown",
      "metadata": {},
      "source": [
        "##### Check if somecolumns have the right data type"
      ]
    },
    {
      "cell_type": "code",
      "execution_count": null,
      "metadata": {},
      "outputs": [
        {
          "name": "stdout",
          "output_type": "stream",
          "text": [
            "float64\n",
            "float64\n"
          ]
        }
      ],
      "source": [
        "# week_data2 = week_data.drop(week_data[pd.isnull(week_data['Flow ID'])].index)\n",
        "print(week_data[\"Flow Bytes/s\"].dtype)\n",
        "print(week_data[\"Flow Packets/s\"].dtype)"
      ]
    },
    {
      "cell_type": "markdown",
      "metadata": {
        "id": "ZfyxB9Xrc0vo"
      },
      "source": [
        "## Inputs-Output Data Split"
      ]
    },
    {
      "cell_type": "code",
      "execution_count": null,
      "metadata": {
        "colab": {
          "base_uri": "https://localhost:8080/"
        },
        "id": "9FxgbkWAXIZv",
        "outputId": "0947e91b-1cdd-48a3-90f8-af120cf87a05"
      },
      "outputs": [
        {
          "name": "stdout",
          "output_type": "stream",
          "text": [
            "(2827876, 78)\n",
            "number of labels: 15\n",
            "Labels: ['BENIGN' 'DDoS' 'PortScan' 'Bot' 'Infiltration'\n",
            " 'Web Attack � Brute Force' 'Web Attack � XSS'\n",
            " 'Web Attack � Sql Injection' 'FTP-Patator' 'SSH-Patator' 'DoS slowloris'\n",
            " 'DoS Slowhttptest' 'DoS Hulk' 'DoS GoldenEye' 'Heartbleed']\n",
            "typeof labels: <class 'numpy.ndarray'>\n",
            "\n",
            "Nuber or records/observations per label:\n",
            " BENIGN                        2271320\n",
            "DoS Hulk                       230124\n",
            "PortScan                       158804\n",
            "DDoS                           128025\n",
            "DoS GoldenEye                   10293\n",
            "FTP-Patator                      7935\n",
            "SSH-Patator                      5897\n",
            "DoS slowloris                    5796\n",
            "DoS Slowhttptest                 5499\n",
            "Bot                              1956\n",
            "Web Attack � Brute Force         1507\n",
            "Web Attack � XSS                  652\n",
            "Infiltration                       36\n",
            "Web Attack � Sql Injection         21\n",
            "Heartbleed                         11\n",
            "Name: Label, dtype: int64\n"
          ]
        }
      ],
      "source": [
        "y = week_data.Label\n",
        "X = week_data.drop(columns='Label')\n",
        "\n",
        "class_labels = y.unique()\n",
        "\n",
        "num_classes = y.nunique()     # number of unique values\n",
        "print(\"shape of X: \",X.shape)\n",
        "print(\"number of labels of y: \", num_classes)\n",
        "print(\"Class labels: \", class_labels)\n",
        "print()"
      ]
    },
    {
      "cell_type": "code",
      "execution_count": null,
      "metadata": {},
      "outputs": [
        {
          "data": {
            "text/plain": [
              "\"\\n\\nfrom sklearn.impute import SimpleImputer\\n\\nmean_imp = SimpleImputer(missing_values=-1, strategy='mean')\\ncat_imp = SimpleImputer(missing_values=-1, strategy='most_frequent')\\nfor c in X.columns:\\n  X[c] = mean_imp.fit_transform(X[[c]]).ravel()\\n  \\n\""
            ]
          },
          "execution_count": 15,
          "metadata": {},
          "output_type": "execute_result"
        }
      ],
      "source": [
        "#  are there missing values\n",
        "'''\n",
        "\n",
        "from sklearn.impute import SimpleImputer\n",
        "\n",
        "mean_imp = SimpleImputer(missing_values=-1, strategy='mean')\n",
        "cat_imp = SimpleImputer(missing_values=-1, strategy='most_frequent')\n",
        "for c in X.columns:\n",
        "  X[c] = mean_imp.fit_transform(X[[c]]).ravel()\n",
        "  \n",
        "'''\n"
      ]
    },
    {
      "cell_type": "markdown",
      "metadata": {},
      "source": [
        "##### Select the number of relevant features out of total of 78"
      ]
    },
    {
      "cell_type": "code",
      "execution_count": null,
      "metadata": {
        "colab": {
          "base_uri": "https://localhost:8080/",
          "height": 238
        },
        "id": "lN9xTgzr_EQ9",
        "outputId": "aafeb6b2-0a3c-41db-eea4-c800c0499c4f"
      },
      "outputs": [
        {
          "data": {
            "text/html": [
              "<div>\n",
              "<style scoped>\n",
              "    .dataframe tbody tr th:only-of-type {\n",
              "        vertical-align: middle;\n",
              "    }\n",
              "\n",
              "    .dataframe tbody tr th {\n",
              "        vertical-align: top;\n",
              "    }\n",
              "\n",
              "    .dataframe thead th {\n",
              "        text-align: right;\n",
              "    }\n",
              "</style>\n",
              "<table border=\"1\" class=\"dataframe\">\n",
              "  <thead>\n",
              "    <tr style=\"text-align: right;\">\n",
              "      <th></th>\n",
              "      <th>ACK Flag Count</th>\n",
              "      <th>Active Mean</th>\n",
              "      <th>Active Min</th>\n",
              "      <th>Average Packet Size</th>\n",
              "      <th>Bwd IAT Mean</th>\n",
              "      <th>Bwd Packet Length Min</th>\n",
              "      <th>Bwd Packet Length Std</th>\n",
              "      <th>Bwd Packets/s</th>\n",
              "      <th>Flow Duration</th>\n",
              "      <th>Flow IAT Mean</th>\n",
              "      <th>...</th>\n",
              "      <th>Fwd IAT Min</th>\n",
              "      <th>Fwd PSH Flags</th>\n",
              "      <th>Fwd Packet Length Mean</th>\n",
              "      <th>Fwd Packets/s</th>\n",
              "      <th>Init_Win_bytes_backward</th>\n",
              "      <th>Init_Win_bytes_forward</th>\n",
              "      <th>PSH Flag Count</th>\n",
              "      <th>SYN Flag Count</th>\n",
              "      <th>Subflow Fwd Bytes</th>\n",
              "      <th>Total Length of Fwd Packets</th>\n",
              "    </tr>\n",
              "  </thead>\n",
              "  <tbody>\n",
              "    <tr>\n",
              "      <th>0</th>\n",
              "      <td>1</td>\n",
              "      <td>0.0</td>\n",
              "      <td>0</td>\n",
              "      <td>9.0</td>\n",
              "      <td>0.0</td>\n",
              "      <td>0</td>\n",
              "      <td>0.0</td>\n",
              "      <td>0.000000</td>\n",
              "      <td>3</td>\n",
              "      <td>3.0</td>\n",
              "      <td>...</td>\n",
              "      <td>3</td>\n",
              "      <td>0</td>\n",
              "      <td>6.0</td>\n",
              "      <td>666666.666700</td>\n",
              "      <td>-1</td>\n",
              "      <td>33</td>\n",
              "      <td>0</td>\n",
              "      <td>0</td>\n",
              "      <td>12</td>\n",
              "      <td>12</td>\n",
              "    </tr>\n",
              "    <tr>\n",
              "      <th>1</th>\n",
              "      <td>1</td>\n",
              "      <td>0.0</td>\n",
              "      <td>0</td>\n",
              "      <td>9.0</td>\n",
              "      <td>0.0</td>\n",
              "      <td>6</td>\n",
              "      <td>0.0</td>\n",
              "      <td>9174.311927</td>\n",
              "      <td>109</td>\n",
              "      <td>109.0</td>\n",
              "      <td>...</td>\n",
              "      <td>0</td>\n",
              "      <td>0</td>\n",
              "      <td>6.0</td>\n",
              "      <td>9174.311927</td>\n",
              "      <td>256</td>\n",
              "      <td>29</td>\n",
              "      <td>0</td>\n",
              "      <td>0</td>\n",
              "      <td>6</td>\n",
              "      <td>6</td>\n",
              "    </tr>\n",
              "  </tbody>\n",
              "</table>\n",
              "<p>2 rows × 23 columns</p>\n",
              "</div>"
            ],
            "text/plain": [
              "   ACK Flag Count  Active Mean  Active Min  Average Packet Size  Bwd IAT Mean  \\\n",
              "0               1          0.0           0                  9.0           0.0   \n",
              "1               1          0.0           0                  9.0           0.0   \n",
              "\n",
              "   Bwd Packet Length Min  Bwd Packet Length Std  Bwd Packets/s  Flow Duration  \\\n",
              "0                      0                    0.0       0.000000              3   \n",
              "1                      6                    0.0    9174.311927            109   \n",
              "\n",
              "   Flow IAT Mean  ...  Fwd IAT Min  Fwd PSH Flags  Fwd Packet Length Mean  \\\n",
              "0            3.0  ...            3              0                     6.0   \n",
              "1          109.0  ...            0              0                     6.0   \n",
              "\n",
              "   Fwd Packets/s  Init_Win_bytes_backward  Init_Win_bytes_forward  \\\n",
              "0  666666.666700                       -1                      33   \n",
              "1    9174.311927                      256                      29   \n",
              "\n",
              "   PSH Flag Count  SYN Flag Count  Subflow Fwd Bytes  \\\n",
              "0               0               0                 12   \n",
              "1               0               0                  6   \n",
              "\n",
              "   Total Length of Fwd Packets  \n",
              "0                           12  \n",
              "1                            6  \n",
              "\n",
              "[2 rows x 23 columns]"
            ]
          },
          "execution_count": 11,
          "metadata": {},
          "output_type": "execute_result"
        }
      ],
      "source": [
        "\n",
        "selected_features = [\"Bwd Packet Length Min\", \"Subflow Fwd Bytes\", \"Total Length of Fwd Packets\", \"Fwd Packet Length Mean\", \"Bwd Packet Length Std\", \"Flow IAT Min\", \"Fwd IAT Min\", \"Flow IAT Mean\", \"Flow Duration\", \"Flow IAT Std\", \"Init_Win_bytes_forward\", \"Active Min\", \"Active Mean\", \"Bwd Packets/s\", \"Bwd IAT Mean\", \"Fwd IAT Mean\", \"ACK Flag Count\", \"Fwd PSH Flags\", \"SYN Flag Count\", \"Fwd Packets/s\", \"Init_Win_bytes_backward\", \"PSH Flag Count\", \"Average Packet Size\"]\n",
        "X_select = X[np.intersect1d(X.columns, selected_features)]\n",
        "X_select.head(2)"
      ]
    },
    {
      "cell_type": "code",
      "execution_count": null,
      "metadata": {
        "colab": {
          "base_uri": "https://localhost:8080/"
        },
        "id": "RbXJPB5FbyTt",
        "outputId": "5fbc7846-d038-4190-906f-e793ab8d55d5"
      },
      "outputs": [
        {
          "name": "stdout",
          "output_type": "stream",
          "text": [
            "\n",
            "after spliting the data:\n",
            "training data shape: (2120907, 23)\n",
            "test data shape: (706969, 23)\n",
            "training data shape: (2120907,)\n",
            "test data shape: (706969,)\n"
          ]
        },
        {
          "data": {
            "text/html": [
              "<div>\n",
              "<style scoped>\n",
              "    .dataframe tbody tr th:only-of-type {\n",
              "        vertical-align: middle;\n",
              "    }\n",
              "\n",
              "    .dataframe tbody tr th {\n",
              "        vertical-align: top;\n",
              "    }\n",
              "\n",
              "    .dataframe thead th {\n",
              "        text-align: right;\n",
              "    }\n",
              "</style>\n",
              "<table border=\"1\" class=\"dataframe\">\n",
              "  <thead>\n",
              "    <tr style=\"text-align: right;\">\n",
              "      <th></th>\n",
              "      <th>ACK Flag Count</th>\n",
              "      <th>Active Mean</th>\n",
              "      <th>Active Min</th>\n",
              "      <th>Average Packet Size</th>\n",
              "      <th>Bwd IAT Mean</th>\n",
              "      <th>Bwd Packet Length Min</th>\n",
              "      <th>Bwd Packet Length Std</th>\n",
              "      <th>Bwd Packets/s</th>\n",
              "      <th>Flow Duration</th>\n",
              "      <th>Flow IAT Mean</th>\n",
              "      <th>...</th>\n",
              "      <th>Fwd IAT Min</th>\n",
              "      <th>Fwd PSH Flags</th>\n",
              "      <th>Fwd Packet Length Mean</th>\n",
              "      <th>Fwd Packets/s</th>\n",
              "      <th>Init_Win_bytes_backward</th>\n",
              "      <th>Init_Win_bytes_forward</th>\n",
              "      <th>PSH Flag Count</th>\n",
              "      <th>SYN Flag Count</th>\n",
              "      <th>Subflow Fwd Bytes</th>\n",
              "      <th>Total Length of Fwd Packets</th>\n",
              "    </tr>\n",
              "  </thead>\n",
              "  <tbody>\n",
              "    <tr>\n",
              "      <th>1828626</th>\n",
              "      <td>0</td>\n",
              "      <td>62399.27273</td>\n",
              "      <td>42034</td>\n",
              "      <td>185.976744</td>\n",
              "      <td>5827397.368</td>\n",
              "      <td>0</td>\n",
              "      <td>548.659982</td>\n",
              "      <td>0.173027</td>\n",
              "      <td>115588963</td>\n",
              "      <td>2.752118e+06</td>\n",
              "      <td>...</td>\n",
              "      <td>4</td>\n",
              "      <td>0</td>\n",
              "      <td>57.913043</td>\n",
              "      <td>0.198981</td>\n",
              "      <td>1042</td>\n",
              "      <td>29200</td>\n",
              "      <td>1</td>\n",
              "      <td>0</td>\n",
              "      <td>1332</td>\n",
              "      <td>1332</td>\n",
              "    </tr>\n",
              "    <tr>\n",
              "      <th>2095131</th>\n",
              "      <td>0</td>\n",
              "      <td>0.00000</td>\n",
              "      <td>0</td>\n",
              "      <td>67.750000</td>\n",
              "      <td>48.000</td>\n",
              "      <td>83</td>\n",
              "      <td>0.000000</td>\n",
              "      <td>16528.925620</td>\n",
              "      <td>121</td>\n",
              "      <td>4.033333e+01</td>\n",
              "      <td>...</td>\n",
              "      <td>1</td>\n",
              "      <td>0</td>\n",
              "      <td>35.000000</td>\n",
              "      <td>16528.925620</td>\n",
              "      <td>-1</td>\n",
              "      <td>-1</td>\n",
              "      <td>0</td>\n",
              "      <td>0</td>\n",
              "      <td>70</td>\n",
              "      <td>70</td>\n",
              "    </tr>\n",
              "  </tbody>\n",
              "</table>\n",
              "<p>2 rows × 23 columns</p>\n",
              "</div>"
            ],
            "text/plain": [
              "         ACK Flag Count  Active Mean  Active Min  Average Packet Size  \\\n",
              "1828626               0  62399.27273       42034           185.976744   \n",
              "2095131               0      0.00000           0            67.750000   \n",
              "\n",
              "         Bwd IAT Mean  Bwd Packet Length Min  Bwd Packet Length Std  \\\n",
              "1828626   5827397.368                      0             548.659982   \n",
              "2095131        48.000                     83               0.000000   \n",
              "\n",
              "         Bwd Packets/s  Flow Duration  Flow IAT Mean  ...  Fwd IAT Min  \\\n",
              "1828626       0.173027      115588963   2.752118e+06  ...            4   \n",
              "2095131   16528.925620            121   4.033333e+01  ...            1   \n",
              "\n",
              "         Fwd PSH Flags  Fwd Packet Length Mean  Fwd Packets/s  \\\n",
              "1828626              0               57.913043       0.198981   \n",
              "2095131              0               35.000000   16528.925620   \n",
              "\n",
              "         Init_Win_bytes_backward  Init_Win_bytes_forward  PSH Flag Count  \\\n",
              "1828626                     1042                   29200               1   \n",
              "2095131                       -1                      -1               0   \n",
              "\n",
              "         SYN Flag Count  Subflow Fwd Bytes  Total Length of Fwd Packets  \n",
              "1828626               0               1332                         1332  \n",
              "2095131               0                 70                           70  \n",
              "\n",
              "[2 rows x 23 columns]"
            ]
          },
          "execution_count": 12,
          "metadata": {},
          "output_type": "execute_result"
        }
      ],
      "source": [
        "# sklearn.model_selection.train_test_split(*arrays, test_size=None, train_size=None, random_state=None, shuffle=True, stratify=None)\n",
        "# *arrays - Allowed inputs are lists, numpy arrays, scipy-sparse matrices or pandas dataframes.\n",
        "# test_size: float, between 0.0 and 1.0 Default: (1-train_size); if train_size is also None, test_size will be set to 0.25.\n",
        "# train_size: default (1-test_size); 0.75\n",
        "# random_state: Controls the shuffling applied to the data before applying the split ?Pass an int for reproducible output across multiple function calls? (random generator seed = 42 -(The Hitchhiker's Guide to the Galaxy))\n",
        "# Returns: List containing train-test split of inputs. splitting: list, length=2 * len(arrays)\n",
        "\n",
        "X_train, X_test, y_train, y_test = train_test_split(X_select, y, random_state=99, stratify=y)\n",
        "\n",
        "print(\"\\nafter spliting the data:\")\n",
        "print(\"training data shape:\", X_train.shape)\n",
        "print(\"test data shape:\", X_test.shape)\n",
        "print(\"training data shape:\", y_train.shape)\n",
        "print(\"test data shape:\", y_test.shape)\n",
        "X_train.head(2)"
      ]
    },
    {
      "cell_type": "markdown",
      "metadata": {},
      "source": [
        "##### Encode the text of the labels to numbers"
      ]
    },
    {
      "cell_type": "code",
      "execution_count": null,
      "metadata": {},
      "outputs": [
        {
          "name": "stdout",
          "output_type": "stream",
          "text": [
            "{'BENIGN': 0,\n",
            " 'Bot': 1,\n",
            " 'DDoS': 2,\n",
            " 'DoS GoldenEye': 3,\n",
            " 'DoS Hulk': 4,\n",
            " 'DoS Slowhttptest': 5,\n",
            " 'DoS slowloris': 6,\n",
            " 'FTP-Patator': 7,\n",
            " 'Heartbleed': 8,\n",
            " 'Infiltration': 9,\n",
            " 'PortScan': 10,\n",
            " 'SSH-Patator': 11,\n",
            " 'Web Attack � Brute Force': 12,\n",
            " 'Web Attack � Sql Injection': 13,\n",
            " 'Web Attack � XSS': 14}\n"
          ]
        }
      ],
      "source": [
        "le = LabelEncoder()       # Encode target labels with value between 0 and n_classes-1\n",
        "\n",
        "y_train_binary = le.fit_transform(y_train)\n",
        "\n",
        "#print(\"instances per label in test set\\n\", y_test_binary.value_counts())\n",
        "# transform -\tTransform labels to normalized encoding.\n",
        "y_test_binary = le.transform(y_test)\n",
        "\n",
        "#we use fit_transform() on training data but transform() on the test data\n",
        "\n",
        "# classes_ - ndarray of shape (n_classes,) - Holds the label for each class.\n",
        "# To create a dictionary from two sequences, use dict(zip(keys, values))\n",
        "# The zip(fields, values) method returns an iterator that generates two-items tuples \n",
        "labels_dict = dict(zip(le.classes_, range(len(le.classes_))))\n",
        "\n",
        "\n",
        "pprint(labels_dict)"
      ]
    },
    {
      "cell_type": "markdown",
      "metadata": {},
      "source": [
        "##### Sample only trainning data an leave the test or validation data as is  \n",
        "##### run it only if saved sampled data is missing"
      ]
    },
    {
      "cell_type": "code",
      "execution_count": null,
      "metadata": {},
      "outputs": [],
      "source": [
        "from imblearn.under_sampling import InstanceHardnessThreshold\n",
        "\n",
        "'''  \n",
        "iht = InstanceHardnessThreshold(random_state=42, sampling_strategy='majority', n_jobs=3)\n",
        "X_train_sampled, y_train_binary_sampled = iht.fit_resample(X_train, y_train_binary)\n",
        "# os.makedirs('folder/subfolder', exist_ok=True)  # this is an example if folder is missing\n",
        "\n",
        "# save what have been sampled to files and do not run it again\n",
        "X_train_sampled.to_csv('datasets/X_train_sampled_23_features.csv')\n",
        "np.savetxt(\"datasets/y_train_binary_sampled_23_features.csv\", y_train_binary_sampled, delimiter=\",\")\n",
        "'''"
      ]
    },
    {
      "cell_type": "code",
      "execution_count": null,
      "metadata": {},
      "outputs": [
        {
          "data": {
            "text/plain": [
              "(2120907, 23)"
            ]
          },
          "execution_count": 12,
          "metadata": {},
          "output_type": "execute_result"
        }
      ],
      "source": [
        "type(X_train)\n",
        "X_train.shape"
      ]
    },
    {
      "cell_type": "code",
      "execution_count": null,
      "metadata": {},
      "outputs": [],
      "source": [
        "X_train_sampled = pd.read_csv('datasets/X_train_sampled_23_features.csv')\n",
        "y_train_binary_sampled = np.loadtxt('datasets/y_train_binary_sampled_23_features.csv', delimiter=',')"
      ]
    },
    {
      "cell_type": "code",
      "execution_count": null,
      "metadata": {},
      "outputs": [
        {
          "name": "stdout",
          "output_type": "stream",
          "text": [
            "(2090544, 24)\n",
            "0.0     1673127\n",
            "4.0      172593\n",
            "10.0     119103\n",
            "2.0       96019\n",
            "3.0        7720\n",
            "7.0        5951\n",
            "11.0       4423\n",
            "6.0        4347\n",
            "5.0        4124\n",
            "1.0        1467\n",
            "12.0       1130\n",
            "14.0        489\n",
            "9.0          27\n",
            "13.0         16\n",
            "8.0           8\n",
            "dtype: int64\n"
          ]
        }
      ],
      "source": [
        "#print(type(X_train_sampled))\n",
        "print(X_train_sampled.shape)\n",
        "\n",
        "# print(type(y_train_binary_sampled))\n",
        "pprint(pd.DataFrame(y_train_binary_sampled).value_counts())"
      ]
    },
    {
      "cell_type": "markdown",
      "metadata": {},
      "source": [
        "##### Check the files loaded because extra columns gets added"
      ]
    },
    {
      "cell_type": "code",
      "execution_count": null,
      "metadata": {},
      "outputs": [],
      "source": [
        "# if  len(X_train_sampled.columns)==79:  \n",
        "if  len(X_train_sampled.columns) == 24:\n",
        "    X_train_sampled['Unnamed: 0']  \n",
        "    X_train_sampled = X_train_sampled.drop(columns='Unnamed: 0')"
      ]
    },
    {
      "cell_type": "code",
      "execution_count": null,
      "metadata": {},
      "outputs": [
        {
          "data": {
            "text/plain": [
              "'\\nfrom imblearn.over_sampling import SVMSMOTE \\n\\nsm = SVMSMOTE(random_state=42, n_jobs=2)\\n\\n# X_sampled, y_sampled = sm.fit_resample(X.to_numpy(), y_binary.to_numpy())\\nX_train, y_sampled = sm.fit_resample(X_train, y_train_binary) \\n'"
            ]
          },
          "execution_count": 27,
          "metadata": {},
          "output_type": "execute_result"
        }
      ],
      "source": [
        "\n",
        "# it run for 483 minutes then I interapted\n",
        "'''\n",
        "from imblearn.over_sampling import SVMSMOTE \n",
        "\n",
        "sm = SVMSMOTE(random_state=42, n_jobs=2)\n",
        "\n",
        "# X_sampled, y_sampled = sm.fit_resample(X.to_numpy(), y_binary.to_numpy())\n",
        "X_train, y_sampled = sm.fit_resample(X_train, y_train_binary) \n",
        "'''\n",
        "# to try\n",
        "'''\n",
        "from imblearn.combine import SMOTETomek\n",
        "smt = SMOTETomek(random_state=42)\n",
        "X, y = smt.fit_sample(X, y)\n",
        "'''"
      ]
    },
    {
      "cell_type": "code",
      "execution_count": null,
      "metadata": {
        "id": "oUiskJ-rybZ3"
      },
      "outputs": [],
      "source": [
        "scaler = MinMaxScaler()\n",
        "\n",
        "# scaler = StandardScaler()\n",
        "X_train = scaler.fit_transform(X_train_sampled)\n",
        "X_test = scaler.transform(X_test)"
      ]
    },
    {
      "cell_type": "code",
      "execution_count": null,
      "metadata": {},
      "outputs": [],
      "source": [
        "class SecurityDataset(torch.utils.data.Dataset):\n",
        "\n",
        "  def __init__(self, X_train, y_train_binary):\n",
        "    \n",
        "    self.X_train = torch.tensor(X_train, dtype = torch.float32)\n",
        "    self.Y_train = torch.tensor(y_train_binary)  \n",
        "\n",
        "  def __len__(self):\n",
        "    return len(self.Y_train)\n",
        "  \n",
        "  def __getitem__(self, index):\n",
        "    return self.X_train[index], self.Y_train[index]\n",
        "  "
      ]
    },
    {
      "cell_type": "code",
      "execution_count": null,
      "metadata": {},
      "outputs": [
        {
          "name": "stderr",
          "output_type": "stream",
          "text": [
            "C:\\Users\\androgo\\AppData\\Local\\Temp\\ipykernel_27100\\2872934758.py:5: UserWarning: To copy construct from a tensor, it is recommended to use sourceTensor.clone().detach() or sourceTensor.clone().detach().requires_grad_(True), rather than torch.tensor(sourceTensor).\n",
            "  self.X_train = torch.tensor(X_train, dtype = torch.float32)\n"
          ]
        }
      ],
      "source": [
        "train_dataset = SecurityDataset(torch.tensor(X_train_sampled.values), y_train_binary_sampled)\n",
        "test_dataset = SecurityDataset(X_test, y_test_binary)\n",
        "\n",
        "## test :\n",
        "dataiter = iter(train_dataset)\n",
        "x_data, y_data = dataiter.next()\n",
        "\n",
        "print('Type of x_data: ', type(x_data))\n",
        "print('shape of x_data: ', x_data.shape)\n",
        "\n",
        "print('Type of y_data: ', type(y_data))\n",
        "print('Shape of y_data: ', y_data.shape)"
      ]
    },
    {
      "cell_type": "markdown",
      "metadata": {},
      "source": [
        "### Class Weights"
      ]
    },
    {
      "cell_type": "code",
      "execution_count": null,
      "metadata": {},
      "outputs": [
        {
          "name": "stdout",
          "output_type": "stream",
          "text": [
            "classes_y:  [ 0  1  2  3  4  5  6  7  8  9 10 11 12 13 14]\n",
            "class_weights:  [8.32988769e-02 9.50031357e+01 1.45147939e+00 1.80530570e+01\n",
            " 8.07504360e-01 3.37947624e+01 3.20610996e+01 2.34195261e+01\n",
            " 1.74212000e+04 5.16183704e+03 1.17016028e+00 3.15101967e+01\n",
            " 1.23335929e+02 8.71060000e+03 2.85009407e+02]\n",
            "\n",
            "classes_class_weights:  {0: 0.08329887689338586, 1: 95.00313565098841, 2: 1.4514793947031317, 3: 18.053056994818654, 4: 0.807504359968249, 5: 33.79476236663434, 6: 32.061099608925694, 7: 23.419526130062174, 8: 17421.2, 9: 5161.837037037037, 10: 1.1701602814370755, 11: 31.510196699073028, 12: 123.33592920353982, 13: 8710.6, 14: 285.0094069529652}\n"
          ]
        }
      ],
      "source": [
        "from sklearn.utils import class_weight\n",
        "\n",
        "classes_y = np.array(list(labels_dict.values()))\n",
        "print('classes_y: ',classes_y)\n",
        "\n",
        "#calculate the class weights\n",
        "class_weights = class_weight.compute_class_weight(class_weight = 'balanced',\n",
        "                                                 classes = classes_y, # np.unique(y_train_binary),\n",
        "                                                 y = y_train_binary_sampled)\n",
        "print('class_weights: ',class_weights)\n",
        "print()\n",
        "classes_class_weights = dict(zip(classes_y, class_weights))\n",
        "print('classes_class_weights: ',classes_class_weights)"
      ]
    },
    {
      "cell_type": "code",
      "execution_count": null,
      "metadata": {},
      "outputs": [],
      "source": [
        "# class_weights.round(decimals=3, out=None)\n",
        "class_weights = np.around(class_weights, decimals=3)"
      ]
    },
    {
      "cell_type": "markdown",
      "metadata": {},
      "source": [
        "##### Apply WeightedRandomSampler only to train data and leave test or validate data untouched because is treated as unseen"
      ]
    },
    {
      "cell_type": "code",
      "execution_count": null,
      "metadata": {},
      "outputs": [],
      "source": [
        "weights_sampler = 1. / class_weights\n",
        "sample_weights = [0] * len(train_dataset)\n",
        "# weights_sampler =np.around(weights_sampler, decimals=5)\n",
        "\n",
        "for idx, (data, label) in enumerate(train_dataset):\n",
        "        class_weight = class_weights[ int(label.item()) ]\n",
        "        sample_weights[idx] = class_weight\n",
        "        \n",
        "sampler = torch.utils.data.WeightedRandomSampler(sample_weights, num_samples=\n",
        "                                    len(sample_weights), replacement=True)"
      ]
    },
    {
      "cell_type": "code",
      "execution_count": null,
      "metadata": {},
      "outputs": [],
      "source": [
        "batch_size = 32\n",
        "train_loader = DataLoader(dataset=train_dataset, batch_size=batch_size, sampler=sampler, drop_last=True)\n",
        "test_loader = DataLoader(dataset=test_dataset, batch_size=batch_size, shuffle=True)"
      ]
    },
    {
      "cell_type": "code",
      "execution_count": null,
      "metadata": {},
      "outputs": [
        {
          "data": {
            "text/plain": [
              "torch.utils.data.dataloader.DataLoader"
            ]
          },
          "execution_count": 165,
          "metadata": {},
          "output_type": "execute_result"
        }
      ],
      "source": [
        "# torch.save(train_loader, 'out_mlp/train_loader.pth')\n",
        "# train_loader2 = torch.load('out_mlp/train_loader.pth') "
      ]
    },
    {
      "cell_type": "markdown",
      "metadata": {},
      "source": [
        "##### Do not run because it takes a lot of time , run only if the output of the cell is not displayed"
      ]
    },
    {
      "cell_type": "code",
      "execution_count": null,
      "metadata": {},
      "outputs": [
        {
          "name": "stdout",
          "output_type": "stream",
          "text": [
            "[tensor(1388070), tensor(1395141), tensor(1394069), tensor(1394077), tensor(1395305), tensor(1395214), tensor(1392920), tensor(1394196), tensor(1390981), tensor(1394197), tensor(1394975), tensor(1395769), tensor(1393125), tensor(1394618), tensor(1392728)]\n",
            "\n",
            "\n",
            "tensor(1395769)\n",
            "tensor(1388070)\n"
          ]
        }
      ],
      "source": [
        "''' \n",
        "labels_count = [0] * num_classes\n",
        "\n",
        "for i in range(15):\n",
        "        labels_count[i]=i\n",
        "\n",
        "for epoch in range(10):\n",
        "    for data, labels in train_loader:\n",
        "        for i in range(num_classes):\n",
        "                labels_count[i] += torch.sum(labels==i)\n",
        "        \n",
        "print(labels_count)\n",
        "print()\n",
        "print()\n",
        "print(max(labels_count))\n",
        "print(min(labels_count))\n",
        "'''"
      ]
    },
    {
      "cell_type": "markdown",
      "metadata": {},
      "source": [
        "##### Run only for test if nan are present in data "
      ]
    },
    {
      "cell_type": "code",
      "execution_count": null,
      "metadata": {},
      "outputs": [
        {
          "name": "stderr",
          "output_type": "stream",
          "text": [
            "100%|██████████| 65329/65329 [02:26<00:00, 444.72it/s]\n"
          ]
        }
      ],
      "source": [
        "import tqdm\n",
        "\n",
        "for step, (batch_x, batch_y) in enumerate(tqdm.tqdm(train_loader),0):\n",
        "            # zero the parameter gradients\n",
        "            batch_x, batch_y = batch_x.to(DEVICE), batch_y.to(DEVICE)\n",
        "            \n",
        "            # batch_x = batch_x.view(-1, input_size)\n",
        "            # batch_x = batch_x.float()\n",
        "            assert not torch.isnan(batch_x).any()\n",
        "            assert  torch.isfinite(batch_x).all()\n",
        "            \n",
        "            assert not torch.isnan(batch_y).any()\n",
        "            assert torch.isfinite(batch_y).all()"
      ]
    },
    {
      "cell_type": "code",
      "execution_count": null,
      "metadata": {},
      "outputs": [],
      "source": [
        "def get_dataloaders():\n",
        "    \n",
        "    return train_loader,test_loader"
      ]
    },
    {
      "cell_type": "code",
      "execution_count": null,
      "metadata": {},
      "outputs": [],
      "source": [
        "def get_dataloaders2():\n",
        "    \n",
        "    return 'train_loader,test_loader'"
      ]
    }
  ],
  "metadata": {
    "accelerator": "GPU",
    "colab": {
      "collapsed_sections": [],
      "include_colab_link": true,
      "name": "Copy of AML Final Project.ipynb",
      "provenance": []
    },
    "kernelspec": {
      "display_name": "Python 3.10.6 ('pytorch_env')",
      "language": "python",
      "name": "python3"
    },
    "language_info": {
      "codemirror_mode": {
        "name": "ipython",
        "version": 3
      },
      "file_extension": ".py",
      "mimetype": "text/x-python",
      "name": "python",
      "nbconvert_exporter": "python",
      "pygments_lexer": "ipython3",
      "version": "3.10.6"
    },
    "vscode": {
      "interpreter": {
        "hash": "201b6068cbed112f118c29a6393440d4ce4dc02105f31305c61d838eb972bb93"
      }
    }
  },
  "nbformat": 4,
  "nbformat_minor": 0
}
