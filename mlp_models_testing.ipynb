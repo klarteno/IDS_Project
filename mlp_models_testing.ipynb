{
  "cells": [
    {
      "cell_type": "code",
      "execution_count": 1,
      "metadata": {},
      "outputs": [
        {
          "name": "stderr",
          "output_type": "stream",
          "text": [
            "c:\\Users\\androgo\\anaconda3\\envs\\pytorch_env\\lib\\site-packages\\tqdm\\auto.py:22: TqdmWarning: IProgress not found. Please update jupyter and ipywidgets. See https://ipywidgets.readthedocs.io/en/stable/user_install.html\n",
            "  from .autonotebook import tqdm as notebook_tqdm\n"
          ]
        }
      ],
      "source": [
        "%reload_ext autoreload\n",
        "%autoreload 2\n",
        "\n",
        "import torch\n",
        "from torch import nn\n",
        "\n",
        "DEVICE = torch.device(\"cuda:0\" if torch.cuda.is_available() else \"cpu\")\n",
        "\n",
        "# azure setting\n",
        "torch.multiprocessing.set_sharing_strategy('file_system')\n"
      ]
    },
    {
      "cell_type": "markdown",
      "metadata": {},
      "source": [
        "###  Testing MLP models obtained from optimization with  evaluation function for accuracy"
      ]
    },
    {
      "cell_type": "code",
      "execution_count": 2,
      "metadata": {
        "gather": {
          "logged": 1664473227132
        }
      },
      "outputs": [],
      "source": [
        "# the resulting params from optuna optimization:\n",
        "model_parameters = \"\"\"Params:                          \n",
        "                  n_layers: 4                      \n",
        "                  n_units_l0: 148\n",
        "                  dropout_l0: 0.2394077234844161\n",
        "                  n_units_l1: 85\n",
        "                  dropout_l1: 0.1443158058026526\n",
        "                  n_units_l2: 25\n",
        "                  dropout_l2: 0.2711635652530161\n",
        "                  n_units_l3: 94\n",
        "                  dropout_l3: 0.16566341588513586\n",
        "                  learning_rate: 7.481718442497427e-05\n",
        "                  optimizer: RMSprop\n",
        "                Evaluation function: accuracy\"\"\""
      ]
    },
    {
      "cell_type": "code",
      "execution_count": 3,
      "metadata": {
        "gather": {
          "logged": 1664473227418
        }
      },
      "outputs": [],
      "source": [
        "#the model is made from the best parameters found by optuna \n",
        "#and batchnorm is replaced by groupnorm\n",
        "class MLP_Model(nn.Module):\n",
        "    def __init__(self,args):\n",
        "        super(MLP_Model, self).__init__()\n",
        "        \n",
        "        self.number_of_classes = args[\"number_of_classes\"]\n",
        "        self.input_shape = args[\"input_shape\"]\n",
        "        self.input_features=args[\"input_shape\"][2]\n",
        "        self.batch_size = args[\"input_shape\"][0]\n",
        "        \n",
        "        \n",
        "        self.fltn = nn.Flatten()\n",
        "        \n",
        "        self.fc1 = nn.Linear(self.input_features, 148)\n",
        "        self.gp1 = nn.GroupNorm(num_groups = 37, num_channels= 148)\n",
        "        self.lrelu1 = nn.LeakyReLU(inplace=True)\n",
        "        self.drop1 =   nn.Dropout(p=0.24)\n",
        "\n",
        "        self.fc2 = nn.Linear(148, 85)\n",
        "        self.gp2 = nn.GroupNorm(num_groups=17,num_channels= 85)\n",
        "        self.lrelu2 = nn.LeakyReLU(inplace=True)\n",
        "        self.drop2 =   nn.Dropout(p=0.144)\n",
        "\n",
        "        self.fc3 = nn.Linear(85, 25)\n",
        "        self.gp3 = nn.GroupNorm(num_groups=5,num_channels= 25)\n",
        "        self.lrelu3 = nn.LeakyReLU(inplace=True)\n",
        "        self.drop3 =   nn.Dropout(p=0.27)\n",
        "\n",
        "        self.fc4 = nn.Linear(25, 94)\n",
        "        self.gp4 = nn.GroupNorm(num_groups=2,num_channels= 94)\n",
        "        self.lrelu4 = nn.LeakyReLU(inplace=True)\n",
        "        self.drop4 =   nn.Dropout(p=0.166)\n",
        "\n",
        "        self.fc5 = nn.Linear(94, self.batch_size)\n",
        "        \n",
        "        self.initialize_weights()\n",
        "        \n",
        "    def forward(self, x):\n",
        "        \n",
        "        out = self.fc1(self.fltn(x))\n",
        "        assert not torch.isnan(out).any()\n",
        "        out = self.gp1(out)\n",
        "        out = self.lrelu1(out)\n",
        "        out = self.drop1(out)\n",
        "        \n",
        "        out = self.fc2(out)\n",
        "        assert not torch.isnan(out).any()\n",
        "        out = self.gp2(out)\n",
        "        out = self.lrelu2(out)\n",
        "        out = self.drop2(out)\n",
        "        \n",
        "        \n",
        "        out = self.fc3(out)\n",
        "        assert not torch.isnan(out).any()\n",
        "        out = self.gp3(out)\n",
        "        out = self.lrelu3(out)\n",
        "        out = self.drop3(out)\n",
        "\n",
        "        \n",
        "        out = self.fc4(out)\n",
        "        assert not torch.isnan(out).any()\n",
        "        out = self.gp4(out)\n",
        "        out = self.lrelu4(out)\n",
        "        out = self.drop4(out)\n",
        "        \n",
        "        \n",
        "        outputs = self.fc5(out)\n",
        "        assert not torch.isnan(outputs).any()\n",
        "        # print('-----------------------------')\n",
        "        # out = self.logsm(out)\n",
        "        \n",
        "        outputs = outputs.view(self.batch_size, -1)\n",
        "        linear_output = (nn.Linear(outputs.shape[1], self.number_of_classes)).to(DEVICE)\n",
        "        \n",
        "        # apply Linear to get shape of: (batch_size, number_of_classes)\n",
        "        # the Linear is generated in this way to make the output fit the required shape and to let RNN layer be as wide as possible\n",
        "        outputs = linear_output(outputs)\n",
        "        \n",
        "        # reshaped because  has to match the labels target\n",
        "        outputs = outputs.unsqueeze(2)\n",
        "        \n",
        "        return outputs\n",
        "    \n",
        "    \n",
        "    def initialize_weights(self):\n",
        "        for m in self.modules():\n",
        "            if isinstance(m, nn.Linear):\n",
        "                nn.init.kaiming_uniform_(m.weight.data, nonlinearity='leaky_relu')\n",
        "\n",
        "                if m.bias is not None:\n",
        "                    nn.init.constant_(m.bias, 0)\n",
        "\n",
        "            elif isinstance(m, nn.BatchNorm2d):\n",
        "                nn.init.constant_(m.weight.data, 1)\n",
        "                nn.init.constant_(m.bias.data, 0)\n",
        "                "
      ]
    },
    {
      "cell_type": "code",
      "execution_count": 4,
      "metadata": {
        "gather": {
          "logged": 1664479465527
        }
      },
      "outputs": [
        {
          "name": "stdout",
          "output_type": "stream",
          "text": [
            "DEVICE found:  cuda:0\n",
            "number of classes:  15\n"
          ]
        },
        {
          "name": "stderr",
          "output_type": "stream",
          "text": [
            "c:\\Users\\androgo\\anaconda3\\envs\\pytorch_env\\lib\\site-packages\\torchmetrics\\utilities\\prints.py:36: UserWarning: Metric `AUROC` will save all targets and predictions in buffer. For large datasets this may lead to large memory footprint.\n",
            "  warnings.warn(*args, **kwargs)\n"
          ]
        },
        {
          "name": "stdout",
          "output_type": "stream",
          "text": [
            "c:\\Users\\androgo\\Documents\\Python Scripts\\IDS\\CICIDS2017_notebooks\\IDS_Project\n",
            "X_train__23_features (1789827, 23)\n",
            "X_test__23_features (606432, 23)\n",
            "y_train_binary__23_features (1789827,)\n",
            "0.0     1497160\n",
            "4.0      128632\n",
            "2.0       96004\n",
            "10.0      42979\n",
            "3.0        7709\n",
            "7.0        4110\n",
            "6.0        3967\n",
            "5.0        3882\n",
            "11.0       2303\n",
            "1.0        1457\n",
            "12.0       1084\n",
            "14.0        489\n",
            "9.0          27\n",
            "13.0         16\n",
            "8.0           8\n",
            "dtype: int64\n",
            "Y_test__binary (606432,)\n"
          ]
        },
        {
          "name": "stderr",
          "output_type": "stream",
          "text": [
            "c:\\Users\\androgo\\anaconda3\\envs\\pytorch_env\\lib\\site-packages\\sklearn\\base.py:450: UserWarning: X does not have valid feature names, but MinMaxScaler was fitted with feature names\n",
            "  warnings.warn(\n"
          ]
        },
        {
          "name": "stdout",
          "output_type": "stream",
          "text": [
            "classes_y:  [ 0  1  2  3  4  5  6  7  8  9 10 11 12 13 14]\n",
            "class_weights:  [7.96987630e-02 8.18955388e+01 1.24288363e+00 1.54782462e+01\n",
            " 9.27621432e-01 3.07371973e+01 3.00785984e+01 2.90320681e+01\n",
            " 1.49152250e+04 4.41932593e+03 2.77628144e+00 5.18114633e+01\n",
            " 1.10075461e+02 7.45761250e+03 2.44011861e+02]\n",
            "\n",
            "classes_class_weights: \n",
            "{0: 0.08,\n",
            " 1: 81.896,\n",
            " 2: 1.243,\n",
            " 3: 15.478,\n",
            " 4: 0.928,\n",
            " 5: 30.737,\n",
            " 6: 30.079,\n",
            " 7: 29.032,\n",
            " 8: 14915.225,\n",
            " 9: 4419.326,\n",
            " 10: 2.776,\n",
            " 11: 51.811,\n",
            " 12: 110.075,\n",
            " 13: 7457.612,\n",
            " 14: 244.012}\n"
          ]
        },
        {
          "name": "stderr",
          "output_type": "stream",
          "text": [
            "c:\\Users\\androgo\\anaconda3\\envs\\pytorch_env\\lib\\site-packages\\torchmetrics\\utilities\\prints.py:36: UserWarning: Metric `AUROC` will save all targets and predictions in buffer. For large datasets this may lead to large memory footprint.\n",
            "  warnings.warn(*args, **kwargs)\n"
          ]
        }
      ],
      "source": [
        "import torch\n",
        "from models_hyper_optim_optuna_interface import get_path_from_folder, define_model, create_study_optimization, utils_data_load\n",
        "\n",
        "max_epochs_trainning = 40\n",
        "\n",
        "\n",
        "batch_size = 32\n",
        "number_of_classes = 15\n",
        "channels = 1\n",
        "input_size = 23\n",
        "evaluation_function ='accuracy'\n",
        "\n",
        "args_model = {\n",
        "    'number_of_classes':number_of_classes, \n",
        "    'input_shape' : (batch_size, channels, input_size)\n",
        "    }\n",
        "\n",
        "\n",
        "dataInputParams, models_trainning = define_model(batch_size, max_epochs_trainning, evaluation_function = evaluation_function, USE_AUTOMATIC_MIXED_PRECISION=False)"
      ]
    },
    {
      "cell_type": "code",
      "execution_count": 5,
      "metadata": {
        "gather": {
          "logged": 1664479467201
        }
      },
      "outputs": [
        {
          "name": "stderr",
          "output_type": "stream",
          "text": [
            "100%|██████████| 18951/18951 [06:27<00:00, 48.86it/s]\n"
          ]
        }
      ],
      "source": [
        "\n",
        "mlp_model_ver1 = MLP_Model(args_model)\n",
        "optimizer = torch.optim.RMSprop(mlp_model_ver1.parameters(), lr=7.481718442497427e-05, alpha=0.99, eps=1e-08, centered=False)   \n",
        "\n",
        "\n",
        "def load_model_from_checkpoint(model, optimizer, max_epochs_trainning, evaluation_function):\n",
        "    checkpoint = torch.load(\"best_optimized_models/mlp/\"+ evaluation_function +\"/\"+\"mlp_trainned_\"+ str(max_epochs_trainning))\n",
        "    model.load_state_dict(checkpoint['model'])\n",
        "    optimizer.load_state_dict(checkpoint['optimizer'])\n",
        "    \n",
        "    return model, optimizer\n",
        "\n",
        "load_model_from_checkpoint(mlp_model_ver1, optimizer, max_epochs_trainning=max_epochs_trainning, evaluation_function='accuracy')\n",
        "\n",
        "models_trainning.setParameters(\n",
        "    mlp_model_ver1,\n",
        "    optimizer\n",
        ")\n",
        "\n",
        "accuracies_scores, losses_scores, f1_scores, auroc_scores = models_trainning.testNetModel()\n"
      ]
    },
    {
      "cell_type": "code",
      "execution_count": 6,
      "metadata": {},
      "outputs": [
        {
          "name": "stdout",
          "output_type": "stream",
          "text": [
            "\n",
            "Test set: Average loss: 2.7196, Average accuracy: 6.6110%, \n",
            " \t  Average f1_score: 11.1690%, Average Area Under ROC: 0.4998 \n",
            "\n",
            "Test set multi class accuracies:  [6.61, 5.56, 6.82, 7.0, 6.56, 5.72, 5.9, 6.35, 0.0, 11.11, 6.42, 5.86, 4.16, 0.0, 7.36]\n",
            "Accuracy for class  BENIGN  is  6.61\n",
            "Accuracy for class  Bot  is  5.56\n",
            "Accuracy for class  DDoS  is  6.82\n",
            "Accuracy for class  DoS GoldenEye  is  7.0\n",
            "Accuracy for class  DoS Hulk  is  6.56\n",
            "Accuracy for class  DoS Slowhttptest  is  5.72\n",
            "Accuracy for class  DoS slowloris  is  5.9\n",
            "Accuracy for class  FTP-Patator  is  6.35\n",
            "Accuracy for class  Heartbleed  is  0.0\n",
            "Accuracy for class  Infiltration  is  11.11\n",
            "Accuracy for class  PortScan  is  6.42\n",
            "Accuracy for class  SSH-Patator  is  5.86\n",
            "Accuracy for class  Web Attack � Brute Force  is  4.16\n",
            "Accuracy for class  Web Attack � Sql Injection  is  0.0\n",
            "Accuracy for class  Web Attack � XSS  is  7.36\n"
          ]
        }
      ],
      "source": [
        "import utils.utils as utils\n",
        "\n",
        "multi_class_accuracies = models_trainning.get_multi_class_accuracies()\n",
        "accuracy_trainning, f1_score_trainning, auroc_trainning = models_trainning.get_evaluations_score()\n",
        "\n",
        "print(\n",
        "    \"\\nTest set: Average loss: {:.4f}, Average accuracy: {:.4f}%, \\n \\t  Average f1_score: {:.4f}%, Average Area Under ROC: {:.4f} \\n\".format(\n",
        "        utils.computeMean(losses_scores),\n",
        "        accuracy_trainning,\n",
        "        f1_score_trainning,\n",
        "        auroc_trainning,\n",
        "    )\n",
        ")\n",
        "print(\"Test set multi class accuracies: \", multi_class_accuracies)        \n",
        "\n",
        "\n",
        "i=-1\n",
        "for  key in utils_data_load.labels_dict.keys():\n",
        "    i=i+1\n",
        "    print(\"Accuracy for class \", key, \" is \", multi_class_accuracies[i])"
      ]
    },
    {
      "cell_type": "code",
      "execution_count": 7,
      "metadata": {},
      "outputs": [
        {
          "data": {
            "image/png": "[encoded data removed]",
            "text/plain": [
              "<Figure size 640x480 with 2 Axes>"
            ]
          },
          "metadata": {},
          "output_type": "display_data"
        }
      ],
      "source": [
        "from utils.utils_plotting import plot_trainning_eval\n",
        "\n",
        "plot_trainning_eval(\n",
        "        losses_scores, num_epochs=max_epochs_trainning, type_plot=\"Losses\", custom_label=\"Loss\"\n",
        "    )\n"
      ]
    },
    {
      "cell_type": "markdown",
      "metadata": {},
      "source": [
        "###  Testing MLP model obtained from optimization with  evaluation function for f1_score"
      ]
    },
    {
      "cell_type": "code",
      "execution_count": 8,
      "metadata": {
        "gather": {
          "logged": 1664479526582
        }
      },
      "outputs": [],
      "source": [
        "# the resulting params from optuna optimization:\n",
        "model_parameters = \"\"\"Params: \n",
        "                    n_layers: 7\n",
        "                    n_units_l0: 115\n",
        "                    dropout_l0: 0.21188057241438274\n",
        "                    n_units_l1: 151\n",
        "                    dropout_l1: 0.20908383005814535\n",
        "                    n_units_l2: 139\n",
        "                    dropout_l2: 0.17490465365600258\n",
        "                    n_units_l3: 208\n",
        "                    dropout_l3: 0.4351588652635723\n",
        "                    n_units_l4: 34\n",
        "                    dropout_l4: 0.31068252985882033\n",
        "                    n_units_l5: 217\n",
        "                    dropout_l5: 0.4612289778084963\n",
        "                    n_units_l6: 58\n",
        "                    dropout_l6: 0.14792666261716694\n",
        "                    learning_rate: 0.00024636626958405986\n",
        "                    optimizer: Adam\n",
        "                  Evaluation function: f1_score\"\"\""
      ]
    },
    {
      "cell_type": "code",
      "execution_count": 9,
      "metadata": {
        "gather": {
          "logged": 1664521234581
        }
      },
      "outputs": [],
      "source": [
        "#the model is made from the best parameters found by optuna \n",
        "#and batchnorm is replaced by groupnorm\n",
        "class MLP_ModelVer2(nn.Module):\n",
        "    def __init__(self,args):\n",
        "        super(MLP_ModelVer2, self).__init__()\n",
        "        \n",
        "        self.number_of_classes = args[\"number_of_classes\"]\n",
        "        self.input_shape = args[\"input_shape\"]\n",
        "        self.input_features=args[\"input_shape\"][2]\n",
        "        self.batch_size = args[\"input_shape\"][0]\n",
        "        \n",
        "        self.fltn = nn.Flatten()\n",
        "        \n",
        "        self.fc1 = nn.Linear(self.input_features, 115)\n",
        "        self.gp1 = nn.GroupNorm(num_groups = 23, num_channels= 115)\n",
        "        self.lrelu1 = nn.LeakyReLU(inplace=True)\n",
        "        self.drop1 =   nn.Dropout(p=0.21)\n",
        "\n",
        "        self.fc2 = nn.Linear(115, 151)\n",
        "        self.gp2 = nn.GroupNorm(num_groups=1,num_channels= 151)\n",
        "        self.lrelu2 = nn.LeakyReLU(inplace=True)\n",
        "        self.drop2 =   nn.Dropout(p=0.21)\n",
        "\n",
        "        self.fc3 = nn.Linear(151, 139)\n",
        "        self.gp3 = nn.GroupNorm(num_groups=1,num_channels= 139)\n",
        "        self.lrelu3 = nn.LeakyReLU(inplace=True)\n",
        "        self.drop3 =   nn.Dropout(p=0.175)\n",
        "\n",
        "        self.fc4 = nn.Linear(139, 208)\n",
        "        self.gp4 = nn.GroupNorm(num_groups=26,num_channels= 208)\n",
        "        self.lrelu4 = nn.LeakyReLU(inplace=True)\n",
        "        self.drop4 =   nn.Dropout(p=0.44)\n",
        "        \n",
        "        self.fc5 = nn.Linear(208, 34)\n",
        "        self.gp5 = nn.GroupNorm(num_groups=2,num_channels= 34)\n",
        "        self.lrelu5 = nn.LeakyReLU(inplace=True)\n",
        "        self.drop5 =   nn.Dropout(p=0.31)\n",
        "        \n",
        "        self.fc6 = nn.Linear(34, 217)\n",
        "        self.gp6 = nn.GroupNorm(num_groups=31,num_channels= 217)\n",
        "        self.lrelu6 = nn.LeakyReLU(inplace=True)\n",
        "        self.drop6 =   nn.Dropout(p=0.46)\n",
        "        \n",
        "        self.fc7 = nn.Linear(217, 58)\n",
        "        self.gp7 = nn.GroupNorm(num_groups=2,num_channels= 58)\n",
        "        self.lrelu7 = nn.LeakyReLU(inplace=True)\n",
        "        self.drop7 =   nn.Dropout(p=0.148)\n",
        "\n",
        "        self.fc8 = nn.Linear(58, self.batch_size)\n",
        "        \n",
        "        self.initialize_weights()\n",
        "        \n",
        "    def forward(self, x):\n",
        "        \n",
        "        out = self.fc1(self.fltn(x))\n",
        "        assert not torch.isnan(out).any()\n",
        "        out = self.gp1(out)\n",
        "        out = self.lrelu1(out)\n",
        "        out = self.drop1(out)\n",
        "        \n",
        "        out = self.fc2(out)\n",
        "        assert not torch.isnan(out).any()\n",
        "        out = self.gp2(out)\n",
        "        out = self.lrelu2(out)\n",
        "        out = self.drop2(out)\n",
        "        \n",
        "        \n",
        "        out = self.fc3(out)\n",
        "        assert not torch.isnan(out).any()\n",
        "        out = self.gp3(out)\n",
        "        out = self.lrelu3(out)\n",
        "        out = self.drop3(out)\n",
        "\n",
        "        \n",
        "        out = self.fc4(out)\n",
        "        assert not torch.isnan(out).any()\n",
        "        out = self.gp4(out)\n",
        "        out = self.lrelu4(out)\n",
        "        out = self.drop4(out)\n",
        "        \n",
        "        \n",
        "        out = self.fc5(out)\n",
        "        assert not torch.isnan(out).any()\n",
        "        out = self.gp5(out)\n",
        "        out = self.lrelu5(out)\n",
        "        out = self.drop5(out)\n",
        "        \n",
        "        \n",
        "        out = self.fc6(out)\n",
        "        assert not torch.isnan(out).any()\n",
        "        out = self.gp6(out)\n",
        "        out = self.lrelu6(out)\n",
        "        out = self.drop6(out)\n",
        "        \n",
        "        \n",
        "        out = self.fc7(out)\n",
        "        assert not torch.isnan(out).any()\n",
        "        out = self.gp7(out)\n",
        "        out = self.lrelu7(out)\n",
        "        out = self.drop7(out)\n",
        "        \n",
        "        \n",
        "        outputs = self.fc8(out)\n",
        "        assert not torch.isnan(outputs).any()\n",
        "        # print('-----------------------------')\n",
        "        # out = self.logsm(out)\n",
        "        \n",
        "        outputs = outputs.view(self.batch_size, -1)\n",
        "        linear_output = (nn.Linear(outputs.shape[1], self.number_of_classes)).to(DEVICE)\n",
        "        \n",
        "        # apply Linear to get shape of: (batch_size, number_of_classes)\n",
        "        # the Linear is generated in this way to make the output fit the required shape and to let RNN layer be as wide as possible\n",
        "        outputs = linear_output(outputs)\n",
        "        \n",
        "        # reshaped because  has to match the labels target\n",
        "        outputs = outputs.unsqueeze(2)\n",
        "        \n",
        "        return outputs\n",
        "    \n",
        "    \n",
        "    def initialize_weights(self):\n",
        "        for m in self.modules():\n",
        "            if isinstance(m, nn.Linear):\n",
        "                nn.init.kaiming_uniform_(m.weight.data, nonlinearity='leaky_relu')\n",
        "\n",
        "                if m.bias is not None:\n",
        "                    nn.init.constant_(m.bias, 0)\n",
        "\n",
        "            elif isinstance(m, nn.BatchNorm2d):\n",
        "                nn.init.constant_(m.weight.data, 1)\n",
        "                nn.init.constant_(m.bias.data, 0)\n",
        "                "
      ]
    },
    {
      "cell_type": "code",
      "execution_count": 10,
      "metadata": {},
      "outputs": [
        {
          "name": "stderr",
          "output_type": "stream",
          "text": [
            "c:\\Users\\androgo\\anaconda3\\envs\\pytorch_env\\lib\\site-packages\\torchmetrics\\utilities\\prints.py:36: UserWarning: Metric `AUROC` will save all targets and predictions in buffer. For large datasets this may lead to large memory footprint.\n",
            "  warnings.warn(*args, **kwargs)\n"
          ]
        }
      ],
      "source": [
        "evaluation_function ='f1_score'\n",
        "max_epochs_trainning=95\n",
        "\n",
        "dataInputParams, models_trainning = define_model(batch_size, max_epochs_trainning, evaluation_function = evaluation_function, USE_AUTOMATIC_MIXED_PRECISION=False)"
      ]
    },
    {
      "cell_type": "code",
      "execution_count": 11,
      "metadata": {},
      "outputs": [
        {
          "name": "stderr",
          "output_type": "stream",
          "text": [
            "100%|██████████| 18951/18951 [07:46<00:00, 40.65it/s]\n"
          ]
        }
      ],
      "source": [
        "\n",
        "mlp_model_ver2 = MLP_ModelVer2(args_model)\n",
        "optimizer = torch.optim.RMSprop(mlp_model_ver2.parameters(), lr=0.000246, alpha=0.99, eps=1e-08, centered=False)   \n",
        "\n",
        "def load_model_from_checkpoint(model, optimizer, max_epochs_trainning, evaluation_function):\n",
        "    checkpoint = torch.load(\"best_optimized_models/mlp/\"+ evaluation_function +\"/\"+\"mlp_trainned_\"+ str(max_epochs_trainning))\n",
        "    model.load_state_dict(checkpoint['model'])\n",
        "    optimizer.load_state_dict(checkpoint['optimizer'])\n",
        "    \n",
        "    return model, optimizer\n",
        "\n",
        "load_model_from_checkpoint(mlp_model_ver2, optimizer, max_epochs_trainning=max_epochs_trainning, evaluation_function='f1_score')\n",
        "\n",
        "models_trainning.setParameters(\n",
        "    mlp_model_ver2,\n",
        "    optimizer\n",
        ")\n",
        "\n",
        "accuracies_scores, losses_scores, f1_scores, auroc_scores = models_trainning.testNetModel()\n"
      ]
    },
    {
      "cell_type": "code",
      "execution_count": 12,
      "metadata": {},
      "outputs": [
        {
          "name": "stdout",
          "output_type": "stream",
          "text": [
            "\n",
            "Test set: Average loss: 2.7122, Average accuracy: 6.9655%, \n",
            " \t  Average f1_score: 11.7423%, Average Area Under ROC: 0.4996 \n",
            "\n",
            "Test set multi class accuracies:  [7.01, 6.38, 6.27, 6.26, 7.14, 7.11, 7.56, 8.32, 0.0, 0.0, 6.46, 7.55, 6.37, 0.0, 6.13]\n",
            "Accuracy for class  BENIGN  is  7.01\n",
            "Accuracy for class  Bot  is  6.38\n",
            "Accuracy for class  DDoS  is  6.27\n",
            "Accuracy for class  DoS GoldenEye  is  6.26\n",
            "Accuracy for class  DoS Hulk  is  7.14\n",
            "Accuracy for class  DoS Slowhttptest  is  7.11\n",
            "Accuracy for class  DoS slowloris  is  7.56\n",
            "Accuracy for class  FTP-Patator  is  8.32\n",
            "Accuracy for class  Heartbleed  is  0.0\n",
            "Accuracy for class  Infiltration  is  0.0\n",
            "Accuracy for class  PortScan  is  6.46\n",
            "Accuracy for class  SSH-Patator  is  7.55\n",
            "Accuracy for class  Web Attack � Brute Force  is  6.37\n",
            "Accuracy for class  Web Attack � Sql Injection  is  0.0\n",
            "Accuracy for class  Web Attack � XSS  is  6.13\n"
          ]
        }
      ],
      "source": [
        "import utils.utils as utils\n",
        "\n",
        "multi_class_accuracies = models_trainning.get_multi_class_accuracies()\n",
        "accuracy_trainning, f1_score_trainning, auroc_trainning = models_trainning.get_evaluations_score()\n",
        "\n",
        "print(\n",
        "    \"\\nTest set: Average loss: {:.4f}, Average accuracy: {:.4f}%, \\n \\t  Average f1_score: {:.4f}%, Average Area Under ROC: {:.4f} \\n\".format(\n",
        "        utils.computeMean(losses_scores),\n",
        "        accuracy_trainning,\n",
        "        f1_score_trainning,\n",
        "        auroc_trainning,\n",
        "    )\n",
        ")\n",
        "print(\"Test set multi class accuracies: \", multi_class_accuracies)        \n",
        "\n",
        "\n",
        "i=-1\n",
        "for  key in utils_data_load.labels_dict.keys():\n",
        "    i=i+1\n",
        "    print(\"Accuracy for class \", key, \" is \", multi_class_accuracies[i])"
      ]
    },
    {
      "cell_type": "code",
      "execution_count": 13,
      "metadata": {},
      "outputs": [
        {
          "data": {
            "image/png": "[encoded data removed]",
            "text/plain": [
              "<Figure size 640x480 with 2 Axes>"
            ]
          },
          "metadata": {},
          "output_type": "display_data"
        }
      ],
      "source": [
        "from utils.utils_plotting import plot_trainning_eval\n",
        "\n",
        "plot_trainning_eval(\n",
        "        losses_scores, num_epochs=max_epochs_trainning, type_plot=\"Losses\", custom_label=\"Loss\"\n",
        "    )"
      ]
    }
  ],
  "metadata": {
    "kernel_info": {
      "name": "python38-azureml-pt-tf"
    },
    "kernelspec": {
      "display_name": "Python 3.10.6 ('pytorch_env')",
      "language": "python",
      "name": "python3"
    },
    "language_info": {
      "codemirror_mode": {
        "name": "ipython",
        "version": 3
      },
      "file_extension": ".py",
      "mimetype": "text/x-python",
      "name": "python",
      "nbconvert_exporter": "python",
      "pygments_lexer": "ipython3",
      "version": "3.10.6"
    },
    "microsoft": {
      "host": {
        "AzureML": {
          "notebookHasBeenCompleted": true
        }
      }
    },
    "nteract": {
      "version": "nteract-front-end@1.0.0"
    },
    "orig_nbformat": 4,
    "vscode": {
      "interpreter": {
        "hash": "201b6068cbed112f118c29a6393440d4ce4dc02105f31305c61d838eb972bb93"
      }
    }
  },
  "nbformat": 4,
  "nbformat_minor": 2
}
