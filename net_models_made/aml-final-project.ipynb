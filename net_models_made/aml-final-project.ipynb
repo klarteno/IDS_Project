{
 "cells": [
  {
   "cell_type": "markdown",
   "metadata": {
    "colab_type": "text",
    "id": "view-in-github"
   },
   "source": [
    "<a href=\"https://colab.research.google.com/gist/klarteno/0eee61b980f8feca34c731338f03b5b7/copy-of-aml-final-project.ipynb\" target=\"_parent\"><img src=\"https://colab.research.google.com/assets/colab-badge.svg\" alt=\"Open In Colab\"/></a>"
   ]
  },
  {
   "cell_type": "code",
   "execution_count": 1,
   "metadata": {
    "id": "r9YGgf9KND8p"
   },
   "outputs": [
    {
     "name": "stderr",
     "output_type": "stream",
     "text": [
      "c:\\Users\\androgo\\anaconda3\\envs\\pytorch_env\\lib\\site-packages\\tqdm\\auto.py:22: TqdmWarning: IProgress not found. Please update jupyter and ipywidgets. See https://ipywidgets.readthedocs.io/en/stable/user_install.html\n",
      "  from .autonotebook import tqdm as notebook_tqdm\n"
     ]
    }
   ],
   "source": [
    "import torch\n",
    "import numpy as np\n",
    "import pandas as pd\n",
    "import sys\n",
    "import os\n",
    "\n",
    "from torchvision.transforms import ToTensor\n",
    "\n",
    "import matplotlib.pyplot as plt\n",
    "\n",
    "import torch.nn as nn\n",
    "import torch.nn.functional as F\n",
    "import torch.optim as optim\n",
    "from torch.utils.data import Dataset, DataLoader\n",
    "\n",
    "from sklearn.model_selection import train_test_split\n",
    "from sklearn.preprocessing import (\n",
    "    StandardScaler,\n",
    "    MinMaxScaler,\n",
    "    LabelEncoder,\n",
    ")  # , OneHotEncoder\n",
    "\n",
    "from pprint import pprint\n",
    "import time\n",
    "import import_ipynb"
   ]
  },
  {
   "cell_type": "code",
   "execution_count": null,
   "metadata": {},
   "outputs": [],
   "source": [
    "import random, torch, os, numpy as np\n",
    "\n",
    "\n",
    "def seed_everything(seed=42):\n",
    "    os.environ[\"PYTHONHASHSEED\"] = str(seed)\n",
    "    random.seed(seed)\n",
    "    np.random.seed(seed)\n",
    "    torch.manual_seed(seed)\n",
    "    torch.cuda.manual_seed(seed)\n",
    "    torch.cuda.manual_seed_all(seed)\n",
    "    torch.backends.cudnn.deterministic = True\n",
    "    torch.backends.cudnn.benchmark = False\n",
    "\n",
    "\n",
    "seed_everything()"
   ]
  },
  {
   "cell_type": "code",
   "execution_count": 4,
   "metadata": {},
   "outputs": [],
   "source": [
    "from cnn_bilstm_model import CNN_BILSTM\n",
    "\n",
    "cnn_bilstm_model = CNN_BILSTM(input_size=23, num_classes=15)"
   ]
  },
  {
   "cell_type": "code",
   "execution_count": 30,
   "metadata": {},
   "outputs": [],
   "source": [
    "%reload_ext autoreload\n",
    "%autoreload 2\n",
    "\n",
    "# import import_ipynb\n",
    "\n",
    "from mlp_model import MLP_Model\n",
    "from mlp_model_train import MLP_Model, train_MLP_Model, test_mlp\n",
    "\n",
    "from utils_data_load import get_dataloaders, get_input_size, get_number_of_classes"
   ]
  },
  {
   "cell_type": "code",
   "execution_count": 28,
   "metadata": {},
   "outputs": [],
   "source": [
    "train_loader, test_loader = get_dataloaders()\n",
    "input_size = get_input_size()\n",
    "num_classes = number_of_classes = get_number_of_classes()\n",
    "\n",
    "\n",
    "MAX_EPOCHS = 10\n",
    "# LEARNING_RATE   = 0.00000001\n",
    "LEARNING_RATE = 0.0001"
   ]
  },
  {
   "cell_type": "code",
   "execution_count": 43,
   "metadata": {},
   "outputs": [
    {
     "name": "stderr",
     "output_type": "stream",
     "text": [
      "100%|██████████| 65329/65329 [08:26<00:00, 128.90it/s]\n"
     ]
    },
    {
     "name": "stdout",
     "output_type": "stream",
     "text": [
      "epoch 0 cost 506.826258 sec\n"
     ]
    },
    {
     "name": "stderr",
     "output_type": "stream",
     "text": [
      "100%|██████████| 65329/65329 [08:01<00:00, 135.63it/s]\n"
     ]
    },
    {
     "name": "stdout",
     "output_type": "stream",
     "text": [
      "epoch 1 cost 481.659410 sec\n"
     ]
    },
    {
     "name": "stderr",
     "output_type": "stream",
     "text": [
      "100%|██████████| 65329/65329 [07:54<00:00, 137.62it/s]\n"
     ]
    },
    {
     "name": "stdout",
     "output_type": "stream",
     "text": [
      "epoch 2 cost 474.707262 sec\n"
     ]
    },
    {
     "name": "stderr",
     "output_type": "stream",
     "text": [
      "100%|██████████| 65329/65329 [09:49<00:00, 110.73it/s]\n"
     ]
    },
    {
     "name": "stdout",
     "output_type": "stream",
     "text": [
      "epoch 3 cost 589.975560 sec\n"
     ]
    },
    {
     "name": "stderr",
     "output_type": "stream",
     "text": [
      "100%|██████████| 65329/65329 [10:31<00:00, 103.48it/s]\n"
     ]
    },
    {
     "name": "stdout",
     "output_type": "stream",
     "text": [
      "epoch 4 cost 631.344762 sec\n"
     ]
    },
    {
     "name": "stderr",
     "output_type": "stream",
     "text": [
      "100%|██████████| 65329/65329 [10:57<00:00, 99.34it/s] \n"
     ]
    },
    {
     "name": "stdout",
     "output_type": "stream",
     "text": [
      "epoch 5 cost 657.603606 sec\n"
     ]
    },
    {
     "name": "stderr",
     "output_type": "stream",
     "text": [
      "100%|██████████| 65329/65329 [18:20<00:00, 59.38it/s] \n"
     ]
    },
    {
     "name": "stdout",
     "output_type": "stream",
     "text": [
      "epoch 6 cost 1100.209411 sec\n"
     ]
    },
    {
     "name": "stderr",
     "output_type": "stream",
     "text": [
      "100%|██████████| 65329/65329 [07:37<00:00, 142.86it/s]\n"
     ]
    },
    {
     "name": "stdout",
     "output_type": "stream",
     "text": [
      "epoch 7 cost 457.304757 sec\n"
     ]
    },
    {
     "name": "stderr",
     "output_type": "stream",
     "text": [
      "100%|██████████| 65329/65329 [07:21<00:00, 147.85it/s]\n"
     ]
    },
    {
     "name": "stdout",
     "output_type": "stream",
     "text": [
      "epoch 8 cost 441.855247 sec\n"
     ]
    },
    {
     "name": "stderr",
     "output_type": "stream",
     "text": [
      "100%|██████████| 65329/65329 [07:12<00:00, 151.14it/s]\n"
     ]
    },
    {
     "name": "stdout",
     "output_type": "stream",
     "text": [
      "epoch 9 cost 432.257484 sec\n",
      "Finished Training\n"
     ]
    }
   ],
   "source": [
    "# do not run this if the model can be loaded next\n",
    "import time\n",
    "\n",
    "mlp_model = MLP_Model(inputSize=input_size, number_of_classes=number_of_classes)\n",
    "\n",
    "timestart = time.time()\n",
    "optimizer = torch.optim.SGD(mlp_model.parameters(), lr=LEARNING_RATE)\n",
    "\n",
    "losses, accuracy = train_MLP_Model(mlp_model, optimizer, train_loader, MAX_EPOCHS)\n",
    "total_time = time.time() - timestart\n",
    "\n",
    "# 10 mn 3.8 s"
   ]
  },
  {
   "cell_type": "code",
   "execution_count": 44,
   "metadata": {},
   "outputs": [],
   "source": [
    "from statistics_utils_store import StatisticsSaver\n",
    "\n",
    "statisticsSaver = StatisticsSaver()\n",
    "\n",
    "statisticsSaver.save_accuracy(accuracy)\n",
    "statisticsSaver.save_losses(losses)\n",
    "statisticsSaver.save_total_training_time(total_time)\n",
    "\n",
    "\n",
    "statisticsSaver.set_trainned_model(mlp_model)\n",
    "statisticsSaver.set_trainned_optimizer(optimizer)\n",
    "\n",
    "output_dir = \"out_mlp\"\n",
    "\n",
    "if not os.path.exists(output_dir):\n",
    "    os.mkdir(output_dir)\n",
    "    print(\"Directory \", output_dir, \" Created \")\n",
    "\n",
    "# file_path = output_dir + '/'+ 'file_mlp_model_params_78_features_10_epochs'\n",
    "file_path = output_dir + \"/\" + \"file_mlp_model_params_23_features_10_epochs\"\n",
    "statisticsSaver.save_trainned_model(file_path, MAX_EPOCHS)\n",
    "statisticsSaver.save_model_params(file_path, MAX_EPOCHS)"
   ]
  },
  {
   "cell_type": "code",
   "execution_count": 31,
   "metadata": {},
   "outputs": [
    {
     "data": {
      "text/plain": [
       "MLP_Model(\n",
       "  (fltn): Flatten(start_dim=1, end_dim=-1)\n",
       "  (fc1): Linear(in_features=23, out_features=128, bias=True)\n",
       "  (bc1): GroupNorm(4, 128, eps=1e-05, affine=True)\n",
       "  (relu1): ReLU(inplace=True)\n",
       "  (fc2): Linear(in_features=128, out_features=128, bias=True)\n",
       "  (bc2): GroupNorm(4, 128, eps=1e-05, affine=True)\n",
       "  (relu2): ReLU(inplace=True)\n",
       "  (fc21): Linear(in_features=128, out_features=128, bias=True)\n",
       "  (bc21): GroupNorm(4, 128, eps=1e-05, affine=True)\n",
       "  (relu21): ReLU(inplace=True)\n",
       "  (fc3): Linear(in_features=128, out_features=64, bias=True)\n",
       "  (bc3): GroupNorm(4, 64, eps=1e-05, affine=True)\n",
       "  (relu3): ReLU(inplace=True)\n",
       "  (fc4): Linear(in_features=64, out_features=64, bias=True)\n",
       "  (bc4): GroupNorm(4, 64, eps=1e-05, affine=True)\n",
       "  (relu4): ReLU(inplace=True)\n",
       "  (fc5): Linear(in_features=64, out_features=15, bias=True)\n",
       "  (relu): ReLU(inplace=True)\n",
       "  (dropout): Dropout(p=0.1, inplace=False)\n",
       "  (logsm): LogSoftmax(dim=1)\n",
       ")"
      ]
     },
     "execution_count": 31,
     "metadata": {},
     "output_type": "execute_result"
    }
   ],
   "source": [
    "input_size = X_train.shape[1]\n",
    "mlp_model = MLP_Model(inputSize=input_size, number_of_classes=num_classes)\n",
    "\n",
    "# was trained for 10 epochs\n",
    "mlp_model.load_state_dict(\n",
    "    torch.load(\"out_mlp/file_mlp_model_params_23_features_10_epochs_params.pth\")[\n",
    "        \"model_state_dict\"\n",
    "    ]\n",
    ")\n",
    "# mlp_model.load_state_dict(torch.load('models/titanic_model.pt'))\n",
    "mlp_model.eval()"
   ]
  },
  {
   "cell_type": "code",
   "execution_count": 41,
   "metadata": {},
   "outputs": [],
   "source": [
    "def plot_trainning(losses, accuracy):\n",
    "    plt.title(\"Loss Trend\")\n",
    "    plt.plot(losses)\n",
    "    plt.xlabel(\"Sample time\")\n",
    "    plt.ylabel(\"Loss\")\n",
    "    plt.show()\n",
    "\n",
    "    plt.title(\"Train Accuracy\")\n",
    "    plt.plot(accuracy)\n",
    "    plt.xlabel(\"Sample time\")\n",
    "    plt.ylabel(\"Accuracy (%)\")\n",
    "    plt.show()"
   ]
  },
  {
   "cell_type": "code",
   "execution_count": 49,
   "metadata": {},
   "outputs": [
    {
     "data": {
      "image/png": "[encoded data removed]",
      "text/plain": [
       "<Figure size 432x288 with 1 Axes>"
      ]
     },
     "metadata": {
      "needs_background": "light"
     },
     "output_type": "display_data"
    },
    {
     "data": {
      "image/png": "[encoded data removed]",
      "text/plain": [
       "<Figure size 432x288 with 1 Axes>"
      ]
     },
     "metadata": {
      "needs_background": "light"
     },
     "output_type": "display_data"
    }
   ],
   "source": [
    "plot_trainning(losses, accuracy)"
   ]
  },
  {
   "cell_type": "code",
   "execution_count": 50,
   "metadata": {
    "id": "DPYsFp9EM4jK"
   },
   "outputs": [
    {
     "name": "stderr",
     "output_type": "stream",
     "text": [
      "100%|██████████| 22093/22093 [01:26<00:00, 254.02it/s]\n"
     ]
    },
    {
     "name": "stdout",
     "output_type": "stream",
     "text": [
      "\n",
      "Test set: Average loss: 2.1647, Accuracy: 156100/706969 (22%)\n",
      "\n"
     ]
    },
    {
     "data": {
      "image/png": "[encoded data removed]",
      "text/plain": [
       "<Figure size 432x288 with 1 Axes>"
      ]
     },
     "metadata": {
      "needs_background": "light"
     },
     "output_type": "display_data"
    },
    {
     "name": "stdout",
     "output_type": "stream",
     "text": [
      "Average test accuracy is : 22.080176075612933\n"
     ]
    }
   ],
   "source": [
    "test_accuracy = test_mlp(mlp_model, test_loader)\n",
    "\n",
    "plt.title(\"Test Accuracy\")\n",
    "plt.plot(test_accuracy)\n",
    "\n",
    "plt.xlabel(\"Sample time\")\n",
    "plt.ylabel(\"Accuracy (%)\")\n",
    "plt.show()\n",
    "\n",
    "avg_test_accuracy = np.mean(test_accuracy)\n",
    "print(\"Average test accuracy is : \" + str(avg_test_accuracy))"
   ]
  },
  {
   "cell_type": "markdown",
   "metadata": {},
   "source": [
    "## Feature importance"
   ]
  },
  {
   "cell_type": "code",
   "execution_count": 33,
   "metadata": {},
   "outputs": [],
   "source": [
    "from captum.attr import IntegratedGradients\n",
    "\n",
    "# DEVICE = 'cpu'\n",
    "\n",
    "# mlp_model.eval()\n",
    "# mlp_model=mlp_model.to(DEVICE)\n",
    "\n",
    "mlp_model = mlp_model.to(\"cpu\")\n",
    "mlp_model.train()\n",
    "\n",
    "ig = IntegratedGradients(mlp_model)"
   ]
  },
  {
   "cell_type": "code",
   "execution_count": null,
   "metadata": {},
   "outputs": [],
   "source": [
    "# Helper method to print importances and visualize distribution\n",
    "def visualize_importances(\n",
    "    feature_names,\n",
    "    importances,\n",
    "    title=\"Average Feature Importances\",\n",
    "    plot=False,\n",
    "    axis_title=\"Features\",\n",
    "):\n",
    "    print(title)\n",
    "    for i in range(len(feature_names)):\n",
    "        print(feature_names[i], \": \", \"%.3f\" % (importances[i]))\n",
    "    x_pos = np.arange(len(feature_names))\n",
    "\n",
    "    if plot:\n",
    "        plt.figure(figsize=(14, 8))\n",
    "        plt.bar(x_pos, importances, align=\"center\")\n",
    "        plt.xticks(x_pos, feature_names, wrap=True)\n",
    "        plt.xlabel(axis_title)\n",
    "        plt.title(title)\n",
    "\n",
    "\n",
    "visualize_importances(classes_y, np.mean(attr, axis=0))"
   ]
  },
  {
   "cell_type": "markdown",
   "metadata": {},
   "source": [
    "## CNN-BILSTM model "
   ]
  },
  {
   "cell_type": "code",
   "execution_count": 26,
   "metadata": {},
   "outputs": [],
   "source": [
    "MAX_EPOCHS = 10\n",
    "# LEARNING_RATE   = 0.00000001\n",
    "LEARNING_RATE = 0.001"
   ]
  },
  {
   "cell_type": "code",
   "execution_count": 32,
   "metadata": {},
   "outputs": [],
   "source": [
    "%reload_ext autoreload\n",
    "%autoreload 2\n",
    "\n",
    "# import import_ipynb\n",
    "from cnn_bilstm_model import CNN_BILSTM\n",
    "from cnn_bilstm_model import train_CNN_BILSTM_Model, test_CNN_BILSTM_model, get_stats"
   ]
  },
  {
   "cell_type": "code",
   "execution_count": null,
   "metadata": {},
   "outputs": [],
   "source": [
    "import time\n",
    "\n",
    "cnn_bilstm_model = CNN_BILSTM(input_size=input_size, num_classes=number_of_classes)\n",
    "\n",
    "timestart = time.time()\n",
    "optimizer = torch.optim.Adam(cnn_bilstm_model.parameters(), lr=LEARNING_RATE)\n",
    "\n",
    "losses, accuracy = train_CNN_BILSTM_Model(\n",
    "    cnn_bilstm_model, optimizer, train_loader, MAX_EPOCHS\n",
    ")\n",
    "total_time = time.time() - timestart\n",
    "\n",
    "# aprox 600 mn"
   ]
  },
  {
   "cell_type": "code",
   "execution_count": 39,
   "metadata": {},
   "outputs": [
    {
     "name": "stdout",
     "output_type": "stream",
     "text": [
      "Directory  out_cnn_bilstm  Created \n"
     ]
    }
   ],
   "source": [
    "from statistics_utils_store import StatisticsSaver\n",
    "\n",
    "statisticsSaver = StatisticsSaver()\n",
    "\n",
    "accuracy = 0\n",
    "losses = 0\n",
    "total_time = 625\n",
    "\n",
    "statisticsSaver.save_accuracy(accuracy)\n",
    "statisticsSaver.save_losses(losses)\n",
    "statisticsSaver.save_total_training_time(total_time)\n",
    "\n",
    "\n",
    "statisticsSaver.set_trainned_model(cnn_bilstm_model)\n",
    "statisticsSaver.set_trainned_optimizer(optimizer)\n",
    "\n",
    "output_dir = \"out_cnn_bilstm\"\n",
    "\n",
    "if not os.path.exists(output_dir):\n",
    "    os.mkdir(output_dir)\n",
    "    print(\"Directory \", output_dir, \" Created \")\n",
    "\n",
    "# file_path = output_dir + '/'+ 'file_mlp_model_params_78_features_10_epochs'\n",
    "file_path = (\n",
    "    output_dir + \"/\" + \"file_cnn_bilstm_model_params_23_features_10_epochs_625mn\"\n",
    ")\n",
    "statisticsSaver.save_trainned_model(file_path, MAX_EPOCHS)\n",
    "statisticsSaver.save_model_params(file_path, MAX_EPOCHS)"
   ]
  },
  {
   "cell_type": "code",
   "execution_count": 60,
   "metadata": {},
   "outputs": [
    {
     "data": {
      "image/png": "[encoded data removed]",
      "text/plain": [
       "<Figure size 432x288 with 2 Axes>"
      ]
     },
     "metadata": {
      "needs_background": "light"
     },
     "output_type": "display_data"
    },
    {
     "data": {
      "image/png": "[encoded data removed]",
      "text/plain": [
       "<Figure size 432x288 with 2 Axes>"
      ]
     },
     "metadata": {
      "needs_background": "light"
     },
     "output_type": "display_data"
    }
   ],
   "source": [
    "from utils.helper_plotting import plot_trainning_eval\n",
    "\n",
    "losses, accuracy_trainning = get_stats()\n",
    "\n",
    "plot_trainning_eval(losses, MAX_EPOCHS, \"Losses:\")\n",
    "plot_trainning_eval(accuracy_trainning, MAX_EPOCHS, \"Accuracy\")"
   ]
  },
  {
   "cell_type": "code",
   "execution_count": 61,
   "metadata": {},
   "outputs": [
    {
     "name": "stderr",
     "output_type": "stream",
     "text": [
      "100%|██████████| 22093/22093 [48:29<00:00,  7.59it/s] "
     ]
    },
    {
     "name": "stdout",
     "output_type": "stream",
     "text": [
      "\n",
      "Test set: Average loss: 2.5536, Accuracy: 435613/706969 (62%)\n",
      "\n"
     ]
    },
    {
     "name": "stderr",
     "output_type": "stream",
     "text": [
      "\n"
     ]
    },
    {
     "data": {
      "text/plain": [
       "61.61698744923752"
      ]
     },
     "execution_count": 61,
     "metadata": {},
     "output_type": "execute_result"
    }
   ],
   "source": [
    "accuracy_test = test_CNN_BILSTM_model(cnn_bilstm_model, test_loader)\n",
    "accuracy_test"
   ]
  },
  {
   "cell_type": "markdown",
   "metadata": {
    "id": "IYVBk8kbBrbC"
   },
   "source": [
    "# References\n",
    "[1] Iman Sharafaldin, Arash Habibi Lashkari, and Ali A. Ghorbani, “Toward Generating a New Intrusion Detection Dataset and Intrusion Traffic Characterization”, 4th International Conference on Information Systems Security and Privacy (ICISSP), Purtogal, January 2018"
   ]
  }
 ],
 "metadata": {
  "accelerator": "GPU",
  "colab": {
   "collapsed_sections": [],
   "include_colab_link": true,
   "name": "Copy of AML Final Project.ipynb",
   "provenance": []
  },
  "kernel_info": {
   "name": "python3"
  },
  "kernelspec": {
   "display_name": "Python 3.10.6 ('pytorch_env')",
   "language": "python",
   "name": "python3"
  },
  "language_info": {
   "codemirror_mode": {
    "name": "ipython",
    "version": 3
   },
   "file_extension": ".py",
   "mimetype": "text/x-python",
   "name": "python",
   "nbconvert_exporter": "python",
   "pygments_lexer": "ipython3",
   "version": "3.10.6 | packaged by conda-forge | (main, Oct  7 2022, 20:14:50) [MSC v.1916 64 bit (AMD64)]"
  },
  "nteract": {
   "version": "nteract-front-end@1.0.0"
  },
  "vscode": {
   "interpreter": {
    "hash": "201b6068cbed112f118c29a6393440d4ce4dc02105f31305c61d838eb972bb93"
   }
  }
 },
 "nbformat": 4,
 "nbformat_minor": 0
}
