{
  "cells": [
    {
      "cell_type": "code",
      "execution_count": 1,
      "metadata": {
        "gather": {
          "logged": 1664553945790
        }
      },
      "outputs": [
        {
          "name": "stderr",
          "output_type": "stream",
          "text": [
            "c:\\Users\\androgo\\anaconda3\\envs\\pytorch_env\\lib\\site-packages\\tqdm\\auto.py:22: TqdmWarning: IProgress not found. Please update jupyter and ipywidgets. See https://ipywidgets.readthedocs.io/en/stable/user_install.html\n",
            "  from .autonotebook import tqdm as notebook_tqdm\n"
          ]
        }
      ],
      "source": [
        "%reload_ext autoreload\n",
        "%autoreload 2\n",
        "\n",
        "import torch\n",
        "from torch import nn\n",
        "\n",
        "DEVICE = torch.device(\"cuda:0\" if torch.cuda.is_available() else \"cpu\")\n",
        "\n",
        "# azure setting\n",
        "torch.multiprocessing.set_sharing_strategy('file_system')\n"
      ]
    },
    {
      "cell_type": "markdown",
      "metadata": {},
      "source": [
        "###  Testing CNN-BIGRU model obtained from optimization with  evaluation function for f1_score"
      ]
    },
    {
      "cell_type": "code",
      "execution_count": 2,
      "metadata": {
        "gather": {
          "logged": 1664553946028
        }
      },
      "outputs": [],
      "source": [
        "# the resulting params from optuna optimization:\n",
        "model_parameters = \"\"\"Best trial:\n",
        "                number of the best trial:  7\n",
        "                  Value: 0.11880768090486526\n",
        "                  Params: \n",
        "                    n_layers: 3\n",
        "                    \n",
        "                    n_units_l0: 70\n",
        "                    no_strides_l0: 3\n",
        "                    n_units_l1: 85\n",
        "                    no_strides_l1: 1\n",
        "                    n_units_l2: 64\n",
        "                    no_strides_l2: 7\n",
        "                    \n",
        "                    dropout_l2: 0.2360531735539034\n",
        "                    learning_rate: 0.010737792310750963\n",
        "                    optimizer: RMSprop\n",
        "                  Evaluation function: f1_score\"\"\""
      ]
    },
    {
      "cell_type": "code",
      "execution_count": 3,
      "metadata": {
        "gather": {
          "logged": 1664553946347
        }
      },
      "outputs": [],
      "source": [
        "#the model is made from the best parameters found by optuna \n",
        "\n",
        "class CNN_BIGRU(nn.Module):\n",
        "    def __init__(self,args):\n",
        "        super(CNN_BIGRU, self).__init__()\n",
        "        \n",
        "        kernel_size=3\n",
        "        self.number_of_classes = args[\"number_of_classes\"]\n",
        "        self.input_shape = args[\"input_shape\"]\n",
        "        self.input_size=args[\"input_shape\"][1]\n",
        "        self.batch_size = args[\"input_shape\"][0]\n",
        "        \n",
        "                \n",
        "        self.cv1 = nn.Conv1d(self.input_size, 70, kernel_size=3, stride=3,bias=False)\n",
        "        self.avgp1 = nn.AvgPool1d(kernel_size=3, stride=3)\n",
        "        self.gn1 = nn.GroupNorm(10, 70)\n",
        "        self.lrelu1 = nn.LeakyReLU(inplace=True)\n",
        "\n",
        "        self.cv2 = nn.Conv1d(70, 85, kernel_size=1, stride=1,bias=False)\n",
        "        self.avgp2 = nn.AvgPool1d(kernel_size=1, stride=1)\n",
        "        self.gn2 = nn.GroupNorm(17, 85)\n",
        "        self.lrelu2 = nn.LeakyReLU(inplace=True)\n",
        "\n",
        "        self.cv3 = nn.Conv1d(85, 64, kernel_size=1, stride=7,bias=False)\n",
        "        self.avgp3 = nn.AvgPool1d(kernel_size=1, stride=7)\n",
        "        self.gn3 = nn.GroupNorm(16, 64)\n",
        "        self.lrelu3 = nn.LeakyReLU(inplace=True)\n",
        "\n",
        "\n",
        "\n",
        "        #Expected hidden size (4, 32, 128), got [4, 32, 64]\n",
        "        self.bigru =nn.GRU(\n",
        "                    input_size=64,\n",
        "                    hidden_size=64 * 2,\n",
        "                    #hidden_size=64,\n",
        "                    num_layers=2,\n",
        "                    batch_first=True,\n",
        "                    dropout=0.236,\n",
        "                    bidirectional=True,\n",
        "                    )\n",
        "\n",
        "        self.fc_output = nn.Linear(64*4, self.batch_size)\n",
        "        #self.fc_output = nn.Linear(64*2, self.batch_size)\n",
        "        \n",
        "        self.initialize_weights()\n",
        "        \n",
        "    def forward(self, x):\n",
        "        out = self.cv1(x)\n",
        "        assert not torch.isnan(out).any()\n",
        "        out = self.avgp1(out)\n",
        "        out = self.gn1(out)\n",
        "        out = self.lrelu1(out)\n",
        "        \n",
        "        out = self.cv2(out)\n",
        "        assert not torch.isnan(out).any()\n",
        "        out = self.avgp2(out)\n",
        "        out = self.gn2(out)\n",
        "        out = self.lrelu2(out)\n",
        "        \n",
        "        \n",
        "        out = self.cv3(out)\n",
        "        assert not torch.isnan(out).any()\n",
        "        out = self.avgp3(out)\n",
        "        out = self.gn3(out)\n",
        "        out = self.lrelu3(out)        \n",
        "        \n",
        "        outputs = torch.transpose(out, 1, 2)\n",
        "        \n",
        "        h0 = torch.zeros( 2 * 2, outputs.size(0), 64*2).to(DEVICE)\n",
        "        outputs, hidden = self.bigru(outputs, h0)\n",
        "        assert not torch.isnan(outputs).any()\n",
        "\n",
        "        outputs = self.fc_output(outputs)\n",
        "        assert not torch.isnan(outputs).any()\n",
        "\n",
        "        outputs = outputs.view(batch_size, -1)\n",
        "        linear_output = (nn.Linear(outputs.shape[1], number_of_classes)).to(DEVICE)\n",
        "            \n",
        "        # apply Linear to get shape of: (batch_size,number_of_classes)\n",
        "        # the Linear is generated in this way to make the output fit the required shape and to let RNN layer be as wide as possible\n",
        "        outputs = linear_output(outputs)            \n",
        "        assert not torch.isnan(outputs).any()\n",
        "                    \n",
        "        # reshaped because CrossEntropyLoss has to match the target\n",
        "        outputs = outputs.unsqueeze(2)\n",
        "        \n",
        "        return outputs\n",
        "    \n",
        "    def initialize_weights(self):\n",
        "        for m in self.modules():\n",
        "            if isinstance(m, nn.Conv1d):\n",
        "                nn.init.kaiming_uniform_(m.weight.data, nonlinearity=\"leaky_relu\")\n",
        "                if m.bias is not None:\n",
        "                    nn.init.constant_(m.bias.data, 0)\n",
        "            elif isinstance(m, nn.Linear):\n",
        "                torch.nn.init.kaiming_uniform_(m.weight.data, nonlinearity=\"leaky_relu\")\n",
        "                if m.bias is not None:\n",
        "                    nn.init.constant_(m.bias.data, 0)\n",
        "            elif isinstance(m, nn.GroupNorm):\n",
        "                nn.init.constant_(m.weight.data, 1)\n",
        "                nn.init.constant_(m.bias.data, 0)\n",
        "                "
      ]
    },
    {
      "cell_type": "code",
      "execution_count": 4,
      "metadata": {},
      "outputs": [
        {
          "name": "stdout",
          "output_type": "stream",
          "text": [
            "DEVICE found:  cuda:0\n",
            "number of classes:  15\n"
          ]
        },
        {
          "name": "stderr",
          "output_type": "stream",
          "text": [
            "c:\\Users\\androgo\\anaconda3\\envs\\pytorch_env\\lib\\site-packages\\torchmetrics\\utilities\\prints.py:36: UserWarning: Metric `AUROC` will save all targets and predictions in buffer. For large datasets this may lead to large memory footprint.\n",
            "  warnings.warn(*args, **kwargs)\n"
          ]
        },
        {
          "name": "stdout",
          "output_type": "stream",
          "text": [
            "c:\\Users\\androgo\\Documents\\Python Scripts\\IDS\\CICIDS2017_notebooks\\IDS_Project\n",
            "X_train__23_features (1789827, 23)\n",
            "X_test__23_features (606432, 23)\n",
            "y_train_binary__23_features (1789827,)\n",
            "0.0     1497160\n",
            "4.0      128632\n",
            "2.0       96004\n",
            "10.0      42979\n",
            "3.0        7709\n",
            "7.0        4110\n",
            "6.0        3967\n",
            "5.0        3882\n",
            "11.0       2303\n",
            "1.0        1457\n",
            "12.0       1084\n",
            "14.0        489\n",
            "9.0          27\n",
            "13.0         16\n",
            "8.0           8\n",
            "dtype: int64\n",
            "Y_test__binary (606432,)\n"
          ]
        },
        {
          "name": "stderr",
          "output_type": "stream",
          "text": [
            "c:\\Users\\androgo\\anaconda3\\envs\\pytorch_env\\lib\\site-packages\\sklearn\\base.py:450: UserWarning: X does not have valid feature names, but MinMaxScaler was fitted with feature names\n",
            "  warnings.warn(\n"
          ]
        },
        {
          "name": "stdout",
          "output_type": "stream",
          "text": [
            "classes_y:  [ 0  1  2  3  4  5  6  7  8  9 10 11 12 13 14]\n",
            "class_weights:  [7.96987630e-02 8.18955388e+01 1.24288363e+00 1.54782462e+01\n",
            " 9.27621432e-01 3.07371973e+01 3.00785984e+01 2.90320681e+01\n",
            " 1.49152250e+04 4.41932593e+03 2.77628144e+00 5.18114633e+01\n",
            " 1.10075461e+02 7.45761250e+03 2.44011861e+02]\n",
            "\n",
            "classes_class_weights: \n",
            "{0: 0.08,\n",
            " 1: 81.896,\n",
            " 2: 1.243,\n",
            " 3: 15.478,\n",
            " 4: 0.928,\n",
            " 5: 30.737,\n",
            " 6: 30.079,\n",
            " 7: 29.032,\n",
            " 8: 14915.225,\n",
            " 9: 4419.326,\n",
            " 10: 2.776,\n",
            " 11: 51.811,\n",
            " 12: 110.075,\n",
            " 13: 7457.612,\n",
            " 14: 244.012}\n"
          ]
        },
        {
          "name": "stderr",
          "output_type": "stream",
          "text": [
            "c:\\Users\\androgo\\anaconda3\\envs\\pytorch_env\\lib\\site-packages\\torchmetrics\\utilities\\prints.py:36: UserWarning: Metric `AUROC` will save all targets and predictions in buffer. For large datasets this may lead to large memory footprint.\n",
            "  warnings.warn(*args, **kwargs)\n"
          ]
        }
      ],
      "source": [
        "import torch\n",
        "from models_hyper_optim_optuna_interface import get_path_from_folder, define_model, create_study_optimization, utils_data_load\n",
        "\n",
        "max_epochs_trainning = 18\n",
        "\n",
        "\n",
        "batch_size = 32\n",
        "number_of_classes = 15\n",
        "channels = 1\n",
        "input_size = 23\n",
        "evaluation_function ='f1_score'\n",
        "\n",
        "args_model = {\n",
        "    'number_of_classes':number_of_classes, \n",
        "    'input_shape' : (batch_size, channels, input_size)\n",
        "    }\n",
        "\n",
        "\n",
        "dataInputParams, models_trainning = define_model(batch_size, max_epochs_trainning, evaluation_function = evaluation_function, USE_AUTOMATIC_MIXED_PRECISION=False)"
      ]
    },
    {
      "cell_type": "code",
      "execution_count": 5,
      "metadata": {
        "gather": {
          "logged": 1664553946504
        }
      },
      "outputs": [
        {
          "name": "stderr",
          "output_type": "stream",
          "text": [
            "100%|██████████| 18951/18951 [09:07<00:00, 34.63it/s]\n"
          ]
        }
      ],
      "source": [
        "cnn_bigru_model = CNN_BIGRU(args_model)\n",
        "optimizer = torch.optim.RMSprop(cnn_bigru_model.parameters(), lr=0.01073, alpha=0.99, eps=1e-08, centered=False)   \n",
        "\n",
        "def load_model_from_checkpoint(model, optimizer, max_epochs_trainning, evaluation_function):\n",
        "    checkpoint = torch.load(\"best_optimized_models/cnn/\"+ evaluation_function +\"/\"+\"cnnbigru_trainned_\"+ str(max_epochs_trainning))\n",
        "    model.load_state_dict(checkpoint['model'])\n",
        "    optimizer.load_state_dict(checkpoint['optimizer'])\n",
        "    \n",
        "    return model, optimizer\n",
        "\n",
        "load_model_from_checkpoint(cnn_bigru_model, optimizer, max_epochs_trainning=max_epochs_trainning, evaluation_function='f1_score')\n",
        "\n",
        "models_trainning.setParameters(\n",
        "    cnn_bigru_model,\n",
        "    optimizer\n",
        ")\n",
        "\n",
        "accuracies_scores, losses_scores, f1_scores, auroc_scores = models_trainning.testNetModel()"
      ]
    },
    {
      "cell_type": "code",
      "execution_count": 6,
      "metadata": {
        "gather": {
          "logged": 1664570254733
        }
      },
      "outputs": [
        {
          "name": "stdout",
          "output_type": "stream",
          "text": [
            "\n",
            "Test set: Average loss: 2.7289, Average accuracy: 6.6748%, \n",
            " \t  Average f1_score: 11.2319%, Average Area Under ROC: 0.5004 \n",
            "\n",
            "Test set multi class accuracies:  [6.65, 6.38, 7.28, 6.34, 6.41, 7.26, 6.2, 5.91, 33.33, 11.11, 6.95, 9.51, 8.31, 0.0, 5.52]\n",
            "Accuracy for class  BENIGN  is  6.65\n",
            "Accuracy for class  Bot  is  6.38\n",
            "Accuracy for class  DDoS  is  7.28\n",
            "Accuracy for class  DoS GoldenEye  is  6.34\n",
            "Accuracy for class  DoS Hulk  is  6.41\n",
            "Accuracy for class  DoS Slowhttptest  is  7.26\n",
            "Accuracy for class  DoS slowloris  is  6.2\n",
            "Accuracy for class  FTP-Patator  is  5.91\n",
            "Accuracy for class  Heartbleed  is  33.33\n",
            "Accuracy for class  Infiltration  is  11.11\n",
            "Accuracy for class  PortScan  is  6.95\n",
            "Accuracy for class  SSH-Patator  is  9.51\n",
            "Accuracy for class  Web Attack � Brute Force  is  8.31\n",
            "Accuracy for class  Web Attack � Sql Injection  is  0.0\n",
            "Accuracy for class  Web Attack � XSS  is  5.52\n"
          ]
        }
      ],
      "source": [
        "import utils.utils as utils\n",
        "\n",
        "multi_class_accuracies = models_trainning.get_multi_class_accuracies()\n",
        "accuracy_trainning, f1_score_trainning, auroc_trainning = models_trainning.get_evaluations_score()\n",
        "\n",
        "print(\n",
        "    \"\\nTest set: Average loss: {:.4f}, Average accuracy: {:.4f}%, \\n \\t  Average f1_score: {:.4f}%, Average Area Under ROC: {:.4f} \\n\".format(\n",
        "        utils.computeMean(losses_scores),\n",
        "        accuracy_trainning,\n",
        "        f1_score_trainning,\n",
        "        auroc_trainning,\n",
        "    )\n",
        ")\n",
        "print(\"Test set multi class accuracies: \", multi_class_accuracies)        \n",
        "\n",
        "\n",
        "i=-1\n",
        "for  key in utils_data_load.labels_dict.keys():\n",
        "    i=i+1\n",
        "    print(\"Accuracy for class \", key, \" is \", multi_class_accuracies[i])"
      ]
    },
    {
      "cell_type": "code",
      "execution_count": 7,
      "metadata": {
        "gather": {
          "logged": 1664570255102
        }
      },
      "outputs": [
        {
          "data": {
            "image/png": "[encoded data removed]",
            "text/plain": [
              "<Figure size 640x480 with 2 Axes>"
            ]
          },
          "metadata": {},
          "output_type": "display_data"
        }
      ],
      "source": [
        "from utils.utils_plotting import plot_trainning_eval\n",
        "\n",
        "plot_trainning_eval(\n",
        "        losses_scores, num_epochs=max_epochs_trainning, type_plot=\"Losses\", custom_label=\"Loss\"\n",
        "    )"
      ]
    }
  ],
  "metadata": {
    "kernel_info": {
      "name": "python38-azureml-pt-tf"
    },
    "kernelspec": {
      "display_name": "Python 3.10.6 ('pytorch_env')",
      "language": "python",
      "name": "python3"
    },
    "language_info": {
      "codemirror_mode": {
        "name": "ipython",
        "version": 3
      },
      "file_extension": ".py",
      "mimetype": "text/x-python",
      "name": "python",
      "nbconvert_exporter": "python",
      "pygments_lexer": "ipython3",
      "version": "3.10.6 | packaged by conda-forge | (main, Aug 22 2022, 20:30:19) [MSC v.1929 64 bit (AMD64)]"
    },
    "microsoft": {
      "host": {
        "AzureML": {
          "notebookHasBeenCompleted": true
        }
      }
    },
    "nteract": {
      "version": "nteract-front-end@1.0.0"
    },
    "orig_nbformat": 4,
    "vscode": {
      "interpreter": {
        "hash": "201b6068cbed112f118c29a6393440d4ce4dc02105f31305c61d838eb972bb93"
      }
    }
  },
  "nbformat": 4,
  "nbformat_minor": 2
}
