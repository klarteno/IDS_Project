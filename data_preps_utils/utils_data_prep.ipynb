{
  "cells": [
    {
      "cell_type": "markdown",
      "metadata": {
        "colab_type": "text",
        "id": "view-in-github"
      },
      "source": [
        "<a href=\"https://colab.research.google.com/gist/klarteno/0eee61b980f8feca34c731338f03b5b7/copy-of-aml-final-project.ipynb\" target=\"_parent\"><img src=\"https://colab.research.google.com/assets/colab-badge.svg\" alt=\"Open In Colab\"/></a>"
      ]
    },
    {
      "cell_type": "markdown",
      "metadata": {},
      "source": [
        "##### use the .py version of this for import in notebooks\n"
      ]
    },
    {
      "cell_type": "code",
      "execution_count": 1,
      "metadata": {
        "gather": {
          "logged": 1663659864903
        },
        "id": "r9YGgf9KND8p"
      },
      "outputs": [],
      "source": [
        "import torch\n",
        "import numpy as np\n",
        "import pandas as pd\n",
        "import sys\n",
        "import os\n",
        "\n",
        "import glob\n",
        "from torchvision.transforms import ToTensor\n",
        "\n",
        "import matplotlib.pyplot as plt\n",
        "\n",
        "import torch.nn as nn\n",
        "import torch.nn.functional as F\n",
        "import torch.optim as optim\n",
        "from torch.utils.data import Dataset,DataLoader\n",
        "\n",
        "from sklearn.model_selection import train_test_split\n",
        "from sklearn.preprocessing import StandardScaler, MinMaxScaler, LabelEncoder #, OneHotEncoder\n",
        "\n",
        "from pprint import pprint\n",
        "import time\n",
        "\n"
      ]
    },
    {
      "cell_type": "code",
      "execution_count": 2,
      "metadata": {
        "colab": {
          "base_uri": "https://localhost:8080/"
        },
        "gather": {
          "logged": 1663659865238
        },
        "id": "-ehlkCF4yoTM",
        "outputId": "52a5b938-c1aa-4e2f-8bb6-94c2c2b772bf"
      },
      "outputs": [
        {
          "data": {
            "text/plain": [
              "\"\\nfrom google.colab import drive\\ndrive.mount('/content/drive', force_remount=True)\\n%cd '/content/drive/My Drive/1_MalmoUni/AdvML/Project'\\n\""
            ]
          },
          "execution_count": 2,
          "metadata": {},
          "output_type": "execute_result"
        }
      ],
      "source": [
        "'''\n",
        "from google.colab import drive\n",
        "drive.mount('/content/drive', force_remount=True)\n",
        "%cd '/content/drive/My Drive/1_MalmoUni/AdvML/Project'\n",
        "'''"
      ]
    },
    {
      "cell_type": "markdown",
      "metadata": {},
      "source": [
        "# CICIDS2017 dataset\n",
        "------------------------------------------------\n",
        "\n",
        "<div>\n",
        "    <b>Dataset description</b>: The CICIDS2017 dataset, which has been created by the <a href=\"https://www.unb.ca/cic/datasets/ids-2017.html\">Canadian Institute for Cyber-security (CIC)</a>, consists of labeled network flows. The CICIDS2017 contains benign and the most up-to-date common attacks. It is made up of 2,830,743 records with a total of 78 features.\n",
        "</div>"
      ]
    },
    {
      "cell_type": "code",
      "execution_count": 3,
      "metadata": {
        "gather": {
          "logged": 1663659865556
        }
      },
      "outputs": [],
      "source": [
        "def clean_column_name(column):\n",
        "    column = column.strip(' ')\n",
        "    column = column.replace('/', '_')\n",
        "    column = column.replace(' ', '_')\n",
        "    column = column.lower()\n",
        "    return column"
      ]
    },
    {
      "cell_type": "code",
      "execution_count": 4,
      "metadata": {
        "gather": {
          "logged": 1663659885567
        }
      },
      "outputs": [],
      "source": [
        "# DATA_DIR  = os.path.join(os.path.abspath(\".\"), \"datasets\\MachineLearningCSV\\MachineLearningCVE\")\n",
        "DATA_DIR  = os.path.join(os.path.abspath(\".\"), \"datasets/MachineLearningCSV/MachineLearningCVE\")\n",
        "\n",
        "\n",
        "# Read all the .csv files\n",
        "filenames = glob.glob(os.path.join(DATA_DIR,  '*.csv'))\n",
        "datasets = [pd.read_csv(filename) for filename in filenames]\n",
        "\n",
        "# Remove white spaces and rename the columns\n",
        "for dataset in datasets:\n",
        "    dataset.columns = [clean_column_name(column) for column in dataset.columns]\n",
        "\n",
        "# Concatenate the datasets\n",
        "dataset = pd.concat(datasets, axis=0, ignore_index=True)\n",
        "#dataset.drop(labels=['fwd_header_length.1'], axis= 1, inplace=True)"
      ]
    },
    {
      "cell_type": "code",
      "execution_count": 5,
      "metadata": {
        "gather": {
          "logged": 1663659885962
        }
      },
      "outputs": [
        {
          "name": "stdout",
          "output_type": "stream",
          "text": [
            "<class 'pandas.core.frame.DataFrame'>\n",
            "RangeIndex: 2830743 entries, 0 to 2830742\n",
            "Data columns (total 79 columns):\n",
            " #   Column                       Dtype  \n",
            "---  ------                       -----  \n",
            " 0   destination_port             int64  \n",
            " 1   flow_duration                int64  \n",
            " 2   total_fwd_packets            int64  \n",
            " 3   total_backward_packets       int64  \n",
            " 4   total_length_of_fwd_packets  int64  \n",
            " 5   total_length_of_bwd_packets  int64  \n",
            " 6   fwd_packet_length_max        int64  \n",
            " 7   fwd_packet_length_min        int64  \n",
            " 8   fwd_packet_length_mean       float64\n",
            " 9   fwd_packet_length_std        float64\n",
            " 10  bwd_packet_length_max        int64  \n",
            " 11  bwd_packet_length_min        int64  \n",
            " 12  bwd_packet_length_mean       float64\n",
            " 13  bwd_packet_length_std        float64\n",
            " 14  flow_bytes_s                 float64\n",
            " 15  flow_packets_s               float64\n",
            " 16  flow_iat_mean                float64\n",
            " 17  flow_iat_std                 float64\n",
            " 18  flow_iat_max                 int64  \n",
            " 19  flow_iat_min                 int64  \n",
            " 20  fwd_iat_total                int64  \n",
            " 21  fwd_iat_mean                 float64\n",
            " 22  fwd_iat_std                  float64\n",
            " 23  fwd_iat_max                  int64  \n",
            " 24  fwd_iat_min                  int64  \n",
            " 25  bwd_iat_total                int64  \n",
            " 26  bwd_iat_mean                 float64\n",
            " 27  bwd_iat_std                  float64\n",
            " 28  bwd_iat_max                  int64  \n",
            " 29  bwd_iat_min                  int64  \n",
            " 30  fwd_psh_flags                int64  \n",
            " 31  bwd_psh_flags                int64  \n",
            " 32  fwd_urg_flags                int64  \n",
            " 33  bwd_urg_flags                int64  \n",
            " 34  fwd_header_length            int64  \n",
            " 35  bwd_header_length            int64  \n",
            " 36  fwd_packets_s                float64\n",
            " 37  bwd_packets_s                float64\n",
            " 38  min_packet_length            int64  \n",
            " 39  max_packet_length            int64  \n",
            " 40  packet_length_mean           float64\n",
            " 41  packet_length_std            float64\n",
            " 42  packet_length_variance       float64\n",
            " 43  fin_flag_count               int64  \n",
            " 44  syn_flag_count               int64  \n",
            " 45  rst_flag_count               int64  \n",
            " 46  psh_flag_count               int64  \n",
            " 47  ack_flag_count               int64  \n",
            " 48  urg_flag_count               int64  \n",
            " 49  cwe_flag_count               int64  \n",
            " 50  ece_flag_count               int64  \n",
            " 51  down_up_ratio                int64  \n",
            " 52  average_packet_size          float64\n",
            " 53  avg_fwd_segment_size         float64\n",
            " 54  avg_bwd_segment_size         float64\n",
            " 55  fwd_header_length.1          int64  \n",
            " 56  fwd_avg_bytes_bulk           int64  \n",
            " 57  fwd_avg_packets_bulk         int64  \n",
            " 58  fwd_avg_bulk_rate            int64  \n",
            " 59  bwd_avg_bytes_bulk           int64  \n",
            " 60  bwd_avg_packets_bulk         int64  \n",
            " 61  bwd_avg_bulk_rate            int64  \n",
            " 62  subflow_fwd_packets          int64  \n",
            " 63  subflow_fwd_bytes            int64  \n",
            " 64  subflow_bwd_packets          int64  \n",
            " 65  subflow_bwd_bytes            int64  \n",
            " 66  init_win_bytes_forward       int64  \n",
            " 67  init_win_bytes_backward      int64  \n",
            " 68  act_data_pkt_fwd             int64  \n",
            " 69  min_seg_size_forward         int64  \n",
            " 70  active_mean                  float64\n",
            " 71  active_std                   float64\n",
            " 72  active_max                   int64  \n",
            " 73  active_min                   int64  \n",
            " 74  idle_mean                    float64\n",
            " 75  idle_std                     float64\n",
            " 76  idle_max                     int64  \n",
            " 77  idle_min                     int64  \n",
            " 78  label                        object \n",
            "dtypes: float64(24), int64(54), object(1)\n",
            "memory usage: 1.7+ GB\n"
          ]
        }
      ],
      "source": [
        "dataset.info()"
      ]
    },
    {
      "cell_type": "code",
      "execution_count": 6,
      "metadata": {
        "gather": {
          "logged": 1663659886319
        }
      },
      "outputs": [
        {
          "data": {
            "text/html": [
              "<div>\n",
              "<style scoped>\n",
              "    .dataframe tbody tr th:only-of-type {\n",
              "        vertical-align: middle;\n",
              "    }\n",
              "\n",
              "    .dataframe tbody tr th {\n",
              "        vertical-align: top;\n",
              "    }\n",
              "\n",
              "    .dataframe thead th {\n",
              "        text-align: right;\n",
              "    }\n",
              "</style>\n",
              "<table border=\"1\" class=\"dataframe\">\n",
              "  <thead>\n",
              "    <tr style=\"text-align: right;\">\n",
              "      <th></th>\n",
              "      <th>destination_port</th>\n",
              "      <th>flow_duration</th>\n",
              "      <th>total_fwd_packets</th>\n",
              "      <th>total_backward_packets</th>\n",
              "      <th>total_length_of_fwd_packets</th>\n",
              "      <th>total_length_of_bwd_packets</th>\n",
              "      <th>fwd_packet_length_max</th>\n",
              "      <th>fwd_packet_length_min</th>\n",
              "      <th>fwd_packet_length_mean</th>\n",
              "      <th>fwd_packet_length_std</th>\n",
              "      <th>...</th>\n",
              "      <th>min_seg_size_forward</th>\n",
              "      <th>active_mean</th>\n",
              "      <th>active_std</th>\n",
              "      <th>active_max</th>\n",
              "      <th>active_min</th>\n",
              "      <th>idle_mean</th>\n",
              "      <th>idle_std</th>\n",
              "      <th>idle_max</th>\n",
              "      <th>idle_min</th>\n",
              "      <th>label</th>\n",
              "    </tr>\n",
              "  </thead>\n",
              "  <tbody>\n",
              "    <tr>\n",
              "      <th>0</th>\n",
              "      <td>54865</td>\n",
              "      <td>3</td>\n",
              "      <td>2</td>\n",
              "      <td>0</td>\n",
              "      <td>12</td>\n",
              "      <td>0</td>\n",
              "      <td>6</td>\n",
              "      <td>6</td>\n",
              "      <td>6.0</td>\n",
              "      <td>0.0</td>\n",
              "      <td>...</td>\n",
              "      <td>20</td>\n",
              "      <td>0.0</td>\n",
              "      <td>0.0</td>\n",
              "      <td>0</td>\n",
              "      <td>0</td>\n",
              "      <td>0.0</td>\n",
              "      <td>0.0</td>\n",
              "      <td>0</td>\n",
              "      <td>0</td>\n",
              "      <td>BENIGN</td>\n",
              "    </tr>\n",
              "    <tr>\n",
              "      <th>1</th>\n",
              "      <td>55054</td>\n",
              "      <td>109</td>\n",
              "      <td>1</td>\n",
              "      <td>1</td>\n",
              "      <td>6</td>\n",
              "      <td>6</td>\n",
              "      <td>6</td>\n",
              "      <td>6</td>\n",
              "      <td>6.0</td>\n",
              "      <td>0.0</td>\n",
              "      <td>...</td>\n",
              "      <td>20</td>\n",
              "      <td>0.0</td>\n",
              "      <td>0.0</td>\n",
              "      <td>0</td>\n",
              "      <td>0</td>\n",
              "      <td>0.0</td>\n",
              "      <td>0.0</td>\n",
              "      <td>0</td>\n",
              "      <td>0</td>\n",
              "      <td>BENIGN</td>\n",
              "    </tr>\n",
              "    <tr>\n",
              "      <th>2</th>\n",
              "      <td>55055</td>\n",
              "      <td>52</td>\n",
              "      <td>1</td>\n",
              "      <td>1</td>\n",
              "      <td>6</td>\n",
              "      <td>6</td>\n",
              "      <td>6</td>\n",
              "      <td>6</td>\n",
              "      <td>6.0</td>\n",
              "      <td>0.0</td>\n",
              "      <td>...</td>\n",
              "      <td>20</td>\n",
              "      <td>0.0</td>\n",
              "      <td>0.0</td>\n",
              "      <td>0</td>\n",
              "      <td>0</td>\n",
              "      <td>0.0</td>\n",
              "      <td>0.0</td>\n",
              "      <td>0</td>\n",
              "      <td>0</td>\n",
              "      <td>BENIGN</td>\n",
              "    </tr>\n",
              "    <tr>\n",
              "      <th>3</th>\n",
              "      <td>46236</td>\n",
              "      <td>34</td>\n",
              "      <td>1</td>\n",
              "      <td>1</td>\n",
              "      <td>6</td>\n",
              "      <td>6</td>\n",
              "      <td>6</td>\n",
              "      <td>6</td>\n",
              "      <td>6.0</td>\n",
              "      <td>0.0</td>\n",
              "      <td>...</td>\n",
              "      <td>20</td>\n",
              "      <td>0.0</td>\n",
              "      <td>0.0</td>\n",
              "      <td>0</td>\n",
              "      <td>0</td>\n",
              "      <td>0.0</td>\n",
              "      <td>0.0</td>\n",
              "      <td>0</td>\n",
              "      <td>0</td>\n",
              "      <td>BENIGN</td>\n",
              "    </tr>\n",
              "    <tr>\n",
              "      <th>4</th>\n",
              "      <td>54863</td>\n",
              "      <td>3</td>\n",
              "      <td>2</td>\n",
              "      <td>0</td>\n",
              "      <td>12</td>\n",
              "      <td>0</td>\n",
              "      <td>6</td>\n",
              "      <td>6</td>\n",
              "      <td>6.0</td>\n",
              "      <td>0.0</td>\n",
              "      <td>...</td>\n",
              "      <td>20</td>\n",
              "      <td>0.0</td>\n",
              "      <td>0.0</td>\n",
              "      <td>0</td>\n",
              "      <td>0</td>\n",
              "      <td>0.0</td>\n",
              "      <td>0.0</td>\n",
              "      <td>0</td>\n",
              "      <td>0</td>\n",
              "      <td>BENIGN</td>\n",
              "    </tr>\n",
              "  </tbody>\n",
              "</table>\n",
              "<p>5 rows × 79 columns</p>\n",
              "</div>"
            ],
            "text/plain": [
              "   destination_port  flow_duration  total_fwd_packets  total_backward_packets  \\\n",
              "0             54865              3                  2                       0   \n",
              "1             55054            109                  1                       1   \n",
              "2             55055             52                  1                       1   \n",
              "3             46236             34                  1                       1   \n",
              "4             54863              3                  2                       0   \n",
              "\n",
              "   total_length_of_fwd_packets  total_length_of_bwd_packets  \\\n",
              "0                           12                            0   \n",
              "1                            6                            6   \n",
              "2                            6                            6   \n",
              "3                            6                            6   \n",
              "4                           12                            0   \n",
              "\n",
              "   fwd_packet_length_max  fwd_packet_length_min  fwd_packet_length_mean  \\\n",
              "0                      6                      6                     6.0   \n",
              "1                      6                      6                     6.0   \n",
              "2                      6                      6                     6.0   \n",
              "3                      6                      6                     6.0   \n",
              "4                      6                      6                     6.0   \n",
              "\n",
              "   fwd_packet_length_std  ...  min_seg_size_forward  active_mean  active_std  \\\n",
              "0                    0.0  ...                    20          0.0         0.0   \n",
              "1                    0.0  ...                    20          0.0         0.0   \n",
              "2                    0.0  ...                    20          0.0         0.0   \n",
              "3                    0.0  ...                    20          0.0         0.0   \n",
              "4                    0.0  ...                    20          0.0         0.0   \n",
              "\n",
              "   active_max  active_min  idle_mean  idle_std  idle_max  idle_min   label  \n",
              "0           0           0        0.0       0.0         0         0  BENIGN  \n",
              "1           0           0        0.0       0.0         0         0  BENIGN  \n",
              "2           0           0        0.0       0.0         0         0  BENIGN  \n",
              "3           0           0        0.0       0.0         0         0  BENIGN  \n",
              "4           0           0        0.0       0.0         0         0  BENIGN  \n",
              "\n",
              "[5 rows x 79 columns]"
            ]
          },
          "execution_count": 6,
          "metadata": {},
          "output_type": "execute_result"
        }
      ],
      "source": [
        "dataset.head(5)"
      ]
    },
    {
      "cell_type": "code",
      "execution_count": 7,
      "metadata": {
        "gather": {
          "logged": 1663659887286
        }
      },
      "outputs": [
        {
          "data": {
            "text/plain": [
              "BENIGN                        2273097\n",
              "DoS Hulk                       231073\n",
              "PortScan                       158930\n",
              "DDoS                           128027\n",
              "DoS GoldenEye                   10293\n",
              "FTP-Patator                      7938\n",
              "SSH-Patator                      5897\n",
              "DoS slowloris                    5796\n",
              "DoS Slowhttptest                 5499\n",
              "Bot                              1966\n",
              "Web Attack � Brute Force         1507\n",
              "Web Attack � XSS                  652\n",
              "Infiltration                       36\n",
              "Web Attack � Sql Injection         21\n",
              "Heartbleed                         11\n",
              "Name: label, dtype: int64"
            ]
          },
          "execution_count": 7,
          "metadata": {},
          "output_type": "execute_result"
        }
      ],
      "source": [
        "dataset.label.value_counts()"
      ]
    },
    {
      "cell_type": "code",
      "execution_count": null,
      "metadata": {},
      "outputs": [],
      "source": [
        "(65/100)*2273097"
      ]
    },
    {
      "cell_type": "code",
      "execution_count": 8,
      "metadata": {
        "gather": {
          "logged": 1663659896188
        }
      },
      "outputs": [
        {
          "data": {
            "text/plain": [
              "403550"
            ]
          },
          "execution_count": 8,
          "metadata": {},
          "output_type": "execute_result"
        }
      ],
      "source": [
        "dataset.duplicated(keep=False).sum()"
      ]
    },
    {
      "cell_type": "code",
      "execution_count": 9,
      "metadata": {
        "gather": {
          "logged": 1663659918426
        }
      },
      "outputs": [
        {
          "name": "stdout",
          "output_type": "stream",
          "text": [
            "Datase duplicates : True\n",
            "count of duplicate values dropped:  403550\n"
          ]
        }
      ],
      "source": [
        "print('Datase duplicates :', dataset.duplicated().any())\n",
        "lenght_data = len(dataset)\n",
        "dataset.drop_duplicates(inplace=True, keep=False, ignore_index=True)\n",
        "# Remove duplicate rows\n",
        "dups_count = lenght_data-len(dataset)\n",
        "\n",
        "print('count of duplicate values dropped: ', dups_count)"
      ]
    },
    {
      "cell_type": "markdown",
      "metadata": {},
      "source": [
        "Check and drop if there are missing values in each feature.\n",
        "All the missing values come from the `flow_bytes_s`."
      ]
    },
    {
      "cell_type": "code",
      "execution_count": 10,
      "metadata": {
        "gather": {
          "logged": 1663659920019
        }
      },
      "outputs": [
        {
          "name": "stdout",
          "output_type": "stream",
          "text": [
            "flow_bytes_s  has NAN values : 334\n",
            "count of NANs values dropped:  334\n"
          ]
        }
      ],
      "source": [
        "def print_nans():\n",
        "    result = dataset.isna().sum()\n",
        "    \n",
        "    for idx in result.index:\n",
        "        if result[idx] > 0:\n",
        "            print(idx,' has NAN values :' ,result[idx])      \n",
        "\n",
        "print_nans()  \n",
        "\n",
        "lenght_data = len(dataset)\n",
        "dataset.dropna(axis=0, inplace=True, how=\"any\")\n",
        "# Remove duplicate rows\n",
        "dups_count = lenght_data-len(dataset)\n",
        "\n",
        "print('count of NANs values dropped: ', dups_count)"
      ]
    },
    {
      "cell_type": "markdown",
      "metadata": {},
      "source": [
        "Checking if all values are finite."
      ]
    },
    {
      "cell_type": "code",
      "execution_count": 11,
      "metadata": {
        "gather": {
          "logged": 1663659922946
        }
      },
      "outputs": [
        {
          "name": "stdout",
          "output_type": "stream",
          "text": [
            "are all values finite:  False\n",
            "flow_bytes_s  has NAN values : 1132\n",
            "flow_packets_s  has NAN values : 1132\n"
          ]
        }
      ],
      "source": [
        "print('are all values finite: ',np.all(np.isfinite(dataset.drop(['label'], axis=1))))\n",
        "# Replace infinite values to NaN\n",
        "dataset.replace([-np.inf, np.inf], np.nan, inplace=True)\n",
        "print_nans()  "
      ]
    },
    {
      "cell_type": "markdown",
      "metadata": {},
      "source": [
        "Check which labels are related to infinte values  <br/>\n",
        "BENIGN labels are the majority and have the highest count of infinte values  <br/>\n",
        "The number of infinte values are small comparative with the number of values for each label  <br/>"
      ]
    },
    {
      "cell_type": "code",
      "execution_count": 12,
      "metadata": {
        "gather": {
          "logged": 1663659923312
        }
      },
      "outputs": [
        {
          "data": {
            "text/plain": [
              "BENIGN         1001\n",
              "PortScan        124\n",
              "Bot               4\n",
              "DDoS              2\n",
              "FTP-Patator       1\n",
              "Name: label, dtype: int64"
            ]
          },
          "execution_count": 12,
          "metadata": {},
          "output_type": "execute_result"
        }
      ],
      "source": [
        "dataset[(dataset['flow_bytes_s'].isna()) & (dataset['flow_packets_s'].isna())].label.value_counts()"
      ]
    },
    {
      "cell_type": "code",
      "execution_count": 13,
      "metadata": {
        "gather": {
          "logged": 1663659924000
        }
      },
      "outputs": [
        {
          "name": "stdout",
          "output_type": "stream",
          "text": [
            "count of infinte values dropped:  1132\n"
          ]
        }
      ],
      "source": [
        "lenght_data = len(dataset)\n",
        "\n",
        "# Remove infinte values\n",
        "dataset.dropna(axis=0, how='any', inplace=True)\n",
        "\n",
        "dups_count = lenght_data-len(dataset)\n",
        "\n",
        "print('count of infinte values dropped: ', dups_count)"
      ]
    },
    {
      "cell_type": "markdown",
      "metadata": {},
      "source": [
        "## Outliers\n",
        "There are outliers but is assummed the neural networks will handle it for the moment"
      ]
    },
    {
      "cell_type": "code",
      "execution_count": 14,
      "metadata": {
        "gather": {
          "logged": 1663659931768
        }
      },
      "outputs": [
        {
          "name": "stdout",
          "output_type": "stream",
          "text": [
            "ack_flag_count                      0\n",
            "act_data_pkt_fwd               193207\n",
            "active_max                     558821\n",
            "active_mean                    558821\n",
            "active_min                     558821\n",
            "                                ...  \n",
            "total_backward_packets         239223\n",
            "total_fwd_packets              252467\n",
            "total_length_of_bwd_packets    492852\n",
            "total_length_of_fwd_packets    309634\n",
            "urg_flag_count                 252178\n",
            "Length: 79, dtype: int64\n"
          ]
        }
      ],
      "source": [
        "Q1 = dataset.quantile(0.25)\n",
        "Q3 = dataset.quantile(0.75)\n",
        "IQR = Q3 - Q1\n",
        "\n",
        "# Identifying outliers with interquartile range\n",
        "filt = (dataset < (Q1 - 1.5 * IQR)) | (dataset > (Q3 + 1.5 * IQR))\n",
        "print(filt.sum())"
      ]
    },
    {
      "cell_type": "code",
      "execution_count": 15,
      "metadata": {
        "gather": {
          "logged": 1663659932884
        }
      },
      "outputs": [
        {
          "data": {
            "image/png": "[encoded data removed]",
            "text/plain": [
              "<Figure size 1080x576 with 1 Axes>"
            ]
          },
          "metadata": {
            "needs_background": "light"
          },
          "output_type": "display_data"
        }
      ],
      "source": [
        "import seaborn as sns\n",
        "sns.set_theme(style=\"white\", color_codes=True)\n",
        "\n",
        "fig = plt.figure(figsize=(15, 8))\n",
        "sns.boxplot(data=dataset[[\"average_packet_size\", \"avg_bwd_segment_size\"]], orient=\"h\")\n",
        "\n",
        "plt.title('Summary of some variables containing outliers', fontsize=18)\n",
        "plt.show()\n"
      ]
    },
    {
      "cell_type": "code",
      "execution_count": 16,
      "metadata": {
        "gather": {
          "logged": 1663659933278
        }
      },
      "outputs": [
        {
          "name": "stdout",
          "output_type": "stream",
          "text": [
            "{'float64': Index(['fwd_packet_length_mean', 'fwd_packet_length_std',\n",
            "       'bwd_packet_length_mean', 'bwd_packet_length_std', 'flow_bytes_s',\n",
            "       'flow_packets_s', 'flow_iat_mean', 'flow_iat_std', 'fwd_iat_mean',\n",
            "       'fwd_iat_std', 'bwd_iat_mean', 'bwd_iat_std', 'fwd_packets_s',\n",
            "       'bwd_packets_s', 'packet_length_mean', 'packet_length_std',\n",
            "       'packet_length_variance', 'average_packet_size', 'avg_fwd_segment_size',\n",
            "       'avg_bwd_segment_size', 'active_mean', 'active_std', 'idle_mean',\n",
            "       'idle_std'],\n",
            "      dtype='object'),\n",
            " 'int64': Index(['destination_port', 'flow_duration', 'total_fwd_packets',\n",
            "       'total_backward_packets', 'total_length_of_fwd_packets',\n",
            "       'total_length_of_bwd_packets', 'fwd_packet_length_max',\n",
            "       'fwd_packet_length_min', 'bwd_packet_length_max',\n",
            "       'bwd_packet_length_min', 'flow_iat_max', 'flow_iat_min',\n",
            "       'fwd_iat_total', 'fwd_iat_max', 'fwd_iat_min', 'bwd_iat_total',\n",
            "       'bwd_iat_max', 'bwd_iat_min', 'fwd_psh_flags', 'bwd_psh_flags',\n",
            "       'fwd_urg_flags', 'bwd_urg_flags', 'fwd_header_length',\n",
            "       'bwd_header_length', 'min_packet_length', 'max_packet_length',\n",
            "       'fin_flag_count', 'syn_flag_count', 'rst_flag_count', 'psh_flag_count',\n",
            "       'ack_flag_count', 'urg_flag_count', 'cwe_flag_count', 'ece_flag_count',\n",
            "       'down_up_ratio', 'fwd_header_length.1', 'fwd_avg_bytes_bulk',\n",
            "       'fwd_avg_packets_bulk', 'fwd_avg_bulk_rate', 'bwd_avg_bytes_bulk',\n",
            "       'bwd_avg_packets_bulk', 'bwd_avg_bulk_rate', 'subflow_fwd_packets',\n",
            "       'subflow_fwd_bytes', 'subflow_bwd_packets', 'subflow_bwd_bytes',\n",
            "       'init_win_bytes_forward', 'init_win_bytes_backward', 'act_data_pkt_fwd',\n",
            "       'min_seg_size_forward', 'active_max', 'active_min', 'idle_max',\n",
            "       'idle_min'],\n",
            "      dtype='object'),\n",
            " 'object': Index(['label'], dtype='object')}\n",
            "         count unique     top     freq\n",
            "label  2425727     15  BENIGN  2035505\n"
          ]
        }
      ],
      "source": [
        "dataset_datatypes = dataset.columns.to_series().groupby(dataset.dtypes).groups\n",
        "datatypes_info = {k.name: v for k, v in dataset_datatypes.items()}\n",
        "\n",
        "pprint(datatypes_info)\n",
        "pprint(dataset.describe(include=[object]).transpose())"
      ]
    },
    {
      "cell_type": "code",
      "execution_count": 17,
      "metadata": {
        "gather": {
          "logged": 1663659933621
        }
      },
      "outputs": [],
      "source": [
        "dataset[['flow_bytes_s', 'flow_packets_s']] = dataset[['flow_bytes_s', 'flow_packets_s']].apply(pd.to_numeric)"
      ]
    },
    {
      "cell_type": "markdown",
      "metadata": {
        "id": "ZfyxB9Xrc0vo"
      },
      "source": [
        "## Inputs-Output Data Split"
      ]
    },
    {
      "cell_type": "code",
      "execution_count": 18,
      "metadata": {
        "colab": {
          "base_uri": "https://localhost:8080/"
        },
        "gather": {
          "logged": 1663659933941
        },
        "id": "9FxgbkWAXIZv",
        "outputId": "0947e91b-1cdd-48a3-90f8-af120cf87a05"
      },
      "outputs": [
        {
          "name": "stdout",
          "output_type": "stream",
          "text": [
            "shape of X:  (2425727, 78)\n",
            "number of labels of y:  15\n",
            "Class labels:  ['BENIGN' 'DDoS' 'PortScan' 'Bot' 'Infiltration'\n",
            " 'Web Attack � Brute Force' 'Web Attack � XSS'\n",
            " 'Web Attack � Sql Injection' 'FTP-Patator' 'SSH-Patator' 'DoS slowloris'\n",
            " 'DoS Slowhttptest' 'DoS Hulk' 'DoS GoldenEye' 'Heartbleed']\n"
          ]
        }
      ],
      "source": [
        "Y = dataset.label\n",
        "X = dataset.drop(columns='label')\n",
        "\n",
        "class_labels = Y.unique()\n",
        "\n",
        "num_classes = Y.nunique()     # number of unique values\n",
        "print(\"shape of X: \",X.shape)\n",
        "print(\"number of labels of y: \", num_classes)\n",
        "print(\"Class labels: \", class_labels)"
      ]
    },
    {
      "cell_type": "code",
      "execution_count": 19,
      "metadata": {
        "gather": {
          "logged": 1663659934290
        }
      },
      "outputs": [
        {
          "data": {
            "text/plain": [
              "\"\\n\\nfrom sklearn.impute import SimpleImputer\\n\\nmean_imp = SimpleImputer(missing_values=-1, strategy='mean')\\ncat_imp = SimpleImputer(missing_values=-1, strategy='most_frequent')\\nfor c in X.columns:\\n  X[c] = mean_imp.fit_transform(X[[c]]).ravel()\\n  \\n\""
            ]
          },
          "execution_count": 19,
          "metadata": {},
          "output_type": "execute_result"
        }
      ],
      "source": [
        "#  are there missing values\n",
        "'''\n",
        "\n",
        "from sklearn.impute import SimpleImputer\n",
        "\n",
        "mean_imp = SimpleImputer(missing_values=-1, strategy='mean')\n",
        "cat_imp = SimpleImputer(missing_values=-1, strategy='most_frequent')\n",
        "for c in X.columns:\n",
        "  X[c] = mean_imp.fit_transform(X[[c]]).ravel()\n",
        "  \n",
        "'''\n"
      ]
    },
    {
      "cell_type": "code",
      "execution_count": 20,
      "metadata": {
        "gather": {
          "logged": 1663659934616
        },
        "jupyter": {
          "outputs_hidden": false,
          "source_hidden": false
        },
        "nteract": {
          "transient": {
            "deleting": false
          }
        }
      },
      "outputs": [
        {
          "data": {
            "text/plain": [
              "Index(['destination_port', 'flow_duration', 'total_fwd_packets',\n",
              "       'total_backward_packets', 'total_length_of_fwd_packets',\n",
              "       'total_length_of_bwd_packets', 'fwd_packet_length_max',\n",
              "       'fwd_packet_length_min', 'fwd_packet_length_mean',\n",
              "       'fwd_packet_length_std', 'bwd_packet_length_max',\n",
              "       'bwd_packet_length_min', 'bwd_packet_length_mean',\n",
              "       'bwd_packet_length_std', 'flow_bytes_s', 'flow_packets_s',\n",
              "       'flow_iat_mean', 'flow_iat_std', 'flow_iat_max', 'flow_iat_min',\n",
              "       'fwd_iat_total', 'fwd_iat_mean', 'fwd_iat_std', 'fwd_iat_max',\n",
              "       'fwd_iat_min', 'bwd_iat_total', 'bwd_iat_mean', 'bwd_iat_std',\n",
              "       'bwd_iat_max', 'bwd_iat_min', 'fwd_psh_flags', 'bwd_psh_flags',\n",
              "       'fwd_urg_flags', 'bwd_urg_flags', 'fwd_header_length',\n",
              "       'bwd_header_length', 'fwd_packets_s', 'bwd_packets_s',\n",
              "       'min_packet_length', 'max_packet_length', 'packet_length_mean',\n",
              "       'packet_length_std', 'packet_length_variance', 'fin_flag_count',\n",
              "       'syn_flag_count', 'rst_flag_count', 'psh_flag_count', 'ack_flag_count',\n",
              "       'urg_flag_count', 'cwe_flag_count', 'ece_flag_count', 'down_up_ratio',\n",
              "       'average_packet_size', 'avg_fwd_segment_size', 'avg_bwd_segment_size',\n",
              "       'fwd_header_length.1', 'fwd_avg_bytes_bulk', 'fwd_avg_packets_bulk',\n",
              "       'fwd_avg_bulk_rate', 'bwd_avg_bytes_bulk', 'bwd_avg_packets_bulk',\n",
              "       'bwd_avg_bulk_rate', 'subflow_fwd_packets', 'subflow_fwd_bytes',\n",
              "       'subflow_bwd_packets', 'subflow_bwd_bytes', 'init_win_bytes_forward',\n",
              "       'init_win_bytes_backward', 'act_data_pkt_fwd', 'min_seg_size_forward',\n",
              "       'active_mean', 'active_std', 'active_max', 'active_min', 'idle_mean',\n",
              "       'idle_std', 'idle_max', 'idle_min'],\n",
              "      dtype='object')"
            ]
          },
          "execution_count": 20,
          "metadata": {},
          "output_type": "execute_result"
        }
      ],
      "source": [
        "X.columns"
      ]
    },
    {
      "cell_type": "markdown",
      "metadata": {},
      "source": [
        "##### Select the number of relevant features out of total of 78"
      ]
    },
    {
      "cell_type": "code",
      "execution_count": 21,
      "metadata": {
        "colab": {
          "base_uri": "https://localhost:8080/",
          "height": 238
        },
        "gather": {
          "logged": 1663659935014
        },
        "id": "lN9xTgzr_EQ9",
        "outputId": "aafeb6b2-0a3c-41db-eea4-c800c0499c4f"
      },
      "outputs": [
        {
          "name": "stdout",
          "output_type": "stream",
          "text": [
            "X_select_78_features (2425727, 78)\n",
            "X_select_23_features (2425727, 23)\n"
          ]
        }
      ],
      "source": [
        "X_select_78_features = X\n",
        "\n",
        "selected_features = [\"bwd_packet_length_min\", \"subflow_fwd_bytes\", \"total_length_of_fwd_packets\", \"fwd_packet_length_mean\", \"bwd_packet_length_std\", \"flow_iat_min\", \"fwd_iat_min\", \"flow_iat_mean\", \"flow_duration\", \"flow_iat_std\", \"init_win_bytes_forward\", \"active_min\", \"active_mean\", \"bwd_packets_s\", \"bwd_iat_mean\", \"fwd_iat_mean\", \"ack_flag_count\", \"fwd_psh_flags\", \"syn_flag_count\", \"fwd_packets_s\", \"init_win_bytes_backward\", \"psh_flag_count\", \"average_packet_size\"]\n",
        "X_select_23_features = X[np.intersect1d(X.columns, selected_features)]\n",
        "\n",
        "print('X_select_78_features', X_select_78_features.shape)\n",
        "print('X_select_23_features', X_select_23_features.shape)"
      ]
    },
    {
      "cell_type": "code",
      "execution_count": 22,
      "metadata": {
        "colab": {
          "base_uri": "https://localhost:8080/"
        },
        "gather": {
          "logged": 1663659940723
        },
        "id": "RbXJPB5FbyTt",
        "outputId": "5fbc7846-d038-4190-906f-e793ab8d55d5"
      },
      "outputs": [
        {
          "name": "stdout",
          "output_type": "stream",
          "text": [
            "\n",
            "after spliting the data:\n",
            "x training data shape: (1819295, 78)\n",
            "x test data shape: (606432, 78)\n",
            "x training data shape: (1819295, 23)\n",
            "x test data shape: (606432, 23)\n",
            "y training data shape: (1819295,)\n",
            "y test data shape: (606432,)\n"
          ]
        }
      ],
      "source": [
        "X_train_78_features, X_test_78_features, Y_train, Y_test = train_test_split(X_select_78_features, Y, random_state=42, stratify=Y)\n",
        "X_train_23_features, X_test_23_features, Y_train, Y_test = train_test_split(X_select_23_features, Y, random_state=42, stratify=Y)\n",
        "\n",
        "\n",
        "print(\"\\nafter spliting the data:\")\n",
        "print(\"x training data shape:\", X_train_78_features.shape)\n",
        "print(\"x test data shape:\", X_test_78_features.shape)\n",
        "\n",
        "print(\"x training data shape:\", X_train_23_features.shape)\n",
        "print(\"x test data shape:\", X_test_23_features.shape)\n",
        "\n",
        "print(\"y training data shape:\", Y_train.shape)\n",
        "print(\"y test data shape:\", Y_test.shape)\n"
      ]
    },
    {
      "cell_type": "markdown",
      "metadata": {},
      "source": [
        "##### Encode the text of the labels to numbers"
      ]
    },
    {
      "cell_type": "code",
      "execution_count": 23,
      "metadata": {
        "gather": {
          "logged": 1663659941144
        }
      },
      "outputs": [
        {
          "name": "stdout",
          "output_type": "stream",
          "text": [
            "{'BENIGN': 0,\n",
            " 'Bot': 1,\n",
            " 'DDoS': 2,\n",
            " 'DoS GoldenEye': 3,\n",
            " 'DoS Hulk': 4,\n",
            " 'DoS Slowhttptest': 5,\n",
            " 'DoS slowloris': 6,\n",
            " 'FTP-Patator': 7,\n",
            " 'Heartbleed': 8,\n",
            " 'Infiltration': 9,\n",
            " 'PortScan': 10,\n",
            " 'SSH-Patator': 11,\n",
            " 'Web Attack � Brute Force': 12,\n",
            " 'Web Attack � Sql Injection': 13,\n",
            " 'Web Attack � XSS': 14}\n"
          ]
        }
      ],
      "source": [
        "le = LabelEncoder()       # Encode target labels with value between 0 and n_classes-1\n",
        "\n",
        "Y_train_binary = le.fit_transform(Y_train)\n",
        "\n",
        "#print(\"instances per label in test set\\n\", y_test_binary.value_counts())\n",
        "# transform -\tTransform labels to normalized encoding.\n",
        "Y_test_binary = le.transform(Y_test)\n",
        "\n",
        "#we use fit_transform() on training data but transform() on the test data\n",
        "\n",
        "# classes_ - ndarray of shape (n_classes,) - Holds the label for each class.\n",
        "# To create a dictionary from two sequences, use dict(zip(keys, values))\n",
        "# The zip(fields, values) method returns an iterator that generates two-items tuples \n",
        "labels_dict = dict(zip(le.classes_, range(len(le.classes_))))\n",
        "\n",
        "pprint(labels_dict)\n",
        "\n",
        "\n",
        "\n",
        "\n",
        "import pickle\n",
        "\n",
        "_file = open(\"datasets/labels_dict_file.pkl\",\"wb\")\n",
        "pickle.dump(labels_dict, _file)\n",
        "_file.close()"
      ]
    },
    {
      "cell_type": "code",
      "execution_count": 24,
      "metadata": {
        "gather": {
          "logged": 1663569663983
        },
        "jupyter": {
          "outputs_hidden": false,
          "source_hidden": false
        },
        "nteract": {
          "transient": {
            "deleting": false
          }
        }
      },
      "outputs": [
        {
          "name": "stdout",
          "output_type": "stream",
          "text": [
            "/mnt/batch/tasks/shared/LS_root/mounts/clusters/mycomputenotebook1/code/Users/bredsoby\r\n"
          ]
        }
      ],
      "source": [
        "!pwd"
      ]
    },
    {
      "cell_type": "markdown",
      "metadata": {},
      "source": [
        "##### Sample only trainning data an leave the test or validation data as is  </br>\n",
        " run the code in the cell only if saved sampled data is missing"
      ]
    },
    {
      "cell_type": "code",
      "execution_count": 25,
      "metadata": {
        "gather": {
          "logged": 1663659941928
        }
      },
      "outputs": [
        {
          "data": {
            "text/plain": [
              "'\\niht = InstanceHardnessThreshold(random_state=42, sampling_strategy=\\'majority\\', n_jobs=os.cpu_count())\\n\\nX_train_78_features_sampled, Y_train_78_features_sampled = iht.fit_resample(X_train_78_features, Y_train_binary)\\n\\n# save what have been sampled to files \\nX_train_78_features_sampled.to_csv(\\'datasets/X_train_78_features_sampled.csv\\')\\nnp.savetxt(\"datasets/y_train_binary_78_features_sampled.csv\", Y_train_78_features_sampled, delimiter=\",\")\\nX_train_78_features_sampled = None\\nY_train_78_features_sampled = None\\n\\n\\nX_train_23_features_sampled, Y_train_23_features_sampled = iht.fit_resample(X_train_23_features, Y_train_binary)\\n\\n# save what have been sampled to files\\nX_train_23_features_sampled.to_csv(\\'datasets/X_train_23_features_sampled.csv\\')\\nnp.savetxt(\"datasets/y_train_binary_23_features_sampled.csv\", Y_train_23_features_sampled, delimiter=\",\")\\n\\n\\nX_test_78_features.to_csv(\\'datasets/X_test_78_features.csv\\')\\nX_test_23_features.to_csv(\\'datasets/X_test_23_features.csv\\')\\n\\nnp.savetxt(\"datasets/y_test_binary.csv\", Y_test_binary, delimiter=\",\")\\n'"
            ]
          },
          "execution_count": 25,
          "metadata": {},
          "output_type": "execute_result"
        }
      ],
      "source": [
        "# from imblearn.under_sampling import InstanceHardnessThreshold\n",
        "\n",
        "\n",
        "'''\n",
        "iht = InstanceHardnessThreshold(random_state=42, sampling_strategy='majority', n_jobs=os.cpu_count())\n",
        "\n",
        "X_train_78_features_sampled, Y_train_78_features_sampled = iht.fit_resample(X_train_78_features, Y_train_binary)\n",
        "\n",
        "# save what have been sampled to files \n",
        "X_train_78_features_sampled.to_csv('datasets/X_train_78_features_sampled.csv')\n",
        "np.savetxt(\"datasets/y_train_binary_78_features_sampled.csv\", Y_train_78_features_sampled, delimiter=\",\")\n",
        "X_train_78_features_sampled = None\n",
        "Y_train_78_features_sampled = None\n",
        "\n",
        "\n",
        "X_train_23_features_sampled, Y_train_23_features_sampled = iht.fit_resample(X_train_23_features, Y_train_binary)\n",
        "\n",
        "# save what have been sampled to files\n",
        "X_train_23_features_sampled.to_csv('datasets/X_train_23_features_sampled.csv')\n",
        "np.savetxt(\"datasets/y_train_binary_23_features_sampled.csv\", Y_train_23_features_sampled, delimiter=\",\")\n",
        "\n",
        "\n",
        "X_test_78_features.to_csv('datasets/X_test_78_features.csv')\n",
        "X_test_23_features.to_csv('datasets/X_test_23_features.csv')\n",
        "\n",
        "np.savetxt(\"datasets/y_test_binary.csv\", Y_test_binary, delimiter=\",\")\n",
        "'''\n"
      ]
    },
    {
      "cell_type": "code",
      "execution_count": 26,
      "metadata": {
        "gather": {
          "logged": 1663659942395
        },
        "jupyter": {
          "outputs_hidden": false,
          "source_hidden": false
        },
        "nteract": {
          "transient": {
            "deleting": false
          }
        }
      },
      "outputs": [
        {
          "data": {
            "text/plain": [
              "'\\n# zip the generated files\\nfrom zipfile import ZipFile\\nimport os\\nfrom os.path import basename\\n\\nDATA_DIR5  = os.path.join(os.path.abspath(\".\"), \"datasets\")\\n# create a ZipFile object\\nwith ZipFile(\\'sampleDir.zip\\', \\'w\\') as zipObj:\\n   # Iterate over all the files in directory\\n   for folderName, subfolders, filenames in os.walk(DATA_DIR5):\\n       for filename in filenames:\\n           print(filename)\\n           #create complete filepath of file in directory\\n           filePath = os.path.join(folderName, filename)\\n           # Add file to zip\\n           zipObj.write(filePath, basename(filePath))\\n'"
            ]
          },
          "execution_count": 26,
          "metadata": {},
          "output_type": "execute_result"
        }
      ],
      "source": [
        "'''\n",
        "# zip the generated files\n",
        "from zipfile import ZipFile\n",
        "import os\n",
        "from os.path import basename\n",
        "\n",
        "DATA_DIR5  = os.path.join(os.path.abspath(\".\"), \"datasets\")\n",
        "# create a ZipFile object\n",
        "with ZipFile('sampleDir.zip', 'w') as zipObj:\n",
        "   # Iterate over all the files in directory\n",
        "   for folderName, subfolders, filenames in os.walk(DATA_DIR5):\n",
        "       for filename in filenames:\n",
        "           print(filename)\n",
        "           #create complete filepath of file in directory\n",
        "           filePath = os.path.join(folderName, filename)\n",
        "           # Add file to zip\n",
        "           zipObj.write(filePath, basename(filePath))\n",
        "'''"
      ]
    },
    {
      "cell_type": "code",
      "execution_count": 27,
      "metadata": {
        "gather": {
          "logged": 1663659942932
        }
      },
      "outputs": [
        {
          "data": {
            "text/plain": [
              "'\\nfrom imblearn.combine import SMOTETomek\\n\\nsmt = SMOTETomek(random_state=42, n_jobs= 1)\\n# X_sampled, y_sampled = smt.fit_resample(X.to_numpy(), y.to_numpy())\\nX_sampled, y_sampled = smt.fit_resample(X, y)\\n'"
            ]
          },
          "execution_count": 27,
          "metadata": {},
          "output_type": "execute_result"
        }
      ],
      "source": [
        "# it run for 483 minutes then I interapted\n",
        "\n",
        "'''\n",
        "from imblearn.combine import SMOTETomek\n",
        "\n",
        "smt = SMOTETomek(random_state=42, n_jobs= 1)\n",
        "# X_sampled, y_sampled = smt.fit_resample(X.to_numpy(), y.to_numpy())\n",
        "X_sampled, y_sampled = smt.fit_resample(X, y)\n",
        "'''"
      ]
    },
    {
      "cell_type": "code",
      "execution_count": 28,
      "metadata": {
        "gather": {
          "logged": 1663659943237
        },
        "jupyter": {
          "outputs_hidden": false,
          "source_hidden": false
        },
        "nteract": {
          "transient": {
            "deleting": false
          }
        }
      },
      "outputs": [],
      "source": [
        "load_78_features = True"
      ]
    },
    {
      "cell_type": "markdown",
      "metadata": {
        "nteract": {
          "transient": {
            "deleting": false
          }
        }
      },
      "source": [
        "## Load 78 features"
      ]
    },
    {
      "cell_type": "code",
      "execution_count": 29,
      "metadata": {
        "gather": {
          "logged": 1663659971175
        },
        "jupyter": {
          "outputs_hidden": false,
          "source_hidden": false
        },
        "nteract": {
          "transient": {
            "deleting": false
          }
        }
      },
      "outputs": [
        {
          "name": "stdout",
          "output_type": "stream",
          "text": [
            "X_test__78_features (606432, 78)\n",
            "X_train_78_features (1796034, 78)\n",
            "Y_train_binary__78_features (1796034,)\n",
            "0.0     1503367\n",
            "4.0      128632\n",
            "2.0       96004\n",
            "10.0      42979\n",
            "3.0        7709\n",
            "7.0        4110\n",
            "6.0        3967\n",
            "5.0        3882\n",
            "11.0       2303\n",
            "1.0        1457\n",
            "12.0       1084\n",
            "14.0        489\n",
            "9.0          27\n",
            "13.0         16\n",
            "8.0           8\n",
            "dtype: int64\n",
            "Y_test_binary (606432,)\n"
          ]
        }
      ],
      "source": [
        "if load_78_features is True:   \n",
        "     \n",
        "    X_train__78_features = pd.read_csv('datasets/X_train_78_features_sampled.csv')\n",
        "    if len(X_train__78_features.columns) == 79: # Check the files loaded because extra columns gets added\n",
        "        X_train__78_features = X_train__78_features.drop(columns='Unnamed: 0')\n",
        "\n",
        "    X_test__78_features = pd.read_csv('datasets/X_test_78_features.csv')\n",
        "    if len(X_test__78_features.columns) == 79:\n",
        "        X_test__78_features = X_test__78_features.drop(columns='Unnamed: 0')\n",
        "    print('X_test__78_features', X_test__78_features.shape)\n",
        "\n",
        "\n",
        "    Y_train_binary__78_features = np.loadtxt('datasets/y_train_binary_78_features_sampled.csv', delimiter=',')\n",
        "    print('X_train_78_features', X_train__78_features.shape)\n",
        "    print('Y_train_binary__78_features', Y_train_binary__78_features.shape)\n",
        "    pprint(pd.DataFrame(Y_train_binary__78_features).value_counts())\n",
        "\n",
        "    Y_test__binary = np.loadtxt('datasets/y_test_binary.csv', delimiter=',')\n",
        "    print('Y_test_binary', Y_test__binary.shape)\n"
      ]
    },
    {
      "cell_type": "markdown",
      "metadata": {
        "nteract": {
          "transient": {
            "deleting": false
          }
        }
      },
      "source": [
        "## Load 23 features"
      ]
    },
    {
      "cell_type": "code",
      "execution_count": 30,
      "metadata": {
        "gather": {
          "logged": 1663659971558
        }
      },
      "outputs": [],
      "source": [
        "if load_78_features is False:\n",
        "\n",
        "    X_train__23_features = pd.read_csv('datasets/X_train_23_features_sampled.csv')\n",
        "    if len(X_train__23_features.columns) == 24:\n",
        "        X_train__23_features = X_train__23_features.drop(columns='Unnamed: 0')\n",
        "\n",
        "\n",
        "    X_test__23_features = pd.read_csv('datasets/X_test_23_features.csv')\n",
        "    if len(X_test__23_features.columns) == 24:\n",
        "        X_test__23_features = X_test__23_features.drop(columns='Unnamed: 0')\n",
        "    print('X_select_23_features', X_test__23_features.shape)\n",
        "\n",
        "\n",
        "    Y_train_binary__23_features = np.loadtxt('datasets/y_train_binary_23_features_sampled.csv', delimiter=',')\n",
        "    print('X_train__23_features', X_train__23_features.shape)\n",
        "    print('y_train_binary__23_features', Y_train_binary__23_features.shape)\n",
        "    pprint(pd.DataFrame(Y_train_binary__23_features).value_counts())\n",
        "\n",
        "    Y_test__binary = np.loadtxt('datasets/y_test_binary.csv', delimiter=',')\n",
        "    print('Y_test__binary',Y_test__binary.shape)\n"
      ]
    },
    {
      "cell_type": "code",
      "execution_count": 31,
      "metadata": {
        "gather": {
          "logged": 1663659971902
        },
        "jupyter": {
          "outputs_hidden": false,
          "source_hidden": false
        },
        "nteract": {
          "transient": {
            "deleting": false
          }
        }
      },
      "outputs": [],
      "source": [
        "if load_78_features is True:\n",
        "    X_train = X_train__78_features\n",
        "    X_test = X_test__78_features\n",
        "    Y_train = Y_train_binary__78_features\n",
        "    Y_test = Y_test__binary\n",
        "else :\n",
        "    X_train = X_train__23_features\n",
        "    X_test = X_test__23_features\n",
        "    Y_train = Y_train_binary__23_features\n",
        "    Y_test = Y_test__binary\n"
      ]
    },
    {
      "cell_type": "code",
      "execution_count": 188,
      "metadata": {
        "gather": {
          "logged": 1663544103250
        },
        "id": "oUiskJ-rybZ3"
      },
      "outputs": [
        {
          "name": "stderr",
          "output_type": "stream",
          "text": [
            "/anaconda/envs/azureml_py38/lib/python3.8/site-packages/sklearn/base.py:450: UserWarning: X does not have valid feature names, but MinMaxScaler was fitted with feature names\n",
            "  warnings.warn(\n"
          ]
        }
      ],
      "source": [
        "\n",
        "# scaler = StandardScaler()\n",
        "scaler = MinMaxScaler()\n",
        "\n",
        "X_train = scaler.fit_transform(X_train)\n",
        "X_test = scaler.transform(X_test.to_numpy())"
      ]
    },
    {
      "cell_type": "code",
      "execution_count": 189,
      "metadata": {
        "gather": {
          "logged": 1663544103955
        }
      },
      "outputs": [],
      "source": [
        "class SecurityDataset(torch.utils.data.Dataset):\n",
        "\n",
        "  def __init__(self, X_train, y_train, transform=torch.tensor, target_transform=torch.tensor):\n",
        "    self.X_train = torch.tensor(X_train, dtype = torch.float32)\n",
        "    self.Y_train = torch.tensor(y_train)  \n",
        "    \n",
        "    self.transform = transform\n",
        "    self.target_transform = target_transform\n",
        "    \n",
        "    if self.transform:\n",
        "        self.X_train = self.transform(X_train, dtype=torch.float32)\n",
        "    if self.target_transform:\n",
        "        self.Y_train = self.target_transform(y_train, dtype=torch.int64)\n",
        "\n",
        "  def __len__(self):\n",
        "    return len(self.Y_train)\n",
        "  \n",
        "  def __getitem__(self, index):\n",
        "    feature = torch.index_select(self.X_train, 0, torch.tensor([index]))\n",
        "    label = torch.index_select(self.Y_train, 0, torch.tensor([index]))\n",
        "    \n",
        "    return feature, label "
      ]
    },
    {
      "cell_type": "code",
      "execution_count": 190,
      "metadata": {
        "gather": {
          "logged": 1663544104606
        }
      },
      "outputs": [
        {
          "data": {
            "text/plain": [
              "\"## test :\\ndataiter = iter(train_dataset)\\nx_data, y_data = dataiter.next()\\n\\nprint('Type of x_data: ', type(x_data))\\nprint('shape of x_data: ', x_data.shape)\\n\\nprint('Type of y_data: ', type(y_data))\\nprint('Shape of y_data: ', y_data.shape)\""
            ]
          },
          "execution_count": 190,
          "metadata": {},
          "output_type": "execute_result"
        }
      ],
      "source": [
        "# train_dataset = SecurityDataset(torch.tensor(X_train_sampled.values), y_train_binary_sampled)\n",
        "train_dataset = SecurityDataset(X_train, Y_train)\n",
        "test_dataset = SecurityDataset(X_test, Y_test)"
      ]
    },
    {
      "cell_type": "markdown",
      "metadata": {},
      "source": [
        "### Class Weights"
      ]
    },
    {
      "cell_type": "code",
      "execution_count": 191,
      "metadata": {
        "gather": {
          "logged": 1663544105212
        }
      },
      "outputs": [
        {
          "name": "stdout",
          "output_type": "stream",
          "text": [
            "classes_y:  [ 0  1  2  3  4  5  6  7  8  9 10 11 12 13 14]\n",
            "class_weights:  [7.96449570e-02 8.21795470e+01 1.24719387e+00 1.55319237e+01\n",
            " 9.30838361e-01 3.08437919e+01 3.01829090e+01 2.91327494e+01\n",
            " 1.49669500e+04 4.43465185e+03 2.78590940e+00 5.19911420e+01\n",
            " 1.10457196e+02 7.48347500e+03 2.44858078e+02]\n",
            "\n",
            "classes_class_weights:  {0: 0.08, 1: 82.18, 2: 1.247, 3: 15.532, 4: 0.931, 5: 30.844, 6: 30.183, 7: 29.133, 8: 14966.95, 9: 4434.652, 10: 2.786, 11: 51.991, 12: 110.457, 13: 7483.475, 14: 244.858}\n"
          ]
        }
      ],
      "source": [
        "from sklearn.utils import class_weight\n",
        "\n",
        "classes_y = np.array(list(labels_dict.values()))\n",
        "print('classes_y: ',classes_y)\n",
        "\n",
        "#calculate the class weights\n",
        "class_weights = class_weight.compute_class_weight(class_weight = 'balanced',\n",
        "                                                 classes = classes_y, # np.unique(y_train_binary),\n",
        "                                                 y = Y_train)\n",
        "print('class_weights: ',class_weights)\n",
        "print()\n",
        "\n",
        "\n",
        "# class_weights.round(decimals=3, out=None)\n",
        "class_weights = np.around(class_weights, decimals=3)\n",
        "classes_class_weights = dict(zip(classes_y, class_weights))\n",
        "print('classes_class_weights: ',classes_class_weights)"
      ]
    },
    {
      "cell_type": "markdown",
      "metadata": {},
      "source": [
        "##### Apply WeightedRandomSampler only to train data and leave test or validate data untouched because is treated as unseen"
      ]
    },
    {
      "cell_type": "code",
      "execution_count": 193,
      "metadata": {
        "gather": {
          "logged": 1663544137400
        }
      },
      "outputs": [],
      "source": [
        "weights_sampler = 1. / class_weights\n",
        "sample_weights = [0] * len(train_dataset)\n",
        "# weights_sampler =np.around(weights_sampler, decimals=5)\n",
        "\n",
        "for idx, (data, label) in enumerate(train_dataset):\n",
        "        class_weight = class_weights[ int(label.item()) ]\n",
        "        sample_weights[idx] = class_weight\n",
        "        \n",
        "sampler = torch.utils.data.WeightedRandomSampler(sample_weights, num_samples=\n",
        "                                    len(sample_weights), replacement=True)"
      ]
    },
    {
      "cell_type": "code",
      "execution_count": 194,
      "metadata": {
        "gather": {
          "logged": 1663544138110
        }
      },
      "outputs": [],
      "source": [
        "batch_size = 32\n",
        "train_loader = DataLoader(dataset=train_dataset, batch_size=batch_size, sampler=sampler, drop_last=True, num_workers=os.cpu_count()-1)\n",
        "test_loader = DataLoader(dataset=test_dataset, batch_size=batch_size, shuffle=True, num_workers=os.cpu_count()-1)"
      ]
    },
    {
      "cell_type": "markdown",
      "metadata": {},
      "source": [
        "##### Do not run because it takes a lot of time , run only if the output of the cell is not displayed"
      ]
    },
    {
      "cell_type": "code",
      "execution_count": 195,
      "metadata": {
        "gather": {
          "logged": 1663545095819
        }
      },
      "outputs": [
        {
          "name": "stdout",
          "output_type": "stream",
          "text": [
            "[tensor(1203265), tensor(1196363), tensor(1197605), tensor(1195857), tensor(1196577), tensor(1195953), tensor(1196841), tensor(1197033), tensor(1199512), tensor(1194588), tensor(1197486), tensor(1198282), tensor(1197379), tensor(1197214), tensor(1196470)]\n",
            "\n",
            "\n",
            "tensor(1203265)\n",
            "tensor(1194588)\n"
          ]
        }
      ],
      "source": [
        "\n",
        "#labels_count = [0] * num_classes\n",
        "\n",
        "#for i in range(15):\n",
        "#        labels_count[i]=i\n",
        "\n",
        "#for epoch in range(10):\n",
        "#    for data, labels in train_loader:\n",
        "#        for i in range(num_classes):\n",
        "#                labels_count[i] += torch.sum(labels==i)\n",
        "        \n",
        "#print(labels_count)\n",
        "#print()\n",
        "#print()\n",
        "#print('max of labels count',max(labels_count))\n",
        "#print('min of labels count',min(labels_count))\n"
      ]
    },
    {
      "cell_type": "markdown",
      "metadata": {},
      "source": [
        "##### Run only for test if nan are present in data "
      ]
    },
    {
      "cell_type": "code",
      "execution_count": 196,
      "metadata": {
        "gather": {
          "logged": 1663545180546
        }
      },
      "outputs": [
        {
          "name": "stderr",
          "output_type": "stream",
          "text": [
            "100%|██████████| 56126/56126 [01:24<00:00, 662.65it/s]\n"
          ]
        }
      ],
      "source": [
        "if torch.cuda.is_available():\n",
        "   torch.cuda.empty_cache() \n",
        "DEVICE = 'cuda' if torch.cuda.is_available() else 'cpu'\n",
        "print('DEVICE', DEVICE) \n",
        "\n",
        "\n",
        "import tqdm           \n",
        "\n",
        "for step, (batch_x, batch_y) in enumerate(tqdm.tqdm(train_loader),0):\n",
        "            # zero the parameter gradients\n",
        "            batch_x, batch_y = batch_x.to(DEVICE), batch_y.to(DEVICE)\n",
        "            \n",
        "            # batch_x = batch_x.view(-1, input_size)\n",
        "            # batch_x = batch_x.float()\n",
        "            assert not torch.isnan(batch_x).any()\n",
        "            assert  torch.isfinite(batch_x).all()\n",
        "            \n",
        "            assert not torch.isnan(batch_y).any()\n",
        "            assert torch.isfinite(batch_y).all()"
      ]
    },
    {
      "cell_type": "code",
      "execution_count": 197,
      "metadata": {
        "gather": {
          "logged": 1663545181004
        }
      },
      "outputs": [],
      "source": [
        "def get_dataloaders():\n",
        "    \n",
        "    return train_loader,test_loader"
      ]
    }
  ],
  "metadata": {
    "accelerator": "GPU",
    "colab": {
      "collapsed_sections": [],
      "include_colab_link": true,
      "name": "Copy of AML Final Project.ipynb",
      "provenance": []
    },
    "kernel_info": {
      "name": "python3"
    },
    "kernelspec": {
      "display_name": "Python 3.10.6 ('pytorch_env')",
      "language": "python",
      "name": "python3"
    },
    "language_info": {
      "codemirror_mode": {
        "name": "ipython",
        "version": 3
      },
      "file_extension": ".py",
      "mimetype": "text/x-python",
      "name": "python",
      "nbconvert_exporter": "python",
      "pygments_lexer": "ipython3",
      "version": "3.10.6 | packaged by conda-forge | (main, Aug 22 2022, 20:30:19) [MSC v.1929 64 bit (AMD64)]"
    },
    "microsoft": {
      "host": {
        "AzureML": {
          "notebookHasBeenCompleted": true
        }
      }
    },
    "nteract": {
      "version": "nteract-front-end@1.0.0"
    },
    "vscode": {
      "interpreter": {
        "hash": "201b6068cbed112f118c29a6393440d4ce4dc02105f31305c61d838eb972bb93"
      }
    }
  },
  "nbformat": 4,
  "nbformat_minor": 0
}
