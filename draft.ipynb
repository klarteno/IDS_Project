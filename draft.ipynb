{
  "cells": [
    {
      "cell_type": "code",
      "execution_count": null,
      "metadata": {
        "gather": {
          "logged": 1663668800371
        }
      },
      "outputs": [],
      "source": [
        "def Rob_init(self, name):\n",
        "    self.name = name\n",
        "\n",
        "Robot2 = type(\"Robot2\", \n",
        "              (), \n",
        "              {\"counter\":0, \n",
        "               \"__init__\": Rob_init,\n",
        "               \"sayHello\": lambda self: \"Hi, I am \" + self.name})"
      ]
    },
    {
      "cell_type": "code",
      "execution_count": null,
      "metadata": {
        "gather": {
          "logged": 1663668800397
        }
      },
      "outputs": [
        {
          "name": "stdout",
          "output_type": "stream",
          "text": [
            "Marvin\n",
            "Hi, I am Marvin\n"
          ]
        }
      ],
      "source": [
        "x = Robot2(\"Marvin\")\n",
        "print(x.name)\n",
        "print(x.sayHello())"
      ]
    },
    {
      "cell_type": "code",
      "execution_count": null,
      "metadata": {
        "gather": {
          "logged": 1663668800420
        }
      },
      "outputs": [
        {
          "name": "stdout",
          "output_type": "stream",
          "text": [
            "You are driving the car\n",
            "true1\n",
            "true2\n",
            "57\n"
          ]
        }
      ],
      "source": [
        "from ast import arg\n",
        "from unicodedata import name\n",
        "\n",
        "\n",
        "def func1(x):\n",
        "    return 5+x\n",
        "\n",
        "def solve_for(self, name:str, args):\n",
        "    do = f\"cv2\"\n",
        "    if hasattr(self, do):\n",
        "            print('true1')\n",
        "            if callable(func := getattr(self, do)):\n",
        "                print('true2')\n",
        "                res=getattr(self, do)(args)\n",
        "                print(res)\n",
        "\n",
        "                # func(args)\n",
        "\n",
        "def init_func(self, color):\n",
        "        self._color = color\n",
        "        setattr(self,'cv'+str(2), func1)\n",
        "\n",
        "def drive(self):\n",
        "    print(\"You are driving the car\")\n",
        "\n",
        "Car = type(\n",
        "    'Car',\n",
        "    (object,),\n",
        "    {\n",
        "        '__init__': init_func,\n",
        "        'drive': drive,\n",
        "        'solve_for':solve_for\n",
        "    })\n",
        "\n",
        "my_car = Car('red')\n",
        "my_car.drive()\n",
        "my_car.__init__('red')\n",
        "# exec(f\"my_car.cv2()\")\n",
        "# my_car.cv2(6)\n",
        "my_car.solve_for(name='name:str',args= 52)\n"
      ]
    },
    {
      "cell_type": "code",
      "execution_count": null,
      "metadata": {
        "gather": {
          "logged": 1663668800444
        }
      },
      "outputs": [
        {
          "data": {
            "text/plain": [
              "'cv22'"
            ]
          },
          "execution_count": 62,
          "metadata": {},
          "output_type": "execute_result"
        }
      ],
      "source": [
        "f\"cv2\" + str(2)"
      ]
    },
    {
      "cell_type": "code",
      "execution_count": null,
      "metadata": {
        "gather": {
          "logged": 1663668800461
        }
      },
      "outputs": [
        {
          "name": "stdout",
          "output_type": "stream",
          "text": [
            "0\n",
            "1\n",
            "2\n",
            "3\n",
            "4\n",
            "5\n",
            "6\n",
            "7\n",
            "8\n",
            "9\n"
          ]
        }
      ],
      "source": [
        "# Define functions f_0 to f_9\n",
        "for i in range(10):\n",
        "    exec(f\"def f_{i}(): print({i})\")\n",
        "# Run functions f_0 to f_9\n",
        "for i in range(10):\n",
        "    exec(f\"f_{i}()\")"
      ]
    },
    {
      "cell_type": "code",
      "execution_count": null,
      "metadata": {
        "gather": {
          "logged": 1663668800483
        }
      },
      "outputs": [],
      "source": [
        "def solve_for(self, name: str):\n",
        "    do = f\"get_{name}\"\n",
        "    if hasattr(self, do) and callable(getattr(self, do)):\n",
        "        func = getattr(self, do)\n",
        "        func()\n",
        "        \n",
        "        \n",
        "def solve_for(self, name: str, *args, **kwargs):\n",
        "    do = f\"get_{name}\"\n",
        "    if hasattr(self, do) and callable(func := getattr(self, do)):\n",
        "        func(*args, **kwargs)"
      ]
    },
    {
      "cell_type": "code",
      "execution_count": 3,
      "metadata": {
        "gather": {
          "logged": 1663668800503
        }
      },
      "outputs": [
        {
          "name": "stdout",
          "output_type": "stream",
          "text": [
            "<class 'NoneType'>\n"
          ]
        }
      ],
      "source": [
        "import torch\n",
        "\n",
        "scheduler_learning:torch.optim.lr_scheduler.CosineAnnealingWarmRestarts= None\n",
        "print(type(scheduler_learning))"
      ]
    },
    {
      "cell_type": "code",
      "execution_count": null,
      "metadata": {
        "gather": {
          "logged": 1663668800526
        }
      },
      "outputs": [
        {
          "name": "stdout",
          "output_type": "stream",
          "text": [
            "[1, 2, 3, 4]\n"
          ]
        },
        {
          "data": {
            "text/plain": [
              "4"
            ]
          },
          "execution_count": 66,
          "metadata": {},
          "output_type": "execute_result"
        }
      ],
      "source": [
        "l = list(range(1, 5))\n",
        "print(l)    # [1, 2, 3, 4]\n",
        "l.pop()"
      ]
    },
    {
      "cell_type": "code",
      "execution_count": null,
      "metadata": {
        "gather": {
          "logged": 1663668800545
        }
      },
      "outputs": [
        {
          "data": {
            "text/plain": [
              "3"
            ]
          },
          "execution_count": 67,
          "metadata": {},
          "output_type": "execute_result"
        }
      ],
      "source": [
        "exec(\"\"\"def a(x):\n",
        "...   return x+1\"\"\")\n",
        "a(2)"
      ]
    },
    {
      "cell_type": "code",
      "execution_count": null,
      "metadata": {
        "gather": {
          "logged": 1663668800564
        }
      },
      "outputs": [
        {
          "name": "stdout",
          "output_type": "stream",
          "text": [
            "self.v = 5\n",
            "self.v2 = 9\n"
          ]
        }
      ],
      "source": [
        "class Foo:\n",
        "    def __init__(self, v):\n",
        "        self.v = v\n",
        "        \n",
        "def my_new_method(self):\n",
        "    print(\"self.v =\", self.v)\n",
        "    \n",
        "def my_new_method2(self,x):\n",
        "    print(\"self.v2 =\", self.v+x)\n",
        "\n",
        "setattr(Foo, 'print_v', my_new_method)\n",
        "setattr(Foo, 'print_v2', my_new_method2)\n",
        "\n",
        "\n",
        "Foo(5).print_v()\n",
        "Foo(5).print_v2(4)"
      ]
    },
    {
      "cell_type": "code",
      "execution_count": null,
      "metadata": {
        "gather": {
          "logged": 1663668800590
        }
      },
      "outputs": [
        {
          "name": "stdout",
          "output_type": "stream",
          "text": [
            "0\n",
            "1\n",
            "2\n",
            "3\n",
            "4\n",
            "5\n",
            "6\n"
          ]
        }
      ],
      "source": [
        "for index in range(7):\n",
        "    print(index)"
      ]
    },
    {
      "cell_type": "code",
      "execution_count": null,
      "metadata": {
        "gather": {
          "logged": 1663668800611
        }
      },
      "outputs": [
        {
          "name": "stdout",
          "output_type": "stream",
          "text": [
            "1\n",
            "2\n",
            "3\n",
            "4\n",
            "5\n",
            "6\n"
          ]
        }
      ],
      "source": [
        "for index in range(1,7):\n",
        "    print(index)\n"
      ]
    },
    {
      "cell_type": "code",
      "execution_count": null,
      "metadata": {},
      "outputs": [
        {
          "name": "stdout",
          "output_type": "stream",
          "text": [
            "tensor([[0.2797, 0.0627, 0.1354, 0.0223, 0.4998],\n",
            "        [0.0665, 0.1286, 0.0821, 0.6873, 0.0354],\n",
            "        [0.1463, 0.0831, 0.3935, 0.2619, 0.1153]])\n",
            "tensor([[0.2132, 0.1716, 0.1846, 0.1648, 0.2657],\n",
            "        [0.1692, 0.1800, 0.1719, 0.3148, 0.1640],\n",
            "        [0.1883, 0.1768, 0.2411, 0.2113, 0.1825]])\n"
          ]
        }
      ],
      "source": [
        "target = torch.randn(3, 5).softmax(dim=1)\n",
        "print(target)\n",
        "target = target.softmax(dim=1)\n",
        "print(target)"
      ]
    },
    {
      "cell_type": "code",
      "execution_count": null,
      "metadata": {},
      "outputs": [],
      "source": [
        "m = nn.Conv1d(16, 33, kernel_size= 5, stride=2)\n",
        "input = torch.randn(20, 16, 50)\n",
        "output = m(input)"
      ]
    },
    {
      "cell_type": "code",
      "execution_count": null,
      "metadata": {},
      "outputs": [
        {
          "data": {
            "text/plain": [
              "torch.Size([32, 100, 2])"
            ]
          },
          "execution_count": 73,
          "metadata": {},
          "output_type": "execute_result"
        }
      ],
      "source": [
        "from torchinfo import summary\n",
        "\n",
        "m = nn.Conv1d(1, 100, kernel_size= 3, stride=60)\n",
        "input = torch.randn(32, 1, 78)\n",
        "output = m(input)\n",
        "output.shape\n"
      ]
    },
    {
      "cell_type": "code",
      "execution_count": null,
      "metadata": {},
      "outputs": [
        {
          "data": {
            "text/plain": [
              "400"
            ]
          },
          "execution_count": 74,
          "metadata": {},
          "output_type": "execute_result"
        }
      ],
      "source": [
        "s=summary(m, input_size=(32, 1, 78))\n",
        "\n",
        "type(s)\n",
        "s.total_params\n",
        "s.trainable_params\n",
        "s.total_params"
      ]
    },
    {
      "cell_type": "code",
      "execution_count": null,
      "metadata": {},
      "outputs": [
        {
          "data": {
            "text/plain": [
              "[32, 100, 2]"
            ]
          },
          "execution_count": 75,
          "metadata": {},
          "output_type": "execute_result"
        }
      ],
      "source": [
        "s=summary(m, input_size=(32, 1, 78), device='cuda')\n",
        "l=s.summary_list[0]\n",
        "l.output_size\n"
      ]
    },
    {
      "cell_type": "code",
      "execution_count": null,
      "metadata": {},
      "outputs": [
        {
          "data": {
            "text/plain": [
              "[1, 64, 56, 75]"
            ]
          },
          "execution_count": 76,
          "metadata": {},
          "output_type": "execute_result"
        }
      ],
      "source": [
        "import torchvision\n",
        "\n",
        "model = torchvision.models.resnet152()\n",
        "s=summary(model, (1, 3, 224, 300), depth=3)\n",
        "l=s.summary_list[4]\n",
        "l.output_size"
      ]
    },
    {
      "cell_type": "code",
      "execution_count": null,
      "metadata": {},
      "outputs": [],
      "source": [
        "import torch\n",
        "import torch.nn as nn"
      ]
    },
    {
      "cell_type": "code",
      "execution_count": null,
      "metadata": {},
      "outputs": [
        {
          "data": {
            "text/plain": [
              "torch.Size([32, 100, 1])"
            ]
          },
          "execution_count": 77,
          "metadata": {},
          "output_type": "execute_result"
        }
      ],
      "source": [
        "m = nn.Conv1d(78, 100, kernel_size= 1, stride=5)\n",
        "input = torch.randn(32, 78, 1)\n",
        "output = m(input)\n",
        "output.shape"
      ]
    },
    {
      "cell_type": "code",
      "execution_count": null,
      "metadata": {},
      "outputs": [
        {
          "name": "stdout",
          "output_type": "stream",
          "text": [
            "tensor([[-0.2892,  0.9355,  0.2475],\n",
            "        [-1.2642,  0.0045, -0.6432]])\n"
          ]
        },
        {
          "data": {
            "text/plain": [
              "tensor([[ 0.2979],\n",
              "        [-0.6343]])"
            ]
          },
          "execution_count": 78,
          "metadata": {},
          "output_type": "execute_result"
        }
      ],
      "source": [
        "# pool with window of size=3, stride=2\n",
        "m = nn.AvgPool1d(3, stride=2)\n",
        "target = torch.randn(2, 3)\n",
        "print(target)\n",
        "m(target)"
      ]
    },
    {
      "cell_type": "code",
      "execution_count": null,
      "metadata": {},
      "outputs": [
        {
          "name": "stdout",
          "output_type": "stream",
          "text": [
            "torch.Size([2, 100])\n"
          ]
        }
      ],
      "source": [
        "# With Learnable Parameters\n",
        "m = nn.BatchNorm1d(100)\n",
        "# Without Learnable Parameters\n",
        "m = nn.BatchNorm1d(100, affine=False)\n",
        "input = torch.randn(2, 100)\n",
        "output = m(input)\n",
        "print(output.shape)"
      ]
    },
    {
      "cell_type": "code",
      "execution_count": null,
      "metadata": {},
      "outputs": [
        {
          "data": {
            "text/plain": [
              "torch.Size([5, 3, 20])"
            ]
          },
          "execution_count": 80,
          "metadata": {},
          "output_type": "execute_result"
        }
      ],
      "source": [
        "rnn = nn.GRU(input_size=10, hidden_size = 20, num_layers =2)\n",
        "input = torch.randn(5, 3, 10)\n",
        "h0 = torch.randn(2, 3, 20)\n",
        "output, hn = rnn(input, h0)\n",
        "output.shape"
      ]
    },
    {
      "cell_type": "code",
      "execution_count": null,
      "metadata": {},
      "outputs": [
        {
          "data": {
            "text/plain": [
              "torch.Size([32, 284, 1])"
            ]
          },
          "execution_count": 81,
          "metadata": {},
          "output_type": "execute_result"
        }
      ],
      "source": [
        "       \n",
        "input = torch.randn(32, 1, 284)       \n",
        "outputs = input.permute(0, 2, 1)\n",
        "outputs.shape"
      ]
    },
    {
      "cell_type": "code",
      "execution_count": null,
      "metadata": {},
      "outputs": [
        {
          "data": {
            "text/plain": [
              "torch.Size([32, 284])"
            ]
          },
          "execution_count": 82,
          "metadata": {},
          "output_type": "execute_result"
        }
      ],
      "source": [
        "input = torch.randn(32, 1, 284)       \n",
        "input=input.squeeze()\n",
        "input.shape"
      ]
    },
    {
      "cell_type": "code",
      "execution_count": null,
      "metadata": {},
      "outputs": [
        {
          "data": {
            "text/plain": [
              "torch.Size([96, 284])"
            ]
          },
          "execution_count": 83,
          "metadata": {},
          "output_type": "execute_result"
        }
      ],
      "source": [
        "input = torch.randn(32, 3, 284)       \n",
        "\n",
        "input=input.view(-1,284)\n",
        "input.shape"
      ]
    },
    {
      "cell_type": "code",
      "execution_count": 5,
      "metadata": {},
      "outputs": [
        {
          "name": "stdout",
          "output_type": "stream",
          "text": [
            "torch.Size([32, 284])\n",
            "torch.Size([32, 284])\n",
            "torch.Size([1, 32])\n"
          ]
        }
      ],
      "source": [
        "import torch\n",
        "\n",
        "input1 = torch.randn(32, 1, 284)    \n",
        "input2 = torch.randn(32, 284, 1)\n",
        "print(input1.squeeze(1).shape)\n",
        "print(input2.squeeze(2).shape)\n",
        "\n",
        "\n",
        "input3 = torch.randn(32)\n",
        "print(input3.unsqueeze(1).shape)\n"
      ]
    },
    {
      "cell_type": "code",
      "execution_count": null,
      "metadata": {},
      "outputs": [],
      "source": [
        "criterion = torch.nn.CrossEntropyLoss()\n",
        "input = torch.randn(32, 64, 1)  \n",
        "target = torch.randn(32,1) \n",
        "   \n",
        "loss = criterion(input, target.long())\n"
      ]
    },
    {
      "cell_type": "code",
      "execution_count": 9,
      "metadata": {},
      "outputs": [
        {
          "name": "stdout",
          "output_type": "stream",
          "text": [
            "input:  torch.FloatTensor torch.Size([32, 15, 1])\n",
            "target:  torch.LongTensor torch.Size([32, 1])\n",
            "output:  <class 'torch.Tensor'> tensor(3.0617, grad_fn=<NllLoss2DBackward0>)\n"
          ]
        }
      ],
      "source": [
        "import torch\n",
        "\n",
        "\n",
        "criterion = torch.nn.CrossEntropyLoss()\n",
        "\n",
        "input = torch.randn(32, 15, 1, requires_grad=True)\n",
        "print('input: ',input.type(), input.shape)\n",
        "\n",
        "# target = torch.randn(32, 2)\n",
        "# target1 =target.to(dtype=torch.long)\n",
        "# print('target1: ',target1.type(),target1.shape)\n",
        "\n",
        "\n",
        "\n",
        "target = torch.empty(32, 1,  dtype=torch.long).random_(15)\n",
        "\n",
        "print('target: ',target.type(),target.shape)\n",
        "# .long()\n",
        "output = criterion(input, target)\n",
        "output.backward()\n",
        "\n",
        "print('output: ' ,type(output)  , output)"
      ]
    },
    {
      "cell_type": "code",
      "execution_count": null,
      "metadata": {},
      "outputs": [],
      "source": [
        "import torch\n",
        "\n",
        "# Example of target with class indices\n",
        "loss = torch.nn.CrossEntropyLoss()\n",
        "input = torch.randn(3, 5, requires_grad=True)\n",
        "target1 = torch.empty(3, dtype=torch.long).random_(15)\n",
        "print(target1)\n",
        "print('target1: ',target1.type(),target1.shape)\n",
        "\n",
        "\n",
        "output = loss(input, target1)\n",
        "output.backward()\n",
        "\n",
        "# Example of target with class probabilities\n",
        "input = torch.randn(3, 5, requires_grad=True)\n",
        "target2 = torch.randn(3, 5) # .softmax(dim=1)\n",
        "print('target2: ',target2.type(), target2.shape)\n",
        "\n",
        "output = loss(input, target2)\n",
        "output.backward()\n",
        "\n",
        "print('output: ' ,type(output)  , output)"
      ]
    },
    {
      "cell_type": "code",
      "execution_count": 10,
      "metadata": {},
      "outputs": [
        {
          "name": "stdout",
          "output_type": "stream",
          "text": [
            "tensor([[-1.5816, -1.4328,  0.1928],\n",
            "        [ 0.0735, -1.9647,  1.6332]])\n",
            "\n",
            "\n",
            "tensor([[0.1604, 0.6299, 0.1915],\n",
            "        [0.8396, 0.3701, 0.8085]])\n",
            "tensor([[0.1241, 0.1440, 0.7319],\n",
            "        [0.1698, 0.0221, 0.8080]])\n"
          ]
        }
      ],
      "source": [
        "target2 = torch.randn(2, 3)\n",
        "\n",
        "print(target2)\n",
        "print('\\n')\n",
        "print(target2.softmax(dim=0))\n",
        "print(target2.softmax(dim=1))"
      ]
    },
    {
      "cell_type": "code",
      "execution_count": 8,
      "metadata": {},
      "outputs": [
        {
          "name": "stdout",
          "output_type": "stream",
          "text": [
            "torch.Size([32, 2, 32])\n",
            "torch.Size([32, 64])\n"
          ]
        }
      ],
      "source": [
        "import torch\n",
        "\n",
        "target = torch.randn(32,2, 32)\n",
        "print(target.shape)\n",
        "\n",
        "\n",
        "target = target.view(32,-1)\n",
        "print(target.shape)\n",
        "\n"
      ]
    },
    {
      "cell_type": "code",
      "execution_count": 7,
      "metadata": {},
      "outputs": [],
      "source": [
        "try:\n",
        " a = int(input(\"Enter a positive integer: \"))\n",
        " if a <= 0:\n",
        "    raise ValueError(\"That is not a positive number!\")\n",
        "except ValueError as ve:\n",
        "    print(ve)"
      ]
    },
    {
      "cell_type": "code",
      "execution_count": 90,
      "metadata": {},
      "outputs": [
        {
          "data": {
            "text/plain": [
              "tensor(0.0312)"
            ]
          },
          "execution_count": 90,
          "metadata": {},
          "output_type": "execute_result"
        }
      ],
      "source": [
        "from torchmetrics.functional import f1_score\n",
        "\n",
        "\n",
        "target = torch.tensor([0, 1, 2, 0, 1, 2])\n",
        "preds = torch.tensor([0, 2, 1, 0, 0, 1])\n",
        "\n",
        "input = torch.randn(32, 30, 1, requires_grad=True)\n",
        "target = torch.empty(32, 1,  dtype=torch.long).random_(15)\n",
        "\n",
        "\n",
        "f1_score(input, target, num_classes=30)"
      ]
    },
    {
      "cell_type": "code",
      "execution_count": 9,
      "metadata": {},
      "outputs": [
        {
          "name": "stdout",
          "output_type": "stream",
          "text": [
            "tensor(4.)\n",
            "tensor(5.2500)\n"
          ]
        }
      ],
      "source": [
        "import torch\n",
        "from torchmetrics import MeanMetric\n",
        "\n",
        "metric = MeanMetric(nan_strategy='warn')\n",
        "metric.update(1)\n",
        "# metric.update(torch.tensor([2, 3]))\n",
        "metric.update([10, 1])\n",
        "\n",
        "print(metric.compute())\n",
        "# metric.reset()\n",
        "metric.update(9)\n",
        "print(metric.compute())"
      ]
    },
    {
      "cell_type": "code",
      "execution_count": null,
      "metadata": {},
      "outputs": [],
      "source": []
    },
    {
      "cell_type": "code",
      "execution_count": null,
      "metadata": {},
      "outputs": [],
      "source": [
        "#save study object to file for later use \n",
        "import joblib\n",
        "\n",
        "joblib.dump(study, \"models\\cnn\\study.pkl\")\n",
        "\n",
        "\n",
        "study123 = joblib.load(\"models\\cnn\\study.pkl\")\n",
        "\n",
        "print('number of the best trial: ',study123.best_trial.number)\n",
        "\n",
        "\n",
        "print(\"Best trial until now:\")\n",
        "print(\" Value: \", study123.best_trial.value)\n",
        "print(\" Params: \")\n",
        "for key, value in study123.best_trial.params.items():\n",
        "    print(f\"    {key}: {value}\")"
      ]
    },
    {
      "cell_type": "code",
      "execution_count": 27,
      "metadata": {},
      "outputs": [
        {
          "ename": "ValueError",
          "evalue": "You have set `num_classes=1`, but predictions are integers. If you want to convert (multi-dimensional) multi-class data with 2 classes to binary/multi-label, set `multiclass=False`.",
          "output_type": "error",
          "traceback": [
            "\u001b[1;31m---------------------------------------------------------------------------\u001b[0m",
            "\u001b[1;31mValueError\u001b[0m                                Traceback (most recent call last)",
            "\u001b[1;32mc:\\Users\\androgo\\Documents\\Python Scripts\\IDS\\CICIDS2017_notebooks\\IDS_Project\\draft.ipynb Cell 38\u001b[0m in \u001b[0;36m<cell line: 5>\u001b[1;34m()\u001b[0m\n\u001b[0;32m      <a href='vscode-notebook-cell:/c%3A/Users/androgo/Documents/Python%20Scripts/IDS/CICIDS2017_notebooks/IDS_Project/draft.ipynb#X51sZmlsZQ%3D%3D?line=6'>7</a>\u001b[0m     y_true \u001b[39m=\u001b[39m torch\u001b[39m.\u001b[39mrandint(low\u001b[39m=\u001b[39m\u001b[39m0\u001b[39m, high\u001b[39m=\u001b[39m\u001b[39m2\u001b[39m, size\u001b[39m=\u001b[39m(\u001b[39m10\u001b[39m,\u001b[39m1\u001b[39m))\u001b[39m.\u001b[39mto(neural_net_model_train\u001b[39m.\u001b[39mDEVICE)\n\u001b[0;32m      <a href='vscode-notebook-cell:/c%3A/Users/androgo/Documents/Python%20Scripts/IDS/CICIDS2017_notebooks/IDS_Project/draft.ipynb#X51sZmlsZQ%3D%3D?line=7'>8</a>\u001b[0m     y_pred \u001b[39m=\u001b[39m torch\u001b[39m.\u001b[39mrandint(low\u001b[39m=\u001b[39m\u001b[39m0\u001b[39m, high\u001b[39m=\u001b[39m\u001b[39m2\u001b[39m, size\u001b[39m=\u001b[39m(\u001b[39m10\u001b[39m,\u001b[39m1\u001b[39m))\u001b[39m.\u001b[39mto(neural_net_model_train\u001b[39m.\u001b[39mDEVICE)\n\u001b[1;32m---> <a href='vscode-notebook-cell:/c%3A/Users/androgo/Documents/Python%20Scripts/IDS/CICIDS2017_notebooks/IDS_Project/draft.ipynb#X51sZmlsZQ%3D%3D?line=9'>10</a>\u001b[0m     abc \u001b[39m=\u001b[39m evals\u001b[39m.\u001b[39;49mupdateEvaluationEpochStep(y_true, y_pred)\n\u001b[0;32m     <a href='vscode-notebook-cell:/c%3A/Users/androgo/Documents/Python%20Scripts/IDS/CICIDS2017_notebooks/IDS_Project/draft.ipynb#X51sZmlsZQ%3D%3D?line=10'>11</a>\u001b[0m     \u001b[39mprint\u001b[39m(\u001b[39m'\u001b[39m\u001b[39mBatch accuracy:\u001b[39m\u001b[39m'\u001b[39m, abc)\n\u001b[0;32m     <a href='vscode-notebook-cell:/c%3A/Users/androgo/Documents/Python%20Scripts/IDS/CICIDS2017_notebooks/IDS_Project/draft.ipynb#X51sZmlsZQ%3D%3D?line=12'>13</a>\u001b[0m _accuracy_epoch,  _f1_score_epoch, _auroc_score_epoch\u001b[39m=\u001b[39mevals\u001b[39m.\u001b[39mgetEvaluationEpoch()\n",
            "File \u001b[1;32mc:\\Users\\androgo\\Documents\\Python Scripts\\IDS\\CICIDS2017_notebooks\\IDS_Project\\neural_net_model_train.py:55\u001b[0m, in \u001b[0;36mModelsEvaluations.updateEvaluationEpochStep\u001b[1;34m(self, outputs_res, batch_y)\u001b[0m\n\u001b[0;32m     53\u001b[0m \u001b[39mdef\u001b[39;00m \u001b[39mupdateEvaluationEpochStep\u001b[39m(\u001b[39mself\u001b[39m, outputs_res, batch_y):\n\u001b[0;32m     54\u001b[0m     \u001b[39mself\u001b[39m\u001b[39m.\u001b[39maccuracy\u001b[39m.\u001b[39mupdate(outputs_res, batch_y\u001b[39m.\u001b[39mto(dtype\u001b[39m=\u001b[39mtorch\u001b[39m.\u001b[39mint32))\n\u001b[1;32m---> 55\u001b[0m     \u001b[39mself\u001b[39;49m\u001b[39m.\u001b[39;49mf1_score\u001b[39m.\u001b[39;49mupdate(outputs_res, batch_y\u001b[39m.\u001b[39;49mto(dtype\u001b[39m=\u001b[39;49mtorch\u001b[39m.\u001b[39;49mint32))\n\u001b[0;32m     56\u001b[0m     \u001b[39mself\u001b[39m\u001b[39m.\u001b[39mauroc\u001b[39m.\u001b[39mupdate(outputs_res, batch_y\u001b[39m.\u001b[39mto(dtype\u001b[39m=\u001b[39mtorch\u001b[39m.\u001b[39mint32))\n",
            "File \u001b[1;32mc:\\Users\\androgo\\anaconda3\\envs\\pytorch_env\\lib\\site-packages\\torchmetrics\\metric.py:391\u001b[0m, in \u001b[0;36mMetric._wrap_update.<locals>.wrapped_func\u001b[1;34m(*args, **kwargs)\u001b[0m\n\u001b[0;32m    389\u001b[0m \u001b[39mwith\u001b[39;00m torch\u001b[39m.\u001b[39mset_grad_enabled(\u001b[39mself\u001b[39m\u001b[39m.\u001b[39m_enable_grad):\n\u001b[0;32m    390\u001b[0m     \u001b[39mtry\u001b[39;00m:\n\u001b[1;32m--> 391\u001b[0m         update(\u001b[39m*\u001b[39margs, \u001b[39m*\u001b[39m\u001b[39m*\u001b[39mkwargs)\n\u001b[0;32m    392\u001b[0m     \u001b[39mexcept\u001b[39;00m \u001b[39mRuntimeError\u001b[39;00m \u001b[39mas\u001b[39;00m err:\n\u001b[0;32m    393\u001b[0m         \u001b[39mif\u001b[39;00m \u001b[39m\"\u001b[39m\u001b[39mExpected all tensors to be on\u001b[39m\u001b[39m\"\u001b[39m \u001b[39min\u001b[39;00m \u001b[39mstr\u001b[39m(err):\n",
            "File \u001b[1;32mc:\\Users\\androgo\\anaconda3\\envs\\pytorch_env\\lib\\site-packages\\torchmetrics\\classification\\stat_scores.py:180\u001b[0m, in \u001b[0;36mStatScores.update\u001b[1;34m(self, preds, target)\u001b[0m\n\u001b[0;32m    170\u001b[0m \u001b[39mdef\u001b[39;00m \u001b[39mupdate\u001b[39m(\u001b[39mself\u001b[39m, preds: Tensor, target: Tensor) \u001b[39m-\u001b[39m\u001b[39m>\u001b[39m \u001b[39mNone\u001b[39;00m:  \u001b[39m# type: ignore\u001b[39;00m\n\u001b[0;32m    171\u001b[0m     \u001b[39m\"\"\"Update state with predictions and targets.\u001b[39;00m\n\u001b[0;32m    172\u001b[0m \n\u001b[0;32m    173\u001b[0m \u001b[39m    See :ref:`pages/classification:input types` for more information on input types.\u001b[39;00m\n\u001b[1;32m   (...)\u001b[0m\n\u001b[0;32m    177\u001b[0m \u001b[39m        target: Ground truth values\u001b[39;00m\n\u001b[0;32m    178\u001b[0m \u001b[39m    \"\"\"\u001b[39;00m\n\u001b[1;32m--> 180\u001b[0m     tp, fp, tn, fn \u001b[39m=\u001b[39m _stat_scores_update(\n\u001b[0;32m    181\u001b[0m         preds,\n\u001b[0;32m    182\u001b[0m         target,\n\u001b[0;32m    183\u001b[0m         reduce\u001b[39m=\u001b[39;49m\u001b[39mself\u001b[39;49m\u001b[39m.\u001b[39;49mreduce,\n\u001b[0;32m    184\u001b[0m         mdmc_reduce\u001b[39m=\u001b[39;49m\u001b[39mself\u001b[39;49m\u001b[39m.\u001b[39;49mmdmc_reduce,\n\u001b[0;32m    185\u001b[0m         threshold\u001b[39m=\u001b[39;49m\u001b[39mself\u001b[39;49m\u001b[39m.\u001b[39;49mthreshold,\n\u001b[0;32m    186\u001b[0m         num_classes\u001b[39m=\u001b[39;49m\u001b[39mself\u001b[39;49m\u001b[39m.\u001b[39;49mnum_classes,\n\u001b[0;32m    187\u001b[0m         top_k\u001b[39m=\u001b[39;49m\u001b[39mself\u001b[39;49m\u001b[39m.\u001b[39;49mtop_k,\n\u001b[0;32m    188\u001b[0m         multiclass\u001b[39m=\u001b[39;49m\u001b[39mself\u001b[39;49m\u001b[39m.\u001b[39;49mmulticlass,\n\u001b[0;32m    189\u001b[0m         ignore_index\u001b[39m=\u001b[39;49m\u001b[39mself\u001b[39;49m\u001b[39m.\u001b[39;49mignore_index,\n\u001b[0;32m    190\u001b[0m     )\n\u001b[0;32m    192\u001b[0m     \u001b[39m# Update states\u001b[39;00m\n\u001b[0;32m    193\u001b[0m     \u001b[39mif\u001b[39;00m \u001b[39mself\u001b[39m\u001b[39m.\u001b[39mreduce \u001b[39m!=\u001b[39m AverageMethod\u001b[39m.\u001b[39mSAMPLES \u001b[39mand\u001b[39;00m \u001b[39mself\u001b[39m\u001b[39m.\u001b[39mmdmc_reduce \u001b[39m!=\u001b[39m MDMCAverageMethod\u001b[39m.\u001b[39mSAMPLEWISE:\n",
            "File \u001b[1;32mc:\\Users\\androgo\\anaconda3\\envs\\pytorch_env\\lib\\site-packages\\torchmetrics\\functional\\classification\\stat_scores.py:154\u001b[0m, in \u001b[0;36m_stat_scores_update\u001b[1;34m(preds, target, reduce, mdmc_reduce, num_classes, top_k, threshold, multiclass, ignore_index, mode)\u001b[0m\n\u001b[0;32m    151\u001b[0m     preds, target \u001b[39m=\u001b[39m _drop_negative_ignored_indices(preds, target, ignore_index, mode)\n\u001b[0;32m    152\u001b[0m     _negative_index_dropped \u001b[39m=\u001b[39m \u001b[39mTrue\u001b[39;00m\n\u001b[1;32m--> 154\u001b[0m preds, target, _ \u001b[39m=\u001b[39m _input_format_classification(\n\u001b[0;32m    155\u001b[0m     preds,\n\u001b[0;32m    156\u001b[0m     target,\n\u001b[0;32m    157\u001b[0m     threshold\u001b[39m=\u001b[39;49mthreshold,\n\u001b[0;32m    158\u001b[0m     num_classes\u001b[39m=\u001b[39;49mnum_classes,\n\u001b[0;32m    159\u001b[0m     multiclass\u001b[39m=\u001b[39;49mmulticlass,\n\u001b[0;32m    160\u001b[0m     top_k\u001b[39m=\u001b[39;49mtop_k,\n\u001b[0;32m    161\u001b[0m     ignore_index\u001b[39m=\u001b[39;49mignore_index,\n\u001b[0;32m    162\u001b[0m )\n\u001b[0;32m    164\u001b[0m \u001b[39mif\u001b[39;00m ignore_index \u001b[39mis\u001b[39;00m \u001b[39mnot\u001b[39;00m \u001b[39mNone\u001b[39;00m \u001b[39mand\u001b[39;00m ignore_index \u001b[39m>\u001b[39m\u001b[39m=\u001b[39m preds\u001b[39m.\u001b[39mshape[\u001b[39m1\u001b[39m]:\n\u001b[0;32m    165\u001b[0m     \u001b[39mraise\u001b[39;00m \u001b[39mValueError\u001b[39;00m(\u001b[39mf\u001b[39m\u001b[39m\"\u001b[39m\u001b[39mThe `ignore_index` \u001b[39m\u001b[39m{\u001b[39;00mignore_index\u001b[39m}\u001b[39;00m\u001b[39m is not valid for inputs with \u001b[39m\u001b[39m{\u001b[39;00mpreds\u001b[39m.\u001b[39mshape[\u001b[39m1\u001b[39m]\u001b[39m}\u001b[39;00m\u001b[39m classes\u001b[39m\u001b[39m\"\u001b[39m)\n",
            "File \u001b[1;32mc:\\Users\\androgo\\anaconda3\\envs\\pytorch_env\\lib\\site-packages\\torchmetrics\\utilities\\checks.py:410\u001b[0m, in \u001b[0;36m_input_format_classification\u001b[1;34m(preds, target, threshold, top_k, num_classes, multiclass, ignore_index)\u001b[0m\n\u001b[0;32m    407\u001b[0m \u001b[39mif\u001b[39;00m preds\u001b[39m.\u001b[39mdtype \u001b[39m==\u001b[39m torch\u001b[39m.\u001b[39mfloat16:\n\u001b[0;32m    408\u001b[0m     preds \u001b[39m=\u001b[39m preds\u001b[39m.\u001b[39mfloat()\n\u001b[1;32m--> 410\u001b[0m case \u001b[39m=\u001b[39m _check_classification_inputs(\n\u001b[0;32m    411\u001b[0m     preds,\n\u001b[0;32m    412\u001b[0m     target,\n\u001b[0;32m    413\u001b[0m     threshold\u001b[39m=\u001b[39;49mthreshold,\n\u001b[0;32m    414\u001b[0m     num_classes\u001b[39m=\u001b[39;49mnum_classes,\n\u001b[0;32m    415\u001b[0m     multiclass\u001b[39m=\u001b[39;49mmulticlass,\n\u001b[0;32m    416\u001b[0m     top_k\u001b[39m=\u001b[39;49mtop_k,\n\u001b[0;32m    417\u001b[0m     ignore_index\u001b[39m=\u001b[39;49mignore_index,\n\u001b[0;32m    418\u001b[0m )\n\u001b[0;32m    420\u001b[0m \u001b[39mif\u001b[39;00m case \u001b[39min\u001b[39;00m (DataType\u001b[39m.\u001b[39mBINARY, DataType\u001b[39m.\u001b[39mMULTILABEL) \u001b[39mand\u001b[39;00m \u001b[39mnot\u001b[39;00m top_k:\n\u001b[0;32m    421\u001b[0m     preds \u001b[39m=\u001b[39m (preds \u001b[39m>\u001b[39m\u001b[39m=\u001b[39m threshold)\u001b[39m.\u001b[39mint()\n",
            "File \u001b[1;32mc:\\Users\\androgo\\anaconda3\\envs\\pytorch_env\\lib\\site-packages\\torchmetrics\\utilities\\checks.py:290\u001b[0m, in \u001b[0;36m_check_classification_inputs\u001b[1;34m(preds, target, threshold, num_classes, multiclass, top_k, ignore_index)\u001b[0m\n\u001b[0;32m    288\u001b[0m     _check_num_classes_binary(num_classes, multiclass)\n\u001b[0;32m    289\u001b[0m \u001b[39melif\u001b[39;00m case \u001b[39min\u001b[39;00m (DataType\u001b[39m.\u001b[39mMULTICLASS, DataType\u001b[39m.\u001b[39mMULTIDIM_MULTICLASS):\n\u001b[1;32m--> 290\u001b[0m     _check_num_classes_mc(preds, target, num_classes, multiclass, implied_classes)\n\u001b[0;32m    291\u001b[0m \u001b[39melif\u001b[39;00m case\u001b[39m.\u001b[39mMULTILABEL:\n\u001b[0;32m    292\u001b[0m     _check_num_classes_ml(num_classes, multiclass, implied_classes)\n",
            "File \u001b[1;32mc:\\Users\\androgo\\anaconda3\\envs\\pytorch_env\\lib\\site-packages\\torchmetrics\\utilities\\checks.py:154\u001b[0m, in \u001b[0;36m_check_num_classes_mc\u001b[1;34m(preds, target, num_classes, multiclass, implied_classes)\u001b[0m\n\u001b[0;32m    150\u001b[0m \u001b[39m\"\"\"This checks that the consistency of `num_classes` with the data and `multiclass` param for (multi-\u001b[39;00m\n\u001b[0;32m    151\u001b[0m \u001b[39mdimensional) multi-class data.\"\"\"\u001b[39;00m\n\u001b[0;32m    153\u001b[0m \u001b[39mif\u001b[39;00m num_classes \u001b[39m==\u001b[39m \u001b[39m1\u001b[39m \u001b[39mand\u001b[39;00m multiclass \u001b[39mis\u001b[39;00m \u001b[39mnot\u001b[39;00m \u001b[39mFalse\u001b[39;00m:\n\u001b[1;32m--> 154\u001b[0m     \u001b[39mraise\u001b[39;00m \u001b[39mValueError\u001b[39;00m(\n\u001b[0;32m    155\u001b[0m         \u001b[39m\"\u001b[39m\u001b[39mYou have set `num_classes=1`, but predictions are integers.\u001b[39m\u001b[39m\"\u001b[39m\n\u001b[0;32m    156\u001b[0m         \u001b[39m\"\u001b[39m\u001b[39m If you want to convert (multi-dimensional) multi-class data with 2 classes\u001b[39m\u001b[39m\"\u001b[39m\n\u001b[0;32m    157\u001b[0m         \u001b[39m\"\u001b[39m\u001b[39m to binary/multi-label, set `multiclass=False`.\u001b[39m\u001b[39m\"\u001b[39m\n\u001b[0;32m    158\u001b[0m     )\n\u001b[0;32m    159\u001b[0m \u001b[39mif\u001b[39;00m num_classes \u001b[39m>\u001b[39m \u001b[39m1\u001b[39m:\n\u001b[0;32m    160\u001b[0m     \u001b[39mif\u001b[39;00m multiclass \u001b[39mis\u001b[39;00m \u001b[39mFalse\u001b[39;00m \u001b[39mand\u001b[39;00m implied_classes \u001b[39m!=\u001b[39m num_classes:\n",
            "\u001b[1;31mValueError\u001b[0m: You have set `num_classes=1`, but predictions are integers. If you want to convert (multi-dimensional) multi-class data with 2 classes to binary/multi-label, set `multiclass=False`."
          ]
        }
      ],
      "source": [
        "import neural_net_model_train\n",
        "\n",
        "evals=neural_net_model_train.ModelsEvaluations()\n",
        "\n",
        "neural_net_model_train.number_of_classes=1\n",
        "for i in range(10):\n",
        "    \n",
        "    y_true = torch.randint(low=0, high=2, size=(10,1)).to(neural_net_model_train.DEVICE)\n",
        "    y_pred = torch.randint(low=0, high=2, size=(10,1)).to(neural_net_model_train.DEVICE)\n",
        "    \n",
        "    abc = evals.updateEvaluationEpochStep(y_true, y_pred)\n",
        "    print('Batch accuracy:', abc)\n",
        "    \n",
        "_accuracy_epoch,  _f1_score_epoch, _auroc_score_epoch=evals.getEvaluationEpoch()\n"
      ]
    },
    {
      "cell_type": "code",
      "execution_count": 18,
      "metadata": {},
      "outputs": [
        {
          "data": {
            "text/plain": [
              "<torch._C.Generator at 0x1ade0e330f0>"
            ]
          },
          "execution_count": 18,
          "metadata": {},
          "output_type": "execute_result"
        }
      ],
      "source": [
        "from torchmetrics.classification import Accuracy\n",
        "import torch\n",
        "\n",
        "train_acc = Accuracy()\n",
        "torch.manual_seed(123)"
      ]
    },
    {
      "cell_type": "code",
      "execution_count": 23,
      "metadata": {},
      "outputs": [
        {
          "name": "stdout",
          "output_type": "stream",
          "text": [
            "Batch accuracy: None\n",
            "Batch accuracy: None\n",
            "Batch accuracy: None\n",
            "Batch accuracy: None\n",
            "Batch accuracy: None\n",
            "Batch accuracy: None\n",
            "Batch accuracy: None\n",
            "Batch accuracy: None\n",
            "Batch accuracy: None\n",
            "Batch accuracy: None\n",
            "Overall accuracy: tensor(0.5200)\n",
            "Overall accuracy: tensor(0.5200)\n"
          ]
        },
        {
          "data": {
            "text/plain": [
              "tensor(0.)"
            ]
          },
          "execution_count": 23,
          "metadata": {},
          "output_type": "execute_result"
        }
      ],
      "source": [
        "\n",
        "\n",
        "for i in range(10):\n",
        "    \n",
        "    y_true = torch.randint(low=0, high=2, size=(10,))\n",
        "    y_pred = torch.randint(low=0, high=2, size=(10,))\n",
        "    \n",
        "    abc = train_acc.update(y_true, y_pred)\n",
        "    print('Batch accuracy:', abc)\n",
        "    \n",
        "print('Overall accuracy:', train_acc.compute())\n",
        "print('Overall accuracy:', train_acc.compute())\n",
        "\n",
        "train_acc.reset()\n",
        "train_acc.compute()\n"
      ]
    },
    {
      "cell_type": "code",
      "execution_count": 4,
      "metadata": {},
      "outputs": [
        {
          "data": {
            "text/plain": [
              "'hhhh'"
            ]
          },
          "execution_count": 4,
          "metadata": {},
          "output_type": "execute_result"
        }
      ],
      "source": [
        "from dataclasses import dataclass\n",
        "\n",
        "@dataclass \n",
        "class DataInputParams:\n",
        "    evaluation_function :str\n",
        "    input_features:int\n",
        "    USE_AUTOMATIC_MIXED_PRECISION :bool\n",
        "    \n",
        "ddd=DataInputParams(evaluation_function='f1_score', input_features=2, USE_AUTOMATIC_MIXED_PRECISION=False)\n",
        "\n",
        "@dataclass\n",
        "class CNNDataInputParams(DataInputParams):\n",
        "    # super().number_of_classes\n",
        "    use_gru_instead_of_lstm: bool\n",
        "  \n",
        "ddd2=CNNDataInputParams(evaluation_function='acc', input_features=5, USE_AUTOMATIC_MIXED_PRECISION=True, use_gru_instead_of_lstm=False)\n",
        "ddd.evaluation_function='hhhh'\n",
        "ddd.evaluation_function"
      ]
    },
    {
      "cell_type": "code",
      "execution_count": 1,
      "metadata": {},
      "outputs": [
        {
          "name": "stdout",
          "output_type": "stream",
          "text": [
            "7\n",
            "7\n"
          ]
        }
      ],
      "source": [
        "from typing import List\n",
        "from dataclasses import dataclass\n",
        "\n",
        "@dataclass \n",
        "class TrialParams:\n",
        "    number_layers :int\n",
        "        \n",
        "    \n",
        "t_params = TrialParams(667)      \n",
        "\n",
        "class ModelsInterface:\n",
        "    def __init__(self, params):\n",
        "        self.params = params\n",
        "        self.number_layers = params.number_layers\n",
        "        \n",
        "    def get_params(self):        \n",
        "        return self.params    \n",
        "\n",
        "\n",
        "nm = ModelsInterface(t_params)\n",
        "t_params.number_layers=7\n",
        "\n",
        "print(nm.get_params().number_layers)\n",
        "print(nm.get_params().number_layers)\n"
      ]
    },
    {
      "cell_type": "code",
      "execution_count": 7,
      "metadata": {},
      "outputs": [
        {
          "data": {
            "text/plain": [
              "__main__.ModelsInterface"
            ]
          },
          "execution_count": 7,
          "metadata": {},
          "output_type": "execute_result"
        }
      ],
      "source": [
        "str_name=type(nm)\n",
        "str_name"
      ]
    },
    {
      "cell_type": "code",
      "execution_count": 15,
      "metadata": {},
      "outputs": [],
      "source": [
        "import torch\n",
        "\n",
        "def init_func(h):\n",
        "    pass\n",
        "\n",
        "def forward_func():\n",
        "    pass\n",
        "\n",
        "NetModel = type(\n",
        "            \"NetModel\",\n",
        "            ( torch.nn.Module,),\n",
        "            {\n",
        "                \"__init__\": init_func,\n",
        "                \"forward\": forward_func,\n",
        "            },\n",
        "        )\n",
        "mlp_model:NetModel = NetModel()"
      ]
    },
    {
      "cell_type": "code",
      "execution_count": 5,
      "metadata": {},
      "outputs": [],
      "source": [
        "from dataclasses import dataclass, field\n",
        "from typing import List, Type\n",
        "\n",
        "@dataclass\n",
        "class MlpTrialParams:\n",
        "    number_layers: int = 0\n",
        "    \n",
        "    _n_units_l = int\n",
        "    _dropout_l = int\n",
        "\n",
        "    # number_layers is the length of the list\n",
        "    # use stack ops\n",
        "    stack_layers: List[tuple[_n_units_l, _dropout_l]] = field(default_factory=lambda: [\"list1\", \"list2\", \"list3\"])\n"
      ]
    },
    {
      "cell_type": "code",
      "execution_count": 11,
      "metadata": {},
      "outputs": [],
      "source": [
        "\n",
        "\n",
        "\n",
        "from enum import Enum, unique\n",
        "\n",
        "@unique\n",
        "class Mistake(Enum):\n",
        "     ONE = 1\n",
        "     TWO = 2\n",
        "     THREE = 3\n",
        "\n",
        "is_one = Mistake.ONE"
      ]
    },
    {
      "cell_type": "code",
      "execution_count": 5,
      "metadata": {},
      "outputs": [
        {
          "name": "stdout",
          "output_type": "stream",
          "text": [
            "1\n",
            "2\n",
            "3\n",
            "4\n",
            "5\n"
          ]
        },
        {
          "data": {
            "text/plain": [
              "[0, 1, 2, 3, 4, 5, 6, 7]"
            ]
          },
          "execution_count": 5,
          "metadata": {},
          "output_type": "execute_result"
        }
      ],
      "source": [
        "for i in [1,2,3,4,5]:\n",
        "    print(i)\n",
        "    \n",
        "\n",
        "lst=[]    \n",
        "for i in range(8):   \n",
        "    lst.append(i) \n",
        "lst    "
      ]
    },
    {
      "cell_type": "code",
      "execution_count": 12,
      "metadata": {},
      "outputs": [
        {
          "data": {
            "text/plain": [
              "0.32999999999999996"
            ]
          },
          "execution_count": 12,
          "metadata": {},
          "output_type": "execute_result"
        }
      ],
      "source": [
        "3e-2 + 0.3"
      ]
    }
  ],
  "metadata": {
    "kernel_info": {
      "name": "python38-azureml-pt-tf"
    },
    "kernelspec": {
      "display_name": "Python 3.10.6 ('pytorch_env')",
      "language": "python",
      "name": "python3"
    },
    "language_info": {
      "codemirror_mode": {
        "name": "ipython",
        "version": 3
      },
      "file_extension": ".py",
      "mimetype": "text/x-python",
      "name": "python",
      "nbconvert_exporter": "python",
      "pygments_lexer": "ipython3",
      "version": "3.10.6"
    },
    "microsoft": {
      "host": {
        "AzureML": {
          "notebookHasBeenCompleted": true
        }
      }
    },
    "nteract": {
      "version": "nteract-front-end@1.0.0"
    },
    "orig_nbformat": 4,
    "vscode": {
      "interpreter": {
        "hash": "201b6068cbed112f118c29a6393440d4ce4dc02105f31305c61d838eb972bb93"
      }
    }
  },
  "nbformat": 4,
  "nbformat_minor": 2
}
