{
  "cells": [
    {
      "cell_type": "code",
      "execution_count": null,
      "metadata": {
        "gather": {
          "logged": 1663668800371
        }
      },
      "outputs": [],
      "source": [
        "def Rob_init(self, name):\n",
        "    self.name = name\n",
        "\n",
        "Robot2 = type(\"Robot2\", \n",
        "              (), \n",
        "              {\"counter\":0, \n",
        "               \"__init__\": Rob_init,\n",
        "               \"sayHello\": lambda self: \"Hi, I am \" + self.name})"
      ]
    },
    {
      "cell_type": "code",
      "execution_count": null,
      "metadata": {
        "gather": {
          "logged": 1663668800397
        }
      },
      "outputs": [
        {
          "name": "stdout",
          "output_type": "stream",
          "text": [
            "Marvin\n",
            "Hi, I am Marvin\n"
          ]
        }
      ],
      "source": [
        "x = Robot2(\"Marvin\")\n",
        "print(x.name)\n",
        "print(x.sayHello())"
      ]
    },
    {
      "cell_type": "code",
      "execution_count": null,
      "metadata": {
        "gather": {
          "logged": 1663668800420
        }
      },
      "outputs": [
        {
          "name": "stdout",
          "output_type": "stream",
          "text": [
            "You are driving the car\n",
            "true1\n",
            "true2\n",
            "57\n"
          ]
        }
      ],
      "source": [
        "from ast import arg\n",
        "from unicodedata import name\n",
        "\n",
        "\n",
        "def func1(x):\n",
        "    return 5+x\n",
        "\n",
        "def solve_for(self, name:str, args):\n",
        "    do = f\"cv2\"\n",
        "    if hasattr(self, do):\n",
        "            print('true1')\n",
        "            if callable(func := getattr(self, do)):\n",
        "                print('true2')\n",
        "                res=getattr(self, do)(args)\n",
        "                print(res)\n",
        "\n",
        "                # func(args)\n",
        "\n",
        "def init_func(self, color):\n",
        "        self._color = color\n",
        "        setattr(self,'cv'+str(2), func1)\n",
        "\n",
        "def drive(self):\n",
        "    print(\"You are driving the car\")\n",
        "\n",
        "Car = type(\n",
        "    'Car',\n",
        "    (object,),\n",
        "    {\n",
        "        '__init__': init_func,\n",
        "        'drive': drive,\n",
        "        'solve_for':solve_for\n",
        "    })\n",
        "\n",
        "my_car = Car('red')\n",
        "my_car.drive()\n",
        "my_car.__init__('red')\n",
        "# exec(f\"my_car.cv2()\")\n",
        "# my_car.cv2(6)\n",
        "my_car.solve_for(name='name:str',args= 52)\n"
      ]
    },
    {
      "cell_type": "code",
      "execution_count": null,
      "metadata": {
        "gather": {
          "logged": 1663668800444
        }
      },
      "outputs": [
        {
          "data": {
            "text/plain": [
              "'cv22'"
            ]
          },
          "execution_count": 62,
          "metadata": {},
          "output_type": "execute_result"
        }
      ],
      "source": [
        "f\"cv2\" + str(2)"
      ]
    },
    {
      "cell_type": "code",
      "execution_count": null,
      "metadata": {
        "gather": {
          "logged": 1663668800461
        }
      },
      "outputs": [
        {
          "name": "stdout",
          "output_type": "stream",
          "text": [
            "0\n",
            "1\n",
            "2\n",
            "3\n",
            "4\n",
            "5\n",
            "6\n",
            "7\n",
            "8\n",
            "9\n"
          ]
        }
      ],
      "source": [
        "# Define functions f_0 to f_9\n",
        "for i in range(10):\n",
        "    exec(f\"def f_{i}(): print({i})\")\n",
        "# Run functions f_0 to f_9\n",
        "for i in range(10):\n",
        "    exec(f\"f_{i}()\")"
      ]
    },
    {
      "cell_type": "code",
      "execution_count": null,
      "metadata": {
        "gather": {
          "logged": 1663668800483
        }
      },
      "outputs": [],
      "source": [
        "def solve_for(self, name: str):\n",
        "    do = f\"get_{name}\"\n",
        "    if hasattr(self, do) and callable(getattr(self, do)):\n",
        "        func = getattr(self, do)\n",
        "        func()\n",
        "        \n",
        "        \n",
        "def solve_for(self, name: str, *args, **kwargs):\n",
        "    do = f\"get_{name}\"\n",
        "    if hasattr(self, do) and callable(func := getattr(self, do)):\n",
        "        func(*args, **kwargs)"
      ]
    },
    {
      "cell_type": "code",
      "execution_count": null,
      "metadata": {
        "gather": {
          "logged": 1663668800503
        }
      },
      "outputs": [
        {
          "data": {
            "text/plain": [
              "'y2'"
            ]
          },
          "execution_count": 65,
          "metadata": {},
          "output_type": "execute_result"
        }
      ],
      "source": [
        "'y' + str(2)"
      ]
    },
    {
      "cell_type": "code",
      "execution_count": null,
      "metadata": {
        "gather": {
          "logged": 1663668800526
        }
      },
      "outputs": [
        {
          "name": "stdout",
          "output_type": "stream",
          "text": [
            "[1, 2, 3, 4]\n"
          ]
        },
        {
          "data": {
            "text/plain": [
              "4"
            ]
          },
          "execution_count": 66,
          "metadata": {},
          "output_type": "execute_result"
        }
      ],
      "source": [
        "l = list(range(1, 5))\n",
        "print(l)    # [1, 2, 3, 4]\n",
        "l.pop()"
      ]
    },
    {
      "cell_type": "code",
      "execution_count": null,
      "metadata": {
        "gather": {
          "logged": 1663668800545
        }
      },
      "outputs": [
        {
          "data": {
            "text/plain": [
              "3"
            ]
          },
          "execution_count": 67,
          "metadata": {},
          "output_type": "execute_result"
        }
      ],
      "source": [
        "exec(\"\"\"def a(x):\n",
        "...   return x+1\"\"\")\n",
        "a(2)"
      ]
    },
    {
      "cell_type": "code",
      "execution_count": null,
      "metadata": {
        "gather": {
          "logged": 1663668800564
        }
      },
      "outputs": [
        {
          "name": "stdout",
          "output_type": "stream",
          "text": [
            "self.v = 5\n",
            "self.v2 = 9\n"
          ]
        }
      ],
      "source": [
        "class Foo:\n",
        "    def __init__(self, v):\n",
        "        self.v = v\n",
        "        \n",
        "def my_new_method(self):\n",
        "    print(\"self.v =\", self.v)\n",
        "    \n",
        "def my_new_method2(self,x):\n",
        "    print(\"self.v2 =\", self.v+x)\n",
        "\n",
        "setattr(Foo, 'print_v', my_new_method)\n",
        "setattr(Foo, 'print_v2', my_new_method2)\n",
        "\n",
        "\n",
        "Foo(5).print_v()\n",
        "Foo(5).print_v2(4)"
      ]
    },
    {
      "cell_type": "code",
      "execution_count": null,
      "metadata": {
        "gather": {
          "logged": 1663668800590
        }
      },
      "outputs": [
        {
          "name": "stdout",
          "output_type": "stream",
          "text": [
            "0\n",
            "1\n",
            "2\n",
            "3\n",
            "4\n",
            "5\n",
            "6\n"
          ]
        }
      ],
      "source": [
        "for index in range(7):\n",
        "    print(index)"
      ]
    },
    {
      "cell_type": "code",
      "execution_count": null,
      "metadata": {
        "gather": {
          "logged": 1663668800611
        }
      },
      "outputs": [
        {
          "name": "stdout",
          "output_type": "stream",
          "text": [
            "1\n",
            "2\n",
            "3\n",
            "4\n",
            "5\n",
            "6\n"
          ]
        }
      ],
      "source": [
        "for index in range(1,7):\n",
        "    print(index)\n"
      ]
    },
    {
      "cell_type": "code",
      "execution_count": null,
      "metadata": {},
      "outputs": [
        {
          "name": "stdout",
          "output_type": "stream",
          "text": [
            "tensor([[0.2797, 0.0627, 0.1354, 0.0223, 0.4998],\n",
            "        [0.0665, 0.1286, 0.0821, 0.6873, 0.0354],\n",
            "        [0.1463, 0.0831, 0.3935, 0.2619, 0.1153]])\n",
            "tensor([[0.2132, 0.1716, 0.1846, 0.1648, 0.2657],\n",
            "        [0.1692, 0.1800, 0.1719, 0.3148, 0.1640],\n",
            "        [0.1883, 0.1768, 0.2411, 0.2113, 0.1825]])\n"
          ]
        }
      ],
      "source": [
        "target = torch.randn(3, 5).softmax(dim=1)\n",
        "print(target)\n",
        "target = target.softmax(dim=1)\n",
        "print(target)"
      ]
    },
    {
      "cell_type": "code",
      "execution_count": null,
      "metadata": {},
      "outputs": [],
      "source": [
        "m = nn.Conv1d(16, 33, kernel_size= 5, stride=2)\n",
        "input = torch.randn(20, 16, 50)\n",
        "output = m(input)"
      ]
    },
    {
      "cell_type": "code",
      "execution_count": null,
      "metadata": {},
      "outputs": [
        {
          "data": {
            "text/plain": [
              "torch.Size([32, 100, 2])"
            ]
          },
          "execution_count": 73,
          "metadata": {},
          "output_type": "execute_result"
        }
      ],
      "source": [
        "from torchinfo import summary\n",
        "\n",
        "m = nn.Conv1d(1, 100, kernel_size= 3, stride=60)\n",
        "input = torch.randn(32, 1, 78)\n",
        "output = m(input)\n",
        "output.shape\n"
      ]
    },
    {
      "cell_type": "code",
      "execution_count": null,
      "metadata": {},
      "outputs": [
        {
          "data": {
            "text/plain": [
              "400"
            ]
          },
          "execution_count": 74,
          "metadata": {},
          "output_type": "execute_result"
        }
      ],
      "source": [
        "s=summary(m, input_size=(32, 1, 78))\n",
        "\n",
        "type(s)\n",
        "s.total_params\n",
        "s.trainable_params\n",
        "s.total_params"
      ]
    },
    {
      "cell_type": "code",
      "execution_count": null,
      "metadata": {},
      "outputs": [
        {
          "data": {
            "text/plain": [
              "[32, 100, 2]"
            ]
          },
          "execution_count": 75,
          "metadata": {},
          "output_type": "execute_result"
        }
      ],
      "source": [
        "s=summary(m, input_size=(32, 1, 78), device='cuda')\n",
        "l=s.summary_list[0]\n",
        "l.output_size\n"
      ]
    },
    {
      "cell_type": "code",
      "execution_count": null,
      "metadata": {},
      "outputs": [
        {
          "data": {
            "text/plain": [
              "[1, 64, 56, 75]"
            ]
          },
          "execution_count": 76,
          "metadata": {},
          "output_type": "execute_result"
        }
      ],
      "source": [
        "import torchvision\n",
        "\n",
        "model = torchvision.models.resnet152()\n",
        "s=summary(model, (1, 3, 224, 300), depth=3)\n",
        "l=s.summary_list[4]\n",
        "l.output_size"
      ]
    },
    {
      "cell_type": "code",
      "execution_count": null,
      "metadata": {},
      "outputs": [],
      "source": [
        "import torch\n",
        "import torch.nn as nn"
      ]
    },
    {
      "cell_type": "code",
      "execution_count": null,
      "metadata": {},
      "outputs": [
        {
          "data": {
            "text/plain": [
              "torch.Size([32, 100, 1])"
            ]
          },
          "execution_count": 77,
          "metadata": {},
          "output_type": "execute_result"
        }
      ],
      "source": [
        "m = nn.Conv1d(78, 100, kernel_size= 1, stride=5)\n",
        "input = torch.randn(32, 78, 1)\n",
        "output = m(input)\n",
        "output.shape"
      ]
    },
    {
      "cell_type": "code",
      "execution_count": null,
      "metadata": {},
      "outputs": [
        {
          "name": "stdout",
          "output_type": "stream",
          "text": [
            "tensor([[-0.2892,  0.9355,  0.2475],\n",
            "        [-1.2642,  0.0045, -0.6432]])\n"
          ]
        },
        {
          "data": {
            "text/plain": [
              "tensor([[ 0.2979],\n",
              "        [-0.6343]])"
            ]
          },
          "execution_count": 78,
          "metadata": {},
          "output_type": "execute_result"
        }
      ],
      "source": [
        "# pool with window of size=3, stride=2\n",
        "m = nn.AvgPool1d(3, stride=2)\n",
        "target = torch.randn(2, 3)\n",
        "print(target)\n",
        "m(target)"
      ]
    },
    {
      "cell_type": "code",
      "execution_count": null,
      "metadata": {},
      "outputs": [
        {
          "name": "stdout",
          "output_type": "stream",
          "text": [
            "torch.Size([2, 100])\n"
          ]
        }
      ],
      "source": [
        "# With Learnable Parameters\n",
        "m = nn.BatchNorm1d(100)\n",
        "# Without Learnable Parameters\n",
        "m = nn.BatchNorm1d(100, affine=False)\n",
        "input = torch.randn(2, 100)\n",
        "output = m(input)\n",
        "print(output.shape)"
      ]
    },
    {
      "cell_type": "code",
      "execution_count": null,
      "metadata": {},
      "outputs": [
        {
          "data": {
            "text/plain": [
              "torch.Size([5, 3, 20])"
            ]
          },
          "execution_count": 80,
          "metadata": {},
          "output_type": "execute_result"
        }
      ],
      "source": [
        "rnn = nn.GRU(input_size=10, hidden_size = 20, num_layers =2)\n",
        "input = torch.randn(5, 3, 10)\n",
        "h0 = torch.randn(2, 3, 20)\n",
        "output, hn = rnn(input, h0)\n",
        "output.shape"
      ]
    },
    {
      "cell_type": "code",
      "execution_count": null,
      "metadata": {},
      "outputs": [
        {
          "data": {
            "text/plain": [
              "torch.Size([32, 284, 1])"
            ]
          },
          "execution_count": 81,
          "metadata": {},
          "output_type": "execute_result"
        }
      ],
      "source": [
        "       \n",
        "input = torch.randn(32, 1, 284)       \n",
        "outputs = input.permute(0, 2, 1)\n",
        "outputs.shape"
      ]
    },
    {
      "cell_type": "code",
      "execution_count": null,
      "metadata": {},
      "outputs": [
        {
          "data": {
            "text/plain": [
              "torch.Size([32, 284])"
            ]
          },
          "execution_count": 82,
          "metadata": {},
          "output_type": "execute_result"
        }
      ],
      "source": [
        "input = torch.randn(32, 1, 284)       \n",
        "input=input.squeeze()\n",
        "input.shape"
      ]
    },
    {
      "cell_type": "code",
      "execution_count": null,
      "metadata": {},
      "outputs": [
        {
          "data": {
            "text/plain": [
              "torch.Size([96, 284])"
            ]
          },
          "execution_count": 83,
          "metadata": {},
          "output_type": "execute_result"
        }
      ],
      "source": [
        "input = torch.randn(32, 3, 284)       \n",
        "\n",
        "input=input.view(-1,284)\n",
        "input.shape"
      ]
    },
    {
      "cell_type": "code",
      "execution_count": 5,
      "metadata": {},
      "outputs": [
        {
          "name": "stdout",
          "output_type": "stream",
          "text": [
            "torch.Size([32, 284])\n",
            "torch.Size([32, 284])\n",
            "torch.Size([1, 32])\n"
          ]
        }
      ],
      "source": [
        "import torch\n",
        "\n",
        "input1 = torch.randn(32, 1, 284)    \n",
        "input2 = torch.randn(32, 284, 1)\n",
        "print(input1.squeeze(1).shape)\n",
        "print(input2.squeeze(2).shape)\n",
        "\n",
        "\n",
        "input3 = torch.randn(32)\n",
        "print(input3.unsqueeze(1).shape)\n"
      ]
    },
    {
      "cell_type": "code",
      "execution_count": null,
      "metadata": {},
      "outputs": [],
      "source": [
        "criterion = torch.nn.CrossEntropyLoss()\n",
        "input = torch.randn(32, 64, 1)  \n",
        "target = torch.randn(32,1) \n",
        "   \n",
        "loss = criterion(input, target.long())\n"
      ]
    },
    {
      "cell_type": "code",
      "execution_count": 9,
      "metadata": {},
      "outputs": [
        {
          "name": "stdout",
          "output_type": "stream",
          "text": [
            "input:  torch.FloatTensor torch.Size([32, 15, 1])\n",
            "target:  torch.LongTensor torch.Size([32, 1])\n",
            "output:  <class 'torch.Tensor'> tensor(3.0617, grad_fn=<NllLoss2DBackward0>)\n"
          ]
        }
      ],
      "source": [
        "import torch\n",
        "\n",
        "\n",
        "criterion = torch.nn.CrossEntropyLoss()\n",
        "\n",
        "input = torch.randn(32, 15, 1, requires_grad=True)\n",
        "print('input: ',input.type(), input.shape)\n",
        "\n",
        "# target = torch.randn(32, 2)\n",
        "# target1 =target.to(dtype=torch.long)\n",
        "# print('target1: ',target1.type(),target1.shape)\n",
        "\n",
        "\n",
        "\n",
        "target = torch.empty(32, 1,  dtype=torch.long).random_(15)\n",
        "\n",
        "print('target: ',target.type(),target.shape)\n",
        "# .long()\n",
        "output = criterion(input, target)\n",
        "output.backward()\n",
        "\n",
        "print('output: ' ,type(output)  , output)"
      ]
    },
    {
      "cell_type": "code",
      "execution_count": null,
      "metadata": {},
      "outputs": [],
      "source": [
        "import torch\n",
        "\n",
        "# Example of target with class indices\n",
        "loss = torch.nn.CrossEntropyLoss()\n",
        "input = torch.randn(3, 5, requires_grad=True)\n",
        "target1 = torch.empty(3, dtype=torch.long).random_(15)\n",
        "print(target1)\n",
        "print('target1: ',target1.type(),target1.shape)\n",
        "\n",
        "\n",
        "output = loss(input, target1)\n",
        "output.backward()\n",
        "\n",
        "# Example of target with class probabilities\n",
        "input = torch.randn(3, 5, requires_grad=True)\n",
        "target2 = torch.randn(3, 5) # .softmax(dim=1)\n",
        "print('target2: ',target2.type(), target2.shape)\n",
        "\n",
        "output = loss(input, target2)\n",
        "output.backward()\n",
        "\n",
        "print('output: ' ,type(output)  , output)"
      ]
    },
    {
      "cell_type": "code",
      "execution_count": 10,
      "metadata": {},
      "outputs": [
        {
          "name": "stdout",
          "output_type": "stream",
          "text": [
            "tensor([[-1.5816, -1.4328,  0.1928],\n",
            "        [ 0.0735, -1.9647,  1.6332]])\n",
            "\n",
            "\n",
            "tensor([[0.1604, 0.6299, 0.1915],\n",
            "        [0.8396, 0.3701, 0.8085]])\n",
            "tensor([[0.1241, 0.1440, 0.7319],\n",
            "        [0.1698, 0.0221, 0.8080]])\n"
          ]
        }
      ],
      "source": [
        "target2 = torch.randn(2, 3)\n",
        "\n",
        "print(target2)\n",
        "print('\\n')\n",
        "print(target2.softmax(dim=0))\n",
        "print(target2.softmax(dim=1))"
      ]
    },
    {
      "cell_type": "code",
      "execution_count": 8,
      "metadata": {},
      "outputs": [
        {
          "name": "stdout",
          "output_type": "stream",
          "text": [
            "torch.Size([32, 2, 32])\n",
            "torch.Size([32, 64])\n"
          ]
        }
      ],
      "source": [
        "import torch\n",
        "\n",
        "target = torch.randn(32,2, 32)\n",
        "print(target.shape)\n",
        "\n",
        "\n",
        "target = target.view(32,-1)\n",
        "print(target.shape)\n",
        "\n"
      ]
    },
    {
      "cell_type": "code",
      "execution_count": 7,
      "metadata": {},
      "outputs": [],
      "source": [
        "try:\n",
        " a = int(input(\"Enter a positive integer: \"))\n",
        " if a <= 0:\n",
        "    raise ValueError(\"That is not a positive number!\")\n",
        "except ValueError as ve:\n",
        "    print(ve)"
      ]
    },
    {
      "cell_type": "code",
      "execution_count": 90,
      "metadata": {},
      "outputs": [
        {
          "data": {
            "text/plain": [
              "tensor(0.0312)"
            ]
          },
          "execution_count": 90,
          "metadata": {},
          "output_type": "execute_result"
        }
      ],
      "source": [
        "from torchmetrics.functional import f1_score\n",
        "\n",
        "\n",
        "target = torch.tensor([0, 1, 2, 0, 1, 2])\n",
        "preds = torch.tensor([0, 2, 1, 0, 0, 1])\n",
        "\n",
        "input = torch.randn(32, 30, 1, requires_grad=True)\n",
        "target = torch.empty(32, 1,  dtype=torch.long).random_(15)\n",
        "\n",
        "\n",
        "f1_score(input, target, num_classes=30)"
      ]
    }
  ],
  "metadata": {
    "kernel_info": {
      "name": "python38-azureml-pt-tf"
    },
    "kernelspec": {
      "display_name": "Python 3.10.6 ('pytorch_env')",
      "language": "python",
      "name": "python3"
    },
    "language_info": {
      "codemirror_mode": {
        "name": "ipython",
        "version": 3
      },
      "file_extension": ".py",
      "mimetype": "text/x-python",
      "name": "python",
      "nbconvert_exporter": "python",
      "pygments_lexer": "ipython3",
      "version": "3.10.6"
    },
    "microsoft": {
      "host": {
        "AzureML": {
          "notebookHasBeenCompleted": true
        }
      }
    },
    "nteract": {
      "version": "nteract-front-end@1.0.0"
    },
    "orig_nbformat": 4,
    "vscode": {
      "interpreter": {
        "hash": "201b6068cbed112f118c29a6393440d4ce4dc02105f31305c61d838eb972bb93"
      }
    }
  },
  "nbformat": 4,
  "nbformat_minor": 2
}
