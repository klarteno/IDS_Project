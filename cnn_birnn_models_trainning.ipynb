{
  "cells": [
    {
      "cell_type": "code",
      "execution_count": 1,
      "metadata": {
        "gather": {
          "logged": 1664553945790
        }
      },
      "outputs": [
        {
          "name": "stderr",
          "output_type": "stream",
          "text": [
            "/anaconda/envs/azureml_py38_PT_TF/lib/python3.8/site-packages/tqdm/auto.py:22: TqdmWarning: IProgress not found. Please update jupyter and ipywidgets. See https://ipywidgets.readthedocs.io/en/stable/user_install.html\n",
            "  from .autonotebook import tqdm as notebook_tqdm\n"
          ]
        },
        {
          "name": "stdout",
          "output_type": "stream",
          "text": [
            "DEVICE found:  cpu\n",
            "number of classes:  15\n",
            "/mnt/batch/tasks/shared/LS_root/mounts/clusters/mycompute1/code/Users/bredsoby\n",
            "X_train__23_features (1789827, 23)\n",
            "X_test__23_features (606432, 23)\n",
            "y_train_binary__23_features (1789827,)\n",
            "0.0     1497160\n",
            "4.0      128632\n",
            "2.0       96004\n",
            "10.0      42979\n",
            "3.0        7709\n",
            "7.0        4110\n",
            "6.0        3967\n",
            "5.0        3882\n",
            "11.0       2303\n",
            "1.0        1457\n",
            "12.0       1084\n",
            "14.0        489\n",
            "9.0          27\n",
            "13.0         16\n",
            "8.0           8\n",
            "dtype: int64\n",
            "Y_test__binary (606432,)\n",
            "classes_y:  [ 0  1  2  3  4  5  6  7  8  9 10 11 12 13 14]\n",
            "class_weights:  [7.96987630e-02 8.18955388e+01 1.24288363e+00 1.54782462e+01\n",
            " 9.27621432e-01 3.07371973e+01 3.00785984e+01 2.90320681e+01\n",
            " 1.49152250e+04 4.41932593e+03 2.77628144e+00 5.18114633e+01\n",
            " 1.10075461e+02 7.45761250e+03 2.44011861e+02]\n",
            "\n",
            "classes_class_weights: \n",
            "{0: 0.08,\n",
            " 1: 81.896,\n",
            " 2: 1.243,\n",
            " 3: 15.478,\n",
            " 4: 0.928,\n",
            " 5: 30.737,\n",
            " 6: 30.079,\n",
            " 7: 29.032,\n",
            " 8: 14915.225,\n",
            " 9: 4419.326,\n",
            " 10: 2.776,\n",
            " 11: 51.811,\n",
            " 12: 110.075,\n",
            " 13: 7457.612,\n",
            " 14: 244.012}\n"
          ]
        }
      ],
      "source": [
        "import torchmetrics\n",
        "import neural_net_model_train\n",
        "\n",
        "import utils_data_load\n",
        "\n",
        "train_loader = utils_data_load.train_loader\n",
        "test_loader = utils_data_load.test_loader\n",
        "\n",
        "input_size = (utils_data_load.X_train).shape[1]\n",
        "number_of_classes = len(utils_data_load.labels_dict)\n",
        "\n",
        "channels = 1\n",
        "batch_size= 32\n",
        "\n",
        "max_epochs = 18\n",
        "\n",
        "args_model = {\n",
        "    'number_of_classes':number_of_classes, \n",
        "    'input_shape' : (32, channels, input_size)\n",
        "    }\n",
        "\n",
        "models_trainning = neural_net_model_train.ModelsTrainning(\n",
        "                    train_loader,\n",
        "                    test_loader,\n",
        "                    max_epochs)\n",
        "\n",
        "def computeMean(values, mean_metric=torchmetrics.MeanMetric(nan_strategy=\"warn\")):\n",
        "    mean_metric.update(values)\n",
        "    mean_value = mean_metric.compute()\n",
        "    mean_metric.reset()\n",
        "\n",
        "    return mean_value"
      ]
    },
    {
      "cell_type": "code",
      "execution_count": 2,
      "metadata": {
        "gather": {
          "logged": 1664553945925
        }
      },
      "outputs": [],
      "source": [
        "import torch\n",
        "# azure setting\n",
        "torch.multiprocessing.set_sharing_strategy('file_system')\n"
      ]
    },
    {
      "cell_type": "markdown",
      "metadata": {},
      "source": [
        "###  Trainning CNN-BIGRU model obtained from optimization with  evaluation function for f1_score"
      ]
    },
    {
      "cell_type": "code",
      "execution_count": 3,
      "metadata": {
        "gather": {
          "logged": 1664553946028
        }
      },
      "outputs": [],
      "source": [
        "# the resulting params from optuna optimization:\n",
        "model_parameters = \"\"\"Best trial:\n",
        "                number of the best trial:  7\n",
        "                  Value: 0.11880768090486526\n",
        "                  Params: \n",
        "                    n_layers: 3\n",
        "                    \n",
        "                    n_units_l0: 70\n",
        "                    no_strides_l0: 3\n",
        "                    n_units_l1: 85\n",
        "                    no_strides_l1: 1\n",
        "                    n_units_l2: 64\n",
        "                    no_strides_l2: 7\n",
        "                    \n",
        "                    dropout_l2: 0.2360531735539034\n",
        "                    learning_rate: 0.010737792310750963\n",
        "                    optimizer: RMSprop\n",
        "                  Evaluation function: f1_score\"\"\""
      ]
    },
    {
      "cell_type": "code",
      "execution_count": 4,
      "metadata": {
        "gather": {
          "logged": 1664553946250
        }
      },
      "outputs": [],
      "source": [
        "%reload_ext autoreload\n",
        "%autoreload 2\n",
        "\n",
        "import torch\n",
        "from torch import nn\n",
        "\n",
        "DEVICE = torch.device(\"cuda:0\" if torch.cuda.is_available() else \"cpu\")\n"
      ]
    },
    {
      "cell_type": "code",
      "execution_count": 5,
      "metadata": {
        "gather": {
          "logged": 1664553946347
        }
      },
      "outputs": [],
      "source": [
        "#the model is made from the best parameters found by optuna \n",
        "\n",
        "class CNN_BIGRU(nn.Module):\n",
        "    def __init__(self,args):\n",
        "        super(CNN_BIGRU, self).__init__()\n",
        "        \n",
        "        kernel_size=3\n",
        "        self.number_of_classes = args[\"number_of_classes\"]\n",
        "        self.input_shape = args[\"input_shape\"]\n",
        "        self.input_size=args[\"input_shape\"][1]\n",
        "        self.batch_size = args[\"input_shape\"][0]\n",
        "        \n",
        "                \n",
        "        self.cv1 = nn.Conv1d(self.input_size, 70, kernel_size=3, stride=3,bias=False)\n",
        "        self.avgp1 = nn.AvgPool1d(kernel_size=3, stride=3)\n",
        "        self.gn1 = nn.GroupNorm(10, 70)\n",
        "        self.lrelu1 = nn.LeakyReLU(inplace=True)\n",
        "\n",
        "        self.cv2 = nn.Conv1d(70, 85, kernel_size=1, stride=1,bias=False)\n",
        "        self.avgp2 = nn.AvgPool1d(kernel_size=1, stride=1)\n",
        "        self.gn2 = nn.GroupNorm(17, 85)\n",
        "        self.lrelu2 = nn.LeakyReLU(inplace=True)\n",
        "\n",
        "        self.cv3 = nn.Conv1d(85, 64, kernel_size=1, stride=7,bias=False)\n",
        "        self.avgp3 = nn.AvgPool1d(kernel_size=1, stride=7)\n",
        "        self.gn3 = nn.GroupNorm(16, 64)\n",
        "        self.lrelu3 = nn.LeakyReLU(inplace=True)\n",
        "\n",
        "\n",
        "\n",
        "        #Expected hidden size (4, 32, 128), got [4, 32, 64]\n",
        "        self.bigru =nn.GRU(\n",
        "                    input_size=64,\n",
        "                    hidden_size=64 * 2,\n",
        "                    #hidden_size=64,\n",
        "                    num_layers=2,\n",
        "                    batch_first=True,\n",
        "                    dropout=0.236,\n",
        "                    bidirectional=True,\n",
        "                    )\n",
        "\n",
        "        self.fc_output = nn.Linear(64*4, self.batch_size)\n",
        "        #self.fc_output = nn.Linear(64*2, self.batch_size)\n",
        "        \n",
        "        self.initialize_weights()\n",
        "        \n",
        "    def forward(self, x):\n",
        "        out = self.cv1(x)\n",
        "        assert not torch.isnan(out).any()\n",
        "        out = self.avgp1(out)\n",
        "        out = self.gn1(out)\n",
        "        out = self.lrelu1(out)\n",
        "        \n",
        "        out = self.cv2(out)\n",
        "        assert not torch.isnan(out).any()\n",
        "        out = self.avgp2(out)\n",
        "        out = self.gn2(out)\n",
        "        out = self.lrelu2(out)\n",
        "        \n",
        "        \n",
        "        out = self.cv3(out)\n",
        "        assert not torch.isnan(out).any()\n",
        "        out = self.avgp3(out)\n",
        "        out = self.gn3(out)\n",
        "        out = self.lrelu3(out)        \n",
        "        \n",
        "        outputs = torch.transpose(out, 1, 2)\n",
        "        \n",
        "        h0 = torch.zeros( 2 * 2, outputs.size(0), 64*2).to(DEVICE)\n",
        "        outputs, hidden = self.bigru(outputs, h0)\n",
        "        assert not torch.isnan(outputs).any()\n",
        "\n",
        "        outputs = self.fc_output(outputs)\n",
        "        assert not torch.isnan(outputs).any()\n",
        "\n",
        "        outputs = outputs.view(batch_size, -1)\n",
        "        linear_output = (nn.Linear(outputs.shape[1], number_of_classes)).to(DEVICE)\n",
        "            \n",
        "        # apply Linear to get shape of: (batch_size,number_of_classes)\n",
        "        # the Linear is generated in this way to make the output fit the required shape and to let RNN layer be as wide as possible\n",
        "        outputs = linear_output(outputs)            \n",
        "        assert not torch.isnan(outputs).any()\n",
        "                    \n",
        "        # reshaped because CrossEntropyLoss has to match the target\n",
        "        outputs = outputs.unsqueeze(2)\n",
        "        \n",
        "        return outputs\n",
        "    \n",
        "    def initialize_weights(self):\n",
        "        for m in self.modules():\n",
        "            if isinstance(m, nn.Conv1d):\n",
        "                nn.init.kaiming_uniform_(m.weight.data, nonlinearity=\"leaky_relu\")\n",
        "                if m.bias is not None:\n",
        "                    nn.init.constant_(m.bias.data, 0)\n",
        "            elif isinstance(m, nn.Linear):\n",
        "                torch.nn.init.kaiming_uniform_(m.weight.data, nonlinearity=\"leaky_relu\")\n",
        "                if m.bias is not None:\n",
        "                    nn.init.constant_(m.bias.data, 0)\n",
        "            elif isinstance(m, nn.GroupNorm):\n",
        "                nn.init.constant_(m.weight.data, 1)\n",
        "                nn.init.constant_(m.bias.data, 0)\n",
        "                "
      ]
    },
    {
      "cell_type": "code",
      "execution_count": 6,
      "metadata": {
        "gather": {
          "logged": 1664553946504
        }
      },
      "outputs": [],
      "source": [
        "cnn_bigru_model = CNN_BIGRU(args_model)\n",
        "\n",
        "optimizer = torch.optim.RMSprop(cnn_bigru_model.parameters(), lr=0.01073, alpha=0.99, eps=1e-08, centered=False)   "
      ]
    },
    {
      "cell_type": "code",
      "execution_count": 7,
      "metadata": {
        "gather": {
          "logged": 1664570254733
        }
      },
      "outputs": [
        {
          "name": "stderr",
          "output_type": "stream",
          "text": [
            "/anaconda/envs/azureml_py38_PT_TF/lib/python3.8/site-packages/torchmetrics/utilities/prints.py:36: UserWarning: Metric `AUROC` will save all targets and predictions in buffer. For large datasets this may lead to large memory footprint.\n",
            "  warnings.warn(*args, **kwargs)\n",
            "100%|██████████| 55932/55932 [13:59<00:00, 66.63it/s]\n",
            "100%|██████████| 55932/55932 [16:18<00:00, 57.15it/s]\n",
            "100%|██████████| 55932/55932 [14:42<00:00, 63.35it/s]\n",
            "100%|██████████| 55932/55932 [14:52<00:00, 62.68it/s]\n",
            "100%|██████████| 55932/55932 [14:51<00:00, 62.72it/s]\n",
            "100%|██████████| 55932/55932 [15:12<00:00, 61.29it/s]\n",
            "100%|██████████| 55932/55932 [14:49<00:00, 62.91it/s]\n",
            "100%|██████████| 55932/55932 [14:50<00:00, 62.80it/s]\n",
            "100%|██████████| 55932/55932 [14:35<00:00, 63.90it/s]\n",
            "100%|██████████| 55932/55932 [14:41<00:00, 63.46it/s]\n",
            "100%|██████████| 55932/55932 [14:44<00:00, 63.23it/s]\n",
            "100%|██████████| 55932/55932 [14:44<00:00, 63.21it/s]\n",
            "100%|██████████| 55932/55932 [14:38<00:00, 63.69it/s]\n",
            "100%|██████████| 55932/55932 [15:07<00:00, 61.61it/s]\n",
            "100%|██████████| 55932/55932 [14:59<00:00, 62.21it/s]\n",
            "100%|██████████| 55932/55932 [15:00<00:00, 62.10it/s]\n",
            "100%|██████████| 55932/55932 [14:45<00:00, 63.16it/s]\n",
            "100%|██████████| 55932/55932 [15:07<00:00, 61.65it/s]\n"
          ]
        }
      ],
      "source": [
        "models_trainning.setParameters(\n",
        "            net_model=cnn_bigru_model,\n",
        "            optimizer=optimizer\n",
        "        )\n",
        "\n",
        "accuracies_scores, loss_scores, f1_scores, auroc_scores = models_trainning.trainNetModel()"
      ]
    },
    {
      "cell_type": "code",
      "execution_count": 8,
      "metadata": {
        "gather": {
          "logged": 1664570255102
        }
      },
      "outputs": [
        {
          "name": "stdout",
          "output_type": "stream",
          "text": [
            "\n",
            "Train set: Average loss: 0.0667, Average accuracy: 2.7447%,\n",
            " \t Average f1_score: 0.0667, Average Area Under ROC: 0.5000 \n",
            "\n"
          ]
        }
      ],
      "source": [
        "print( \"\\nTrain set: Average loss: {:.4f}, Average accuracy: {:.4f}%,\\n \\t Average f1_score: {:.4f}, Average Area Under ROC: {:.4f} \\n\".format(\n",
        "                computeMean(accuracies_scores),\n",
        "                computeMean(loss_scores),\n",
        "                computeMean(f1_scores),\n",
        "                computeMean(auroc_scores),\n",
        "            )\n",
        "        )\n",
        "\n",
        "checkpoint = models_trainning.getModelCheckpoint()\n",
        "torch.save(checkpoint, \"best_optimized_models/cnn/f1_score/\"+\"cnnbigru_trainned_\"+ str(max_epochs))   "
      ]
    },
    {
      "cell_type": "code",
      "execution_count": 9,
      "metadata": {
        "gather": {
          "logged": 1664570257354
        }
      },
      "outputs": [
        {
          "data": {
            "image/png": "[encoded data removed]",
            "text/plain": [
              "<Figure size 432x288 with 2 Axes>"
            ]
          },
          "metadata": {
            "needs_background": "light"
          },
          "output_type": "display_data"
        },
        {
          "data": {
            "image/png": "[encoded data removed]",
            "text/plain": [
              "<Figure size 432x288 with 2 Axes>"
            ]
          },
          "metadata": {
            "needs_background": "light"
          },
          "output_type": "display_data"
        },
        {
          "data": {
            "image/png": "[encoded data removed]",
            "text/plain": [
              "<Figure size 432x288 with 2 Axes>"
            ]
          },
          "metadata": {
            "needs_background": "light"
          },
          "output_type": "display_data"
        },
        {
          "data": {
            "image/png": "[encoded data removed]",
            "text/plain": [
              "<Figure size 432x288 with 2 Axes>"
            ]
          },
          "metadata": {
            "needs_background": "light"
          },
          "output_type": "display_data"
        },
        {
          "data": {
            "image/png": "[encoded data removed]",
            "text/plain": [
              "<Figure size 432x288 with 2 Axes>"
            ]
          },
          "metadata": {
            "needs_background": "light"
          },
          "output_type": "display_data"
        }
      ],
      "source": [
        "from utils.helper_plotting import plotEvaluationResults\n",
        "\n",
        "plotEvaluationResults(accuracies_scores,loss_scores,f1_scores,auroc_scores,max_epochs, label=\"MLP_ver1\")"
      ]
    },
    {
      "cell_type": "code",
      "execution_count": 10,
      "metadata": {
        "gather": {
          "logged": 1664570398109
        }
      },
      "outputs": [
        {
          "name": "stderr",
          "output_type": "stream",
          "text": [
            "100%|██████████| 18951/18951 [02:13<00:00, 142.26it/s]\n"
          ]
        },
        {
          "name": "stdout",
          "output_type": "stream",
          "text": [
            "\n",
            "Test set: Average loss: 2.7287, Average accuracy: 0.0671%,\n",
            " \t  Average f1_score: 0.1131, Average Area Under ROC: 0.4735 \n",
            "\n"
          ]
        }
      ],
      "source": [
        "models_trainning.testNetModel()"
      ]
    }
  ],
  "metadata": {
    "kernel_info": {
      "name": "python38-azureml-pt-tf"
    },
    "kernelspec": {
      "display_name": "Python 3.10.6 ('pytorch_env')",
      "language": "python",
      "name": "python3"
    },
    "language_info": {
      "codemirror_mode": {
        "name": "ipython",
        "version": 3
      },
      "file_extension": ".py",
      "mimetype": "text/x-python",
      "name": "python",
      "nbconvert_exporter": "python",
      "pygments_lexer": "ipython3",
      "version": "3.10.6"
    },
    "microsoft": {
      "host": {
        "AzureML": {
          "notebookHasBeenCompleted": true
        }
      }
    },
    "nteract": {
      "version": "nteract-front-end@1.0.0"
    },
    "orig_nbformat": 4,
    "vscode": {
      "interpreter": {
        "hash": "201b6068cbed112f118c29a6393440d4ce4dc02105f31305c61d838eb972bb93"
      }
    }
  },
  "nbformat": 4,
  "nbformat_minor": 2
}
